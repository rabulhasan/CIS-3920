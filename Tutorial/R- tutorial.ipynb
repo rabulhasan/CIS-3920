{
 "cells": [
  {
   "cell_type": "code",
   "execution_count": 1,
   "id": "worst-browser",
   "metadata": {},
   "outputs": [
    {
     "data": {
      "text/plain": [
       "  Sepal.Length    Sepal.Width     Petal.Length    Petal.Width   \n",
       " Min.   :4.300   Min.   :2.000   Min.   :1.000   Min.   :0.100  \n",
       " 1st Qu.:5.100   1st Qu.:2.800   1st Qu.:1.600   1st Qu.:0.300  \n",
       " Median :5.800   Median :3.000   Median :4.350   Median :1.300  \n",
       " Mean   :5.843   Mean   :3.057   Mean   :3.758   Mean   :1.199  \n",
       " 3rd Qu.:6.400   3rd Qu.:3.300   3rd Qu.:5.100   3rd Qu.:1.800  \n",
       " Max.   :7.900   Max.   :4.400   Max.   :6.900   Max.   :2.500  \n",
       "       Species  \n",
       " setosa    :50  \n",
       " versicolor:50  \n",
       " virginica :50  \n",
       "                \n",
       "                \n",
       "                "
      ]
     },
     "metadata": {},
     "output_type": "display_data"
    }
   ],
   "source": [
    "# The datasets package needs to be loaded to access our data \n",
    "# For a full list of these datasets, type library(help = \"datasets\")\n",
    "library(datasets)\n",
    "data(iris)\n",
    "summary(iris)"
   ]
  },
  {
   "cell_type": "code",
   "execution_count": 2,
   "id": "agreed-fiber",
   "metadata": {},
   "outputs": [
    {
     "data": {
      "text/plain": [
       "   Min. 1st Qu.  Median    Mean 3rd Qu.    Max. \n",
       "  4.300   5.100   5.800   5.843   6.400   7.900 "
      ]
     },
     "metadata": {},
     "output_type": "display_data"
    }
   ],
   "source": [
    "# The summary() function gives summary statistics for any dataset. \n",
    "# It can also be called on one variable instead of on the whole dataset. \n",
    "# Try summary(iris$Sepal.Length) and compare that with the above summaries.\n",
    "\n",
    "summary(iris$Sepal.Length)"
   ]
  },
  {
   "cell_type": "code",
   "execution_count": 3,
   "id": "accessible-return",
   "metadata": {},
   "outputs": [
    {
     "name": "stderr",
     "output_type": "stream",
     "text": [
      "Warning message:\n",
      "\"package 'dplyr' was built under R version 3.6.3\"\n",
      "Attaching package: 'dplyr'\n",
      "\n",
      "The following objects are masked from 'package:stats':\n",
      "\n",
      "    filter, lag\n",
      "\n",
      "The following objects are masked from 'package:base':\n",
      "\n",
      "    intersect, setdiff, setequal, union\n",
      "\n"
     ]
    }
   ],
   "source": [
    "names(iris) <- tolower(names(iris))\n",
    "library(dplyr)"
   ]
  },
  {
   "cell_type": "code",
   "execution_count": 4,
   "id": "consolidated-chart",
   "metadata": {},
   "outputs": [
    {
     "data": {
      "text/html": [
       "<table>\n",
       "<thead><tr><th scope=col>sepal.length</th><th scope=col>sepal.width</th><th scope=col>petal.length</th><th scope=col>petal.width</th><th scope=col>species</th></tr></thead>\n",
       "<tbody>\n",
       "\t<tr><td>6.3      </td><td>3.3      </td><td>6.0      </td><td>2.5      </td><td>virginica</td></tr>\n",
       "\t<tr><td>5.8      </td><td>2.7      </td><td>5.1      </td><td>1.9      </td><td>virginica</td></tr>\n",
       "\t<tr><td>7.1      </td><td>3.0      </td><td>5.9      </td><td>2.1      </td><td>virginica</td></tr>\n",
       "\t<tr><td>6.3      </td><td>2.9      </td><td>5.6      </td><td>1.8      </td><td>virginica</td></tr>\n",
       "\t<tr><td>6.5      </td><td>3.0      </td><td>5.8      </td><td>2.2      </td><td>virginica</td></tr>\n",
       "\t<tr><td>7.6      </td><td>3.0      </td><td>6.6      </td><td>2.1      </td><td>virginica</td></tr>\n",
       "</tbody>\n",
       "</table>\n"
      ],
      "text/latex": [
       "\\begin{tabular}{r|lllll}\n",
       " sepal.length & sepal.width & petal.length & petal.width & species\\\\\n",
       "\\hline\n",
       "\t 6.3       & 3.3       & 6.0       & 2.5       & virginica\\\\\n",
       "\t 5.8       & 2.7       & 5.1       & 1.9       & virginica\\\\\n",
       "\t 7.1       & 3.0       & 5.9       & 2.1       & virginica\\\\\n",
       "\t 6.3       & 2.9       & 5.6       & 1.8       & virginica\\\\\n",
       "\t 6.5       & 3.0       & 5.8       & 2.2       & virginica\\\\\n",
       "\t 7.6       & 3.0       & 6.6       & 2.1       & virginica\\\\\n",
       "\\end{tabular}\n"
      ],
      "text/markdown": [
       "\n",
       "| sepal.length | sepal.width | petal.length | petal.width | species |\n",
       "|---|---|---|---|---|\n",
       "| 6.3       | 3.3       | 6.0       | 2.5       | virginica |\n",
       "| 5.8       | 2.7       | 5.1       | 1.9       | virginica |\n",
       "| 7.1       | 3.0       | 5.9       | 2.1       | virginica |\n",
       "| 6.3       | 2.9       | 5.6       | 1.8       | virginica |\n",
       "| 6.5       | 3.0       | 5.8       | 2.2       | virginica |\n",
       "| 7.6       | 3.0       | 6.6       | 2.1       | virginica |\n",
       "\n"
      ],
      "text/plain": [
       "  sepal.length sepal.width petal.length petal.width species  \n",
       "1 6.3          3.3         6.0          2.5         virginica\n",
       "2 5.8          2.7         5.1          1.9         virginica\n",
       "3 7.1          3.0         5.9          2.1         virginica\n",
       "4 6.3          2.9         5.6          1.8         virginica\n",
       "5 6.5          3.0         5.8          2.2         virginica\n",
       "6 7.6          3.0         6.6          2.1         virginica"
      ]
     },
     "metadata": {},
     "output_type": "display_data"
    }
   ],
   "source": [
    "# filter() the data for species virginica\n",
    "virginica <- filter(iris, species == \"virginica\")\n",
    "head(virginica) # This dispalys the first six rows"
   ]
  },
  {
   "cell_type": "code",
   "execution_count": 5,
   "id": "encouraging-grade",
   "metadata": {},
   "outputs": [
    {
     "data": {
      "text/html": [
       "<table>\n",
       "<thead><tr><th></th><th scope=col>sepal.length</th><th scope=col>sepal.width</th><th scope=col>petal.length</th><th scope=col>petal.width</th><th scope=col>species</th></tr></thead>\n",
       "<tbody>\n",
       "\t<tr><th scope=row>36</th><td>6.8      </td><td>3.2      </td><td>5.9      </td><td>2.3      </td><td>virginica</td></tr>\n",
       "\t<tr><th scope=row>37</th><td>6.7      </td><td>3.3      </td><td>5.7      </td><td>2.5      </td><td>virginica</td></tr>\n",
       "\t<tr><th scope=row>38</th><td>6.7      </td><td>3.0      </td><td>5.2      </td><td>2.3      </td><td>virginica</td></tr>\n",
       "\t<tr><th scope=row>39</th><td>6.3      </td><td>2.5      </td><td>5.0      </td><td>1.9      </td><td>virginica</td></tr>\n",
       "\t<tr><th scope=row>40</th><td>6.5      </td><td>3.0      </td><td>5.2      </td><td>2.0      </td><td>virginica</td></tr>\n",
       "\t<tr><th scope=row>41</th><td>6.2      </td><td>3.4      </td><td>5.4      </td><td>2.3      </td><td>virginica</td></tr>\n",
       "</tbody>\n",
       "</table>\n"
      ],
      "text/latex": [
       "\\begin{tabular}{r|lllll}\n",
       "  & sepal.length & sepal.width & petal.length & petal.width & species\\\\\n",
       "\\hline\n",
       "\t36 & 6.8       & 3.2       & 5.9       & 2.3       & virginica\\\\\n",
       "\t37 & 6.7       & 3.3       & 5.7       & 2.5       & virginica\\\\\n",
       "\t38 & 6.7       & 3.0       & 5.2       & 2.3       & virginica\\\\\n",
       "\t39 & 6.3       & 2.5       & 5.0       & 1.9       & virginica\\\\\n",
       "\t40 & 6.5       & 3.0       & 5.2       & 2.0       & virginica\\\\\n",
       "\t41 & 6.2       & 3.4       & 5.4       & 2.3       & virginica\\\\\n",
       "\\end{tabular}\n"
      ],
      "text/markdown": [
       "\n",
       "| <!--/--> | sepal.length | sepal.width | petal.length | petal.width | species |\n",
       "|---|---|---|---|---|---|\n",
       "| 36 | 6.8       | 3.2       | 5.9       | 2.3       | virginica |\n",
       "| 37 | 6.7       | 3.3       | 5.7       | 2.5       | virginica |\n",
       "| 38 | 6.7       | 3.0       | 5.2       | 2.3       | virginica |\n",
       "| 39 | 6.3       | 2.5       | 5.0       | 1.9       | virginica |\n",
       "| 40 | 6.5       | 3.0       | 5.2       | 2.0       | virginica |\n",
       "| 41 | 6.2       | 3.4       | 5.4       | 2.3       | virginica |\n",
       "\n"
      ],
      "text/plain": [
       "   sepal.length sepal.width petal.length petal.width species  \n",
       "36 6.8          3.2         5.9          2.3         virginica\n",
       "37 6.7          3.3         5.7          2.5         virginica\n",
       "38 6.7          3.0         5.2          2.3         virginica\n",
       "39 6.3          2.5         5.0          1.9         virginica\n",
       "40 6.5          3.0         5.2          2.0         virginica\n",
       "41 6.2          3.4         5.4          2.3         virginica"
      ]
     },
     "metadata": {},
     "output_type": "display_data"
    }
   ],
   "source": [
    "sepalLength6 <- filter(iris, species == \"virginica\", sepal.length > 6)\n",
    "tail(sepalLength6) # compare this to head()"
   ]
  },
  {
   "cell_type": "code",
   "execution_count": 6,
   "id": "blessed-margin",
   "metadata": {},
   "outputs": [
    {
     "data": {
      "text/html": [
       "<table>\n",
       "<thead><tr><th></th><th scope=col>sepal.length</th><th scope=col>sepal.width</th><th scope=col>petal.length</th><th scope=col>petal.width</th><th scope=col>species</th></tr></thead>\n",
       "<tbody>\n",
       "\t<tr><th scope=row>101</th><td>6.3      </td><td>3.3      </td><td>6.0      </td><td>2.5      </td><td>virginica</td></tr>\n",
       "\t<tr><th scope=row>103</th><td>7.1      </td><td>3.0      </td><td>5.9      </td><td>2.1      </td><td>virginica</td></tr>\n",
       "\t<tr><th scope=row>104</th><td>6.3      </td><td>2.9      </td><td>5.6      </td><td>1.8      </td><td>virginica</td></tr>\n",
       "\t<tr><th scope=row>105</th><td>6.5      </td><td>3.0      </td><td>5.8      </td><td>2.2      </td><td>virginica</td></tr>\n",
       "\t<tr><th scope=row>106</th><td>7.6      </td><td>3.0      </td><td>6.6      </td><td>2.1      </td><td>virginica</td></tr>\n",
       "\t<tr><th scope=row>108</th><td>7.3      </td><td>2.9      </td><td>6.3      </td><td>1.8      </td><td>virginica</td></tr>\n",
       "</tbody>\n",
       "</table>\n"
      ],
      "text/latex": [
       "\\begin{tabular}{r|lllll}\n",
       "  & sepal.length & sepal.width & petal.length & petal.width & species\\\\\n",
       "\\hline\n",
       "\t101 & 6.3       & 3.3       & 6.0       & 2.5       & virginica\\\\\n",
       "\t103 & 7.1       & 3.0       & 5.9       & 2.1       & virginica\\\\\n",
       "\t104 & 6.3       & 2.9       & 5.6       & 1.8       & virginica\\\\\n",
       "\t105 & 6.5       & 3.0       & 5.8       & 2.2       & virginica\\\\\n",
       "\t106 & 7.6       & 3.0       & 6.6       & 2.1       & virginica\\\\\n",
       "\t108 & 7.3       & 2.9       & 6.3       & 1.8       & virginica\\\\\n",
       "\\end{tabular}\n"
      ],
      "text/markdown": [
       "\n",
       "| <!--/--> | sepal.length | sepal.width | petal.length | petal.width | species |\n",
       "|---|---|---|---|---|---|\n",
       "| 101 | 6.3       | 3.3       | 6.0       | 2.5       | virginica |\n",
       "| 103 | 7.1       | 3.0       | 5.9       | 2.1       | virginica |\n",
       "| 104 | 6.3       | 2.9       | 5.6       | 1.8       | virginica |\n",
       "| 105 | 6.5       | 3.0       | 5.8       | 2.2       | virginica |\n",
       "| 106 | 7.6       | 3.0       | 6.6       | 2.1       | virginica |\n",
       "| 108 | 7.3       | 2.9       | 6.3       | 1.8       | virginica |\n",
       "\n"
      ],
      "text/plain": [
       "    sepal.length sepal.width petal.length petal.width species  \n",
       "101 6.3          3.3         6.0          2.5         virginica\n",
       "103 7.1          3.0         5.9          2.1         virginica\n",
       "104 6.3          2.9         5.6          1.8         virginica\n",
       "105 6.5          3.0         5.8          2.2         virginica\n",
       "106 7.6          3.0         6.6          2.1         virginica\n",
       "108 7.3          2.9         6.3          1.8         virginica"
      ]
     },
     "metadata": {},
     "output_type": "display_data"
    }
   ],
   "source": [
    "# use subset which is same as filter()\n",
    "sepLength6 <- subset(iris, species == \"virginica\" & sepal.length > 6)\n",
    "head(sepLength6)"
   ]
  },
  {
   "cell_type": "code",
   "execution_count": 7,
   "id": "every-consolidation",
   "metadata": {},
   "outputs": [
    {
     "data": {
      "text/html": [
       "<table>\n",
       "<thead><tr><th scope=col>sepal.length</th><th scope=col>sepal.width</th><th scope=col>petal.length</th></tr></thead>\n",
       "<tbody>\n",
       "\t<tr><td>5.1</td><td>3.5</td><td>1.4</td></tr>\n",
       "\t<tr><td>4.9</td><td>3.0</td><td>1.4</td></tr>\n",
       "\t<tr><td>4.7</td><td>3.2</td><td>1.3</td></tr>\n",
       "</tbody>\n",
       "</table>\n"
      ],
      "text/latex": [
       "\\begin{tabular}{r|lll}\n",
       " sepal.length & sepal.width & petal.length\\\\\n",
       "\\hline\n",
       "\t 5.1 & 3.5 & 1.4\\\\\n",
       "\t 4.9 & 3.0 & 1.4\\\\\n",
       "\t 4.7 & 3.2 & 1.3\\\\\n",
       "\\end{tabular}\n"
      ],
      "text/markdown": [
       "\n",
       "| sepal.length | sepal.width | petal.length |\n",
       "|---|---|---|\n",
       "| 5.1 | 3.5 | 1.4 |\n",
       "| 4.9 | 3.0 | 1.4 |\n",
       "| 4.7 | 3.2 | 1.3 |\n",
       "\n"
      ],
      "text/plain": [
       "  sepal.length sepal.width petal.length\n",
       "1 5.1          3.5         1.4         \n",
       "2 4.9          3.0         1.4         \n",
       "3 4.7          3.2         1.3         "
      ]
     },
     "metadata": {},
     "output_type": "display_data"
    }
   ],
   "source": [
    "# use select() command\n",
    "# select() the specified columns\n",
    "selected <- select(iris, sepal.length, sepal.width, petal.length)\n",
    "head(selected, 3)"
   ]
  },
  {
   "cell_type": "code",
   "execution_count": 8,
   "id": "complex-tracker",
   "metadata": {},
   "outputs": [
    {
     "data": {
      "text/html": [
       "<table>\n",
       "<thead><tr><th></th><th scope=col>sepal.length</th><th scope=col>sepal.width</th><th scope=col>petal.length</th><th scope=col>petal.width</th><th scope=col>species</th><th scope=col>greater.half</th></tr></thead>\n",
       "<tbody>\n",
       "\t<tr><th scope=row>145</th><td>6.7      </td><td>3.3      </td><td>5.7      </td><td>2.5      </td><td>virginica</td><td>FALSE    </td></tr>\n",
       "\t<tr><th scope=row>146</th><td>6.7      </td><td>3.0      </td><td>5.2      </td><td>2.3      </td><td>virginica</td><td>FALSE    </td></tr>\n",
       "\t<tr><th scope=row>147</th><td>6.3      </td><td>2.5      </td><td>5.0      </td><td>1.9      </td><td>virginica</td><td>FALSE    </td></tr>\n",
       "\t<tr><th scope=row>148</th><td>6.5      </td><td>3.0      </td><td>5.2      </td><td>2.0      </td><td>virginica</td><td>FALSE    </td></tr>\n",
       "\t<tr><th scope=row>149</th><td>6.2      </td><td>3.4      </td><td>5.4      </td><td>2.3      </td><td>virginica</td><td> TRUE    </td></tr>\n",
       "\t<tr><th scope=row>150</th><td>5.9      </td><td>3.0      </td><td>5.1      </td><td>1.8      </td><td>virginica</td><td> TRUE    </td></tr>\n",
       "</tbody>\n",
       "</table>\n"
      ],
      "text/latex": [
       "\\begin{tabular}{r|llllll}\n",
       "  & sepal.length & sepal.width & petal.length & petal.width & species & greater.half\\\\\n",
       "\\hline\n",
       "\t145 & 6.7       & 3.3       & 5.7       & 2.5       & virginica & FALSE    \\\\\n",
       "\t146 & 6.7       & 3.0       & 5.2       & 2.3       & virginica & FALSE    \\\\\n",
       "\t147 & 6.3       & 2.5       & 5.0       & 1.9       & virginica & FALSE    \\\\\n",
       "\t148 & 6.5       & 3.0       & 5.2       & 2.0       & virginica & FALSE    \\\\\n",
       "\t149 & 6.2       & 3.4       & 5.4       & 2.3       & virginica &  TRUE    \\\\\n",
       "\t150 & 5.9       & 3.0       & 5.1       & 1.8       & virginica &  TRUE    \\\\\n",
       "\\end{tabular}\n"
      ],
      "text/markdown": [
       "\n",
       "| <!--/--> | sepal.length | sepal.width | petal.length | petal.width | species | greater.half |\n",
       "|---|---|---|---|---|---|---|\n",
       "| 145 | 6.7       | 3.3       | 5.7       | 2.5       | virginica | FALSE     |\n",
       "| 146 | 6.7       | 3.0       | 5.2       | 2.3       | virginica | FALSE     |\n",
       "| 147 | 6.3       | 2.5       | 5.0       | 1.9       | virginica | FALSE     |\n",
       "| 148 | 6.5       | 3.0       | 5.2       | 2.0       | virginica | FALSE     |\n",
       "| 149 | 6.2       | 3.4       | 5.4       | 2.3       | virginica |  TRUE     |\n",
       "| 150 | 5.9       | 3.0       | 5.1       | 1.8       | virginica |  TRUE     |\n",
       "\n"
      ],
      "text/plain": [
       "    sepal.length sepal.width petal.length petal.width species   greater.half\n",
       "145 6.7          3.3         5.7          2.5         virginica FALSE       \n",
       "146 6.7          3.0         5.2          2.3         virginica FALSE       \n",
       "147 6.3          2.5         5.0          1.9         virginica FALSE       \n",
       "148 6.5          3.0         5.2          2.0         virginica FALSE       \n",
       "149 6.2          3.4         5.4          2.3         virginica  TRUE       \n",
       "150 5.9          3.0         5.1          1.8         virginica  TRUE       "
      ]
     },
     "metadata": {},
     "output_type": "display_data"
    }
   ],
   "source": [
    "# use mutate() Create new columns using this function\n",
    "# create a new column that stores logical values for sepal.width greater than half of sepal.length\n",
    "newCol <- mutate(iris, greater.half = sepal.width > 0.5 * sepal.length)\n",
    "tail(newCol)"
   ]
  },
  {
   "cell_type": "code",
   "execution_count": 9,
   "id": "latter-carol",
   "metadata": {
    "scrolled": true
   },
   "outputs": [
    {
     "data": {
      "image/png": "[encoded data removed]",
      "text/plain": [
       "plot without title"
      ]
     },
     "metadata": {},
     "output_type": "display_data"
    }
   ],
   "source": [
    "plot(iris)"
   ]
  },
  {
   "cell_type": "code",
   "execution_count": 10,
   "id": "tender-bunny",
   "metadata": {},
   "outputs": [
    {
     "data": {
      "text/html": [
       "<ol class=list-inline>\n",
       "\t<li>150</li>\n",
       "\t<li>5</li>\n",
       "</ol>\n"
      ],
      "text/latex": [
       "\\begin{enumerate*}\n",
       "\\item 150\n",
       "\\item 5\n",
       "\\end{enumerate*}\n"
      ],
      "text/markdown": [
       "1. 150\n",
       "2. 5\n",
       "\n",
       "\n"
      ],
      "text/plain": [
       "[1] 150   5"
      ]
     },
     "metadata": {},
     "output_type": "display_data"
    }
   ],
   "source": [
    "#dimension of the dataset.\n",
    "dim(iris)"
   ]
  },
  {
   "cell_type": "code",
   "execution_count": null,
   "id": "documentary-desktop",
   "metadata": {},
   "outputs": [],
   "source": [
    "# name of the columns\n",
    "names(iris)"
   ]
  },
  {
   "cell_type": "code",
   "execution_count": null,
   "id": "parallel-rider",
   "metadata": {},
   "outputs": [],
   "source": [
    "# attribute of the dataframe \n",
    "attributes(iris)"
   ]
  },
  {
   "cell_type": "code",
   "execution_count": null,
   "id": "closed-amsterdam",
   "metadata": {},
   "outputs": [],
   "source": [
    "# descritive statistics summary \n",
    "summary(iris)"
   ]
  },
  {
   "cell_type": "code",
   "execution_count": null,
   "id": "industrial-pleasure",
   "metadata": {},
   "outputs": [],
   "source": [
    "# indexing first five(5) rows\n",
    "iris[1:5,]"
   ]
  },
  {
   "cell_type": "code",
   "execution_count": null,
   "id": "decreased-tourism",
   "metadata": {},
   "outputs": [],
   "source": [
    "# indexing first 4 columsn \n",
    "iris[,1:4]"
   ]
  },
  {
   "cell_type": "code",
   "execution_count": null,
   "id": "earned-grain",
   "metadata": {},
   "outputs": [],
   "source": [
    "# histogram()\n",
    "sepal_length<-iris$sepal.length\n",
    "hist(sepal_length)"
   ]
  },
  {
   "cell_type": "code",
   "execution_count": 11,
   "id": "emerging-wonder",
   "metadata": {},
   "outputs": [
    {
     "name": "stderr",
     "output_type": "stream",
     "text": [
      "Warning message:\n",
      "\"package 'ggplot2' was built under R version 3.6.3\""
     ]
    },
    {
     "data": {
      "image/png": "[encoded data removed]",
      "text/plain": [
       "plot without title"
      ]
     },
     "metadata": {},
     "output_type": "display_data"
    }
   ],
   "source": [
    "# Using ggplot, we can create a scatter plot comparing sepal length and width of three iris species\n",
    "library(ggplot2)\n",
    "ggplot(data=iris, aes(x=sepal.length, y=sepal.width, color=species)) + geom_point(size=3)"
   ]
  }
 ],
 "metadata": {
  "kernelspec": {
   "display_name": "R",
   "language": "R",
   "name": "ir"
  },
  "language_info": {
   "codemirror_mode": "r",
   "file_extension": ".r",
   "mimetype": "text/x-r-source",
   "name": "R",
   "pygments_lexer": "r",
   "version": "3.6.1"
  }
 },
 "nbformat": 4,
 "nbformat_minor": 5
}
