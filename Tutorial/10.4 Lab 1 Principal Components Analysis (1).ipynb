{
 "cells": [
  {
   "cell_type": "code",
   "execution_count": 5,
   "id": "statistical-comfort",
   "metadata": {},
   "outputs": [],
   "source": [
    "# custom function to resize the cell. \n",
    "fig <- function(width, heigth){\n",
    "     options(repr.plot.width = width, repr.plot.height = heigth)\n",
    "}"
   ]
  },
  {
   "cell_type": "code",
   "execution_count": 6,
   "id": "female-clark",
   "metadata": {},
   "outputs": [
    {
     "name": "stdout",
     "output_type": "stream",
     "text": [
      " [1] \"Alabama\"        \"Alaska\"         \"Arizona\"        \"Arkansas\"      \n",
      " [5] \"California\"     \"Colorado\"       \"Connecticut\"    \"Delaware\"      \n",
      " [9] \"Florida\"        \"Georgia\"        \"Hawaii\"         \"Idaho\"         \n",
      "[13] \"Illinois\"       \"Indiana\"        \"Iowa\"           \"Kansas\"        \n",
      "[17] \"Kentucky\"       \"Louisiana\"      \"Maine\"          \"Maryland\"      \n",
      "[21] \"Massachusetts\"  \"Michigan\"       \"Minnesota\"      \"Mississippi\"   \n",
      "[25] \"Missouri\"       \"Montana\"        \"Nebraska\"       \"Nevada\"        \n",
      "[29] \"New Hampshire\"  \"New Jersey\"     \"New Mexico\"     \"New York\"      \n",
      "[33] \"North Carolina\" \"North Dakota\"   \"Ohio\"           \"Oklahoma\"      \n",
      "[37] \"Oregon\"         \"Pennsylvania\"   \"Rhode Island\"   \"South Carolina\"\n",
      "[41] \"South Dakota\"   \"Tennessee\"      \"Texas\"          \"Utah\"          \n",
      "[45] \"Vermont\"        \"Virginia\"       \"Washington\"     \"West Virginia\" \n",
      "[49] \"Wisconsin\"      \"Wyoming\"       \n"
     ]
    }
   ],
   "source": [
    "# name of the rows\n",
    "states <- row.names(USArrests)\n",
    "print(states)"
   ]
  },
  {
   "cell_type": "code",
   "execution_count": 7,
   "id": "looking-consolidation",
   "metadata": {},
   "outputs": [
    {
     "data": {
      "text/html": [
       "<ol class=list-inline>\n",
       "\t<li>'Murder'</li>\n",
       "\t<li>'Assault'</li>\n",
       "\t<li>'UrbanPop'</li>\n",
       "\t<li>'Rape'</li>\n",
       "</ol>\n"
      ],
      "text/latex": [
       "\\begin{enumerate*}\n",
       "\\item 'Murder'\n",
       "\\item 'Assault'\n",
       "\\item 'UrbanPop'\n",
       "\\item 'Rape'\n",
       "\\end{enumerate*}\n"
      ],
      "text/markdown": [
       "1. 'Murder'\n",
       "2. 'Assault'\n",
       "3. 'UrbanPop'\n",
       "4. 'Rape'\n",
       "\n",
       "\n"
      ],
      "text/plain": [
       "[1] \"Murder\"   \"Assault\"  \"UrbanPop\" \"Rape\"    "
      ]
     },
     "metadata": {},
     "output_type": "display_data"
    }
   ],
   "source": [
    "# columns name\n",
    "names(USArrests)"
   ]
  },
  {
   "cell_type": "code",
   "execution_count": 8,
   "id": "mineral-violin",
   "metadata": {},
   "outputs": [
    {
     "data": {
      "text/html": [
       "<ol class=list-inline>\n",
       "\t<li>50</li>\n",
       "\t<li>4</li>\n",
       "</ol>\n"
      ],
      "text/latex": [
       "\\begin{enumerate*}\n",
       "\\item 50\n",
       "\\item 4\n",
       "\\end{enumerate*}\n"
      ],
      "text/markdown": [
       "1. 50\n",
       "2. 4\n",
       "\n",
       "\n"
      ],
      "text/plain": [
       "[1] 50  4"
      ]
     },
     "metadata": {},
     "output_type": "display_data"
    }
   ],
   "source": [
    "# dimension of the dataset\n",
    "dim(USArrests)"
   ]
  },
  {
   "cell_type": "code",
   "execution_count": 9,
   "id": "olive-lighting",
   "metadata": {},
   "outputs": [
    {
     "data": {
      "text/html": [
       "<table>\n",
       "<thead><tr><th></th><th scope=col>Murder</th><th scope=col>Assault</th><th scope=col>UrbanPop</th><th scope=col>Rape</th></tr></thead>\n",
       "<tbody>\n",
       "\t<tr><th scope=row>Alabama</th><td>13.2</td><td>236 </td><td>58  </td><td>21.2</td></tr>\n",
       "\t<tr><th scope=row>Alaska</th><td>10.0</td><td>263 </td><td>48  </td><td>44.5</td></tr>\n",
       "\t<tr><th scope=row>Arizona</th><td> 8.1</td><td>294 </td><td>80  </td><td>31.0</td></tr>\n",
       "\t<tr><th scope=row>Arkansas</th><td> 8.8</td><td>190 </td><td>50  </td><td>19.5</td></tr>\n",
       "\t<tr><th scope=row>California</th><td> 9.0</td><td>276 </td><td>91  </td><td>40.6</td></tr>\n",
       "\t<tr><th scope=row>Colorado</th><td> 7.9</td><td>204 </td><td>78  </td><td>38.7</td></tr>\n",
       "</tbody>\n",
       "</table>\n"
      ],
      "text/latex": [
       "\\begin{tabular}{r|llll}\n",
       "  & Murder & Assault & UrbanPop & Rape\\\\\n",
       "\\hline\n",
       "\tAlabama & 13.2 & 236  & 58   & 21.2\\\\\n",
       "\tAlaska & 10.0 & 263  & 48   & 44.5\\\\\n",
       "\tArizona &  8.1 & 294  & 80   & 31.0\\\\\n",
       "\tArkansas &  8.8 & 190  & 50   & 19.5\\\\\n",
       "\tCalifornia &  9.0 & 276  & 91   & 40.6\\\\\n",
       "\tColorado &  7.9 & 204  & 78   & 38.7\\\\\n",
       "\\end{tabular}\n"
      ],
      "text/markdown": [
       "\n",
       "| <!--/--> | Murder | Assault | UrbanPop | Rape |\n",
       "|---|---|---|---|---|\n",
       "| Alabama | 13.2 | 236  | 58   | 21.2 |\n",
       "| Alaska | 10.0 | 263  | 48   | 44.5 |\n",
       "| Arizona |  8.1 | 294  | 80   | 31.0 |\n",
       "| Arkansas |  8.8 | 190  | 50   | 19.5 |\n",
       "| California |  9.0 | 276  | 91   | 40.6 |\n",
       "| Colorado |  7.9 | 204  | 78   | 38.7 |\n",
       "\n"
      ],
      "text/plain": [
       "           Murder Assault UrbanPop Rape\n",
       "Alabama    13.2   236     58       21.2\n",
       "Alaska     10.0   263     48       44.5\n",
       "Arizona     8.1   294     80       31.0\n",
       "Arkansas    8.8   190     50       19.5\n",
       "California  9.0   276     91       40.6\n",
       "Colorado    7.9   204     78       38.7"
      ]
     },
     "metadata": {},
     "output_type": "display_data"
    }
   ],
   "source": [
    "head(USArrests)"
   ]
  },
  {
   "cell_type": "code",
   "execution_count": 27,
   "id": "fatty-petroleum",
   "metadata": {},
   "outputs": [
    {
     "data": {
      "text/html": [
       "<dl class=dl-horizontal>\n",
       "\t<dt>Murder</dt>\n",
       "\t\t<dd>7.788</dd>\n",
       "\t<dt>Assault</dt>\n",
       "\t\t<dd>170.76</dd>\n",
       "\t<dt>UrbanPop</dt>\n",
       "\t\t<dd>65.54</dd>\n",
       "\t<dt>Rape</dt>\n",
       "\t\t<dd>21.232</dd>\n",
       "</dl>\n"
      ],
      "text/latex": [
       "\\begin{description*}\n",
       "\\item[Murder] 7.788\n",
       "\\item[Assault] 170.76\n",
       "\\item[UrbanPop] 65.54\n",
       "\\item[Rape] 21.232\n",
       "\\end{description*}\n"
      ],
      "text/markdown": [
       "Murder\n",
       ":   7.788Assault\n",
       ":   170.76UrbanPop\n",
       ":   65.54Rape\n",
       ":   21.232\n",
       "\n"
      ],
      "text/plain": [
       "  Murder  Assault UrbanPop     Rape \n",
       "   7.788  170.760   65.540   21.232 "
      ]
     },
     "metadata": {},
     "output_type": "display_data"
    }
   ],
   "source": [
    "# apply () takes 3 arguments\n",
    "# first argument -  dataset\n",
    "# second argument 1 - rows, 2 - columns\n",
    "# third argument - function type,in this case, mean \n",
    "# result ~ means are different \n",
    "apply(USArrests , 2, mean)"
   ]
  },
  {
   "cell_type": "code",
   "execution_count": 28,
   "id": "artistic-czech",
   "metadata": {},
   "outputs": [
    {
     "data": {
      "text/html": [
       "<dl class=dl-horizontal>\n",
       "\t<dt>Murder</dt>\n",
       "\t\t<dd>18.9704653061224</dd>\n",
       "\t<dt>Assault</dt>\n",
       "\t\t<dd>6945.16571428571</dd>\n",
       "\t<dt>UrbanPop</dt>\n",
       "\t\t<dd>209.518775510204</dd>\n",
       "\t<dt>Rape</dt>\n",
       "\t\t<dd>87.7291591836735</dd>\n",
       "</dl>\n"
      ],
      "text/latex": [
       "\\begin{description*}\n",
       "\\item[Murder] 18.9704653061224\n",
       "\\item[Assault] 6945.16571428571\n",
       "\\item[UrbanPop] 209.518775510204\n",
       "\\item[Rape] 87.7291591836735\n",
       "\\end{description*}\n"
      ],
      "text/markdown": [
       "Murder\n",
       ":   18.9704653061224Assault\n",
       ":   6945.16571428571UrbanPop\n",
       ":   209.518775510204Rape\n",
       ":   87.7291591836735\n",
       "\n"
      ],
      "text/plain": [
       "    Murder    Assault   UrbanPop       Rape \n",
       "  18.97047 6945.16571  209.51878   87.72916 "
      ]
     },
     "metadata": {},
     "output_type": "display_data"
    }
   ],
   "source": [
    "# Variance is a measure of how data points differ from the mean\n",
    "# result ~ vastly different variance \n",
    "# UrbanPop variable measures the percentage of the population in each state living in an urban area, \n",
    "# which is not a comparable number to the number of rapes in each state per 100,000 individuals.\n",
    "# Assault has largest meand and variance and PCA would be influcened by this feature\n",
    "apply(USArrests , 2, var)"
   ]
  },
  {
   "cell_type": "code",
   "execution_count": 29,
   "id": "linear-spotlight",
   "metadata": {},
   "outputs": [],
   "source": [
    "# Standardize the variables to have mean zero and standard deviation one before performing PCA.\n",
    "# the option scale=TRUE, we scale the variables to have standard deviation one\n",
    "pr.out =prcomp (USArrests , scale =TRUE)"
   ]
  },
  {
   "cell_type": "code",
   "execution_count": 30,
   "id": "exclusive-electron",
   "metadata": {},
   "outputs": [
    {
     "data": {
      "text/html": [
       "<ol class=list-inline>\n",
       "\t<li>'sdev'</li>\n",
       "\t<li>'rotation'</li>\n",
       "\t<li>'center'</li>\n",
       "\t<li>'scale'</li>\n",
       "\t<li>'x'</li>\n",
       "</ol>\n"
      ],
      "text/latex": [
       "\\begin{enumerate*}\n",
       "\\item 'sdev'\n",
       "\\item 'rotation'\n",
       "\\item 'center'\n",
       "\\item 'scale'\n",
       "\\item 'x'\n",
       "\\end{enumerate*}\n"
      ],
      "text/markdown": [
       "1. 'sdev'\n",
       "2. 'rotation'\n",
       "3. 'center'\n",
       "4. 'scale'\n",
       "5. 'x'\n",
       "\n",
       "\n"
      ],
      "text/plain": [
       "[1] \"sdev\"     \"rotation\" \"center\"   \"scale\"    \"x\"       "
      ]
     },
     "metadata": {},
     "output_type": "display_data"
    }
   ],
   "source": [
    "# The center and scale components correspond to the means and standard\n",
    "# deviations of the variables that were used for scaling prior to implementing PCA.\n",
    "names(pr.out)"
   ]
  },
  {
   "cell_type": "code",
   "execution_count": 14,
   "id": "varying-hamburg",
   "metadata": {},
   "outputs": [
    {
     "data": {
      "text/html": [
       "<dl class=dl-horizontal>\n",
       "\t<dt>Murder</dt>\n",
       "\t\t<dd>7.788</dd>\n",
       "\t<dt>Assault</dt>\n",
       "\t\t<dd>170.76</dd>\n",
       "\t<dt>UrbanPop</dt>\n",
       "\t\t<dd>65.54</dd>\n",
       "\t<dt>Rape</dt>\n",
       "\t\t<dd>21.232</dd>\n",
       "</dl>\n"
      ],
      "text/latex": [
       "\\begin{description*}\n",
       "\\item[Murder] 7.788\n",
       "\\item[Assault] 170.76\n",
       "\\item[UrbanPop] 65.54\n",
       "\\item[Rape] 21.232\n",
       "\\end{description*}\n"
      ],
      "text/markdown": [
       "Murder\n",
       ":   7.788Assault\n",
       ":   170.76UrbanPop\n",
       ":   65.54Rape\n",
       ":   21.232\n",
       "\n"
      ],
      "text/plain": [
       "  Murder  Assault UrbanPop     Rape \n",
       "   7.788  170.760   65.540   21.232 "
      ]
     },
     "metadata": {},
     "output_type": "display_data"
    }
   ],
   "source": [
    "pr.out$center"
   ]
  },
  {
   "cell_type": "code",
   "execution_count": 15,
   "id": "complimentary-oxygen",
   "metadata": {},
   "outputs": [
    {
     "data": {
      "text/html": [
       "<dl class=dl-horizontal>\n",
       "\t<dt>Murder</dt>\n",
       "\t\t<dd>4.35550976420929</dd>\n",
       "\t<dt>Assault</dt>\n",
       "\t\t<dd>83.3376608400171</dd>\n",
       "\t<dt>UrbanPop</dt>\n",
       "\t\t<dd>14.4747634008368</dd>\n",
       "\t<dt>Rape</dt>\n",
       "\t\t<dd>9.36638453105965</dd>\n",
       "</dl>\n"
      ],
      "text/latex": [
       "\\begin{description*}\n",
       "\\item[Murder] 4.35550976420929\n",
       "\\item[Assault] 83.3376608400171\n",
       "\\item[UrbanPop] 14.4747634008368\n",
       "\\item[Rape] 9.36638453105965\n",
       "\\end{description*}\n"
      ],
      "text/markdown": [
       "Murder\n",
       ":   4.35550976420929Assault\n",
       ":   83.3376608400171UrbanPop\n",
       ":   14.4747634008368Rape\n",
       ":   9.36638453105965\n",
       "\n"
      ],
      "text/plain": [
       "   Murder   Assault  UrbanPop      Rape \n",
       " 4.355510 83.337661 14.474763  9.366385 "
      ]
     },
     "metadata": {},
     "output_type": "display_data"
    }
   ],
   "source": [
    "pr.out$scale"
   ]
  },
  {
   "cell_type": "code",
   "execution_count": 16,
   "id": "individual-reliance",
   "metadata": {},
   "outputs": [
    {
     "data": {
      "text/html": [
       "<table>\n",
       "<thead><tr><th></th><th scope=col>PC1</th><th scope=col>PC2</th><th scope=col>PC3</th><th scope=col>PC4</th></tr></thead>\n",
       "<tbody>\n",
       "\t<tr><th scope=row>Murder</th><td>-0.5358995 </td><td> 0.4181809 </td><td>-0.3412327 </td><td> 0.64922780</td></tr>\n",
       "\t<tr><th scope=row>Assault</th><td>-0.5831836 </td><td> 0.1879856 </td><td>-0.2681484 </td><td>-0.74340748</td></tr>\n",
       "\t<tr><th scope=row>UrbanPop</th><td>-0.2781909 </td><td>-0.8728062 </td><td>-0.3780158 </td><td> 0.13387773</td></tr>\n",
       "\t<tr><th scope=row>Rape</th><td>-0.5434321 </td><td>-0.1673186 </td><td> 0.8177779 </td><td> 0.08902432</td></tr>\n",
       "</tbody>\n",
       "</table>\n"
      ],
      "text/latex": [
       "\\begin{tabular}{r|llll}\n",
       "  & PC1 & PC2 & PC3 & PC4\\\\\n",
       "\\hline\n",
       "\tMurder & -0.5358995  &  0.4181809  & -0.3412327  &  0.64922780\\\\\n",
       "\tAssault & -0.5831836  &  0.1879856  & -0.2681484  & -0.74340748\\\\\n",
       "\tUrbanPop & -0.2781909  & -0.8728062  & -0.3780158  &  0.13387773\\\\\n",
       "\tRape & -0.5434321  & -0.1673186  &  0.8177779  &  0.08902432\\\\\n",
       "\\end{tabular}\n"
      ],
      "text/markdown": [
       "\n",
       "| <!--/--> | PC1 | PC2 | PC3 | PC4 |\n",
       "|---|---|---|---|---|\n",
       "| Murder | -0.5358995  |  0.4181809  | -0.3412327  |  0.64922780 |\n",
       "| Assault | -0.5831836  |  0.1879856  | -0.2681484  | -0.74340748 |\n",
       "| UrbanPop | -0.2781909  | -0.8728062  | -0.3780158  |  0.13387773 |\n",
       "| Rape | -0.5434321  | -0.1673186  |  0.8177779  |  0.08902432 |\n",
       "\n"
      ],
      "text/plain": [
       "         PC1        PC2        PC3        PC4        \n",
       "Murder   -0.5358995  0.4181809 -0.3412327  0.64922780\n",
       "Assault  -0.5831836  0.1879856 -0.2681484 -0.74340748\n",
       "UrbanPop -0.2781909 -0.8728062 -0.3780158  0.13387773\n",
       "Rape     -0.5434321 -0.1673186  0.8177779  0.08902432"
      ]
     },
     "metadata": {},
     "output_type": "display_data"
    }
   ],
   "source": [
    "# The rotation matrix provides the principal component loadings: each column\n",
    "# of pr.out$rotation contains the corresponding principal component loading vector.\n",
    "# Weight of the 1st Principal component correspond to first eiganvector of corresponding covariance matrix. \n",
    "# These weights are then used as coefficients in the linear combination of the standardized variables from which\n",
    "# the scores of the first principal component are calculated. \n",
    "pr.out$rotation"
   ]
  },
  {
   "cell_type": "code",
   "execution_count": 16,
   "id": "abstract-large",
   "metadata": {},
   "outputs": [
    {
     "data": {
      "text/html": [
       "<ol class=list-inline>\n",
       "\t<li>50</li>\n",
       "\t<li>4</li>\n",
       "</ol>\n"
      ],
      "text/latex": [
       "\\begin{enumerate*}\n",
       "\\item 50\n",
       "\\item 4\n",
       "\\end{enumerate*}\n"
      ],
      "text/markdown": [
       "1. 50\n",
       "2. 4\n",
       "\n",
       "\n"
      ],
      "text/plain": [
       "[1] 50  4"
      ]
     },
     "metadata": {},
     "output_type": "display_data"
    }
   ],
   "source": [
    "dim(pr.out$x)"
   ]
  },
  {
   "cell_type": "code",
   "execution_count": 17,
   "id": "mounted-parker",
   "metadata": {},
   "outputs": [
    {
     "data": {
      "text/html": [
       "<table>\n",
       "<thead><tr><th></th><th scope=col>PC1</th><th scope=col>PC2</th><th scope=col>PC3</th><th scope=col>PC4</th></tr></thead>\n",
       "<tbody>\n",
       "\t<tr><th scope=row>Alabama</th><td>-0.97566045 </td><td> 1.12200121 </td><td>-0.43980366 </td><td> 0.154696581</td></tr>\n",
       "\t<tr><th scope=row>Alaska</th><td>-1.93053788 </td><td> 1.06242692 </td><td> 2.01950027 </td><td>-0.434175454</td></tr>\n",
       "\t<tr><th scope=row>Arizona</th><td>-1.74544285 </td><td>-0.73845954 </td><td> 0.05423025 </td><td>-0.826264240</td></tr>\n",
       "\t<tr><th scope=row>Arkansas</th><td> 0.13999894 </td><td> 1.10854226 </td><td> 0.11342217 </td><td>-0.180973554</td></tr>\n",
       "\t<tr><th scope=row>California</th><td>-2.49861285 </td><td>-1.52742672 </td><td> 0.59254100 </td><td>-0.338559240</td></tr>\n",
       "\t<tr><th scope=row>Colorado</th><td>-1.49934074 </td><td>-0.97762966 </td><td> 1.08400162 </td><td> 0.001450164</td></tr>\n",
       "\t<tr><th scope=row>Connecticut</th><td> 1.34499236 </td><td>-1.07798362 </td><td>-0.63679250 </td><td>-0.117278736</td></tr>\n",
       "\t<tr><th scope=row>Delaware</th><td>-0.04722981 </td><td>-0.32208890 </td><td>-0.71141032 </td><td>-0.873113315</td></tr>\n",
       "\t<tr><th scope=row>Florida</th><td>-2.98275967 </td><td> 0.03883425 </td><td>-0.57103206 </td><td>-0.095317042</td></tr>\n",
       "\t<tr><th scope=row>Georgia</th><td>-1.62280742 </td><td> 1.26608838 </td><td>-0.33901818 </td><td> 1.065974459</td></tr>\n",
       "\t<tr><th scope=row>Hawaii</th><td> 0.90348448 </td><td>-1.55467609 </td><td> 0.05027151 </td><td> 0.893733198</td></tr>\n",
       "\t<tr><th scope=row>Idaho</th><td> 1.62331903 </td><td> 0.20885253 </td><td> 0.25719021 </td><td>-0.494087852</td></tr>\n",
       "\t<tr><th scope=row>Illinois</th><td>-1.36505197 </td><td>-0.67498834 </td><td>-0.67068647 </td><td>-0.120794916</td></tr>\n",
       "\t<tr><th scope=row>Indiana</th><td> 0.50038122 </td><td>-0.15003926 </td><td> 0.22576277 </td><td> 0.420397595</td></tr>\n",
       "\t<tr><th scope=row>Iowa</th><td> 2.23099579 </td><td>-0.10300828 </td><td> 0.16291036 </td><td> 0.017379470</td></tr>\n",
       "\t<tr><th scope=row>Kansas</th><td> 0.78887206 </td><td>-0.26744941 </td><td> 0.02529648 </td><td> 0.204421034</td></tr>\n",
       "\t<tr><th scope=row>Kentucky</th><td> 0.74331256 </td><td> 0.94880748 </td><td>-0.02808429 </td><td> 0.663817237</td></tr>\n",
       "\t<tr><th scope=row>Louisiana</th><td>-1.54909076 </td><td> 0.86230011 </td><td>-0.77560598 </td><td> 0.450157791</td></tr>\n",
       "\t<tr><th scope=row>Maine</th><td> 2.37274014 </td><td> 0.37260865 </td><td>-0.06502225 </td><td>-0.327138529</td></tr>\n",
       "\t<tr><th scope=row>Maryland</th><td>-1.74564663 </td><td> 0.42335704 </td><td>-0.15566968 </td><td>-0.553450589</td></tr>\n",
       "\t<tr><th scope=row>Massachusetts</th><td> 0.48128007 </td><td>-1.45967706 </td><td>-0.60337172 </td><td>-0.177793902</td></tr>\n",
       "\t<tr><th scope=row>Michigan</th><td>-2.08725025 </td><td>-0.15383500 </td><td> 0.38100046 </td><td> 0.101343128</td></tr>\n",
       "\t<tr><th scope=row>Minnesota</th><td> 1.67566951 </td><td>-0.62590670 </td><td> 0.15153200 </td><td> 0.066640316</td></tr>\n",
       "\t<tr><th scope=row>Mississippi</th><td>-0.98647919 </td><td> 2.36973712 </td><td>-0.73336290 </td><td> 0.213342049</td></tr>\n",
       "\t<tr><th scope=row>Missouri</th><td>-0.68978426 </td><td>-0.26070794 </td><td> 0.37365033 </td><td> 0.223554811</td></tr>\n",
       "\t<tr><th scope=row>Montana</th><td> 1.17353751 </td><td> 0.53147851 </td><td> 0.24440796 </td><td> 0.122498555</td></tr>\n",
       "\t<tr><th scope=row>Nebraska</th><td> 1.25291625 </td><td>-0.19200440 </td><td> 0.17380930 </td><td> 0.015733156</td></tr>\n",
       "\t<tr><th scope=row>Nevada</th><td>-2.84550542 </td><td>-0.76780502 </td><td> 1.15168793 </td><td> 0.311354436</td></tr>\n",
       "\t<tr><th scope=row>New Hampshire</th><td> 2.35995585 </td><td>-0.01790055 </td><td> 0.03648498 </td><td>-0.032804291</td></tr>\n",
       "\t<tr><th scope=row>New Jersey</th><td>-0.17974128 </td><td>-1.43493745 </td><td>-0.75677041 </td><td> 0.240936580</td></tr>\n",
       "\t<tr><th scope=row>New Mexico</th><td>-1.96012351 </td><td> 0.14141308 </td><td> 0.18184598 </td><td>-0.336121113</td></tr>\n",
       "\t<tr><th scope=row>New York</th><td>-1.66566662 </td><td>-0.81491072 </td><td>-0.63661186 </td><td>-0.013348844</td></tr>\n",
       "\t<tr><th scope=row>North Carolina</th><td>-1.11208808 </td><td> 2.20561081 </td><td>-0.85489245 </td><td>-0.944789648</td></tr>\n",
       "\t<tr><th scope=row>North Dakota</th><td> 2.96215223 </td><td> 0.59309738 </td><td> 0.29824930 </td><td>-0.251434626</td></tr>\n",
       "\t<tr><th scope=row>Ohio</th><td> 0.22369436 </td><td>-0.73477837 </td><td>-0.03082616 </td><td> 0.469152817</td></tr>\n",
       "\t<tr><th scope=row>Oklahoma</th><td> 0.30864928 </td><td>-0.28496113 </td><td>-0.01515592 </td><td> 0.010228476</td></tr>\n",
       "\t<tr><th scope=row>Oregon</th><td>-0.05852787 </td><td>-0.53596999 </td><td> 0.93038718 </td><td>-0.235390872</td></tr>\n",
       "\t<tr><th scope=row>Pennsylvania</th><td> 0.87948680 </td><td>-0.56536050 </td><td>-0.39660218 </td><td> 0.355452378</td></tr>\n",
       "\t<tr><th scope=row>Rhode Island</th><td> 0.85509072 </td><td>-1.47698328 </td><td>-1.35617705 </td><td>-0.607402746</td></tr>\n",
       "\t<tr><th scope=row>South Carolina</th><td>-1.30744986 </td><td> 1.91397297 </td><td>-0.29751723 </td><td>-0.130145378</td></tr>\n",
       "\t<tr><th scope=row>South Dakota</th><td> 1.96779669 </td><td> 0.81506822 </td><td> 0.38538073 </td><td>-0.108470512</td></tr>\n",
       "\t<tr><th scope=row>Tennessee</th><td>-0.98969377 </td><td> 0.85160534 </td><td> 0.18619262 </td><td> 0.646302674</td></tr>\n",
       "\t<tr><th scope=row>Texas</th><td>-1.34151838 </td><td>-0.40833518 </td><td>-0.48712332 </td><td> 0.636731051</td></tr>\n",
       "\t<tr><th scope=row>Utah</th><td> 0.54503180 </td><td>-1.45671524 </td><td> 0.29077592 </td><td>-0.081486749</td></tr>\n",
       "\t<tr><th scope=row>Vermont</th><td> 2.77325613 </td><td> 1.38819435 </td><td> 0.83280797 </td><td>-0.143433697</td></tr>\n",
       "\t<tr><th scope=row>Virginia</th><td> 0.09536670 </td><td> 0.19772785 </td><td> 0.01159482 </td><td> 0.209246429</td></tr>\n",
       "\t<tr><th scope=row>Washington</th><td> 0.21472339 </td><td>-0.96037394 </td><td> 0.61859067 </td><td>-0.218628161</td></tr>\n",
       "\t<tr><th scope=row>West Virginia</th><td> 2.08739306 </td><td> 1.41052627 </td><td> 0.10372163 </td><td> 0.130583080</td></tr>\n",
       "\t<tr><th scope=row>Wisconsin</th><td> 2.05881199 </td><td>-0.60512507 </td><td>-0.13746933 </td><td> 0.182253407</td></tr>\n",
       "\t<tr><th scope=row>Wyoming</th><td> 0.62310061 </td><td> 0.31778662 </td><td>-0.23824049 </td><td>-0.164976866</td></tr>\n",
       "</tbody>\n",
       "</table>\n"
      ],
      "text/latex": [
       "\\begin{tabular}{r|llll}\n",
       "  & PC1 & PC2 & PC3 & PC4\\\\\n",
       "\\hline\n",
       "\tAlabama & -0.97566045  &  1.12200121  & -0.43980366  &  0.154696581\\\\\n",
       "\tAlaska & -1.93053788  &  1.06242692  &  2.01950027  & -0.434175454\\\\\n",
       "\tArizona & -1.74544285  & -0.73845954  &  0.05423025  & -0.826264240\\\\\n",
       "\tArkansas &  0.13999894  &  1.10854226  &  0.11342217  & -0.180973554\\\\\n",
       "\tCalifornia & -2.49861285  & -1.52742672  &  0.59254100  & -0.338559240\\\\\n",
       "\tColorado & -1.49934074  & -0.97762966  &  1.08400162  &  0.001450164\\\\\n",
       "\tConnecticut &  1.34499236  & -1.07798362  & -0.63679250  & -0.117278736\\\\\n",
       "\tDelaware & -0.04722981  & -0.32208890  & -0.71141032  & -0.873113315\\\\\n",
       "\tFlorida & -2.98275967  &  0.03883425  & -0.57103206  & -0.095317042\\\\\n",
       "\tGeorgia & -1.62280742  &  1.26608838  & -0.33901818  &  1.065974459\\\\\n",
       "\tHawaii &  0.90348448  & -1.55467609  &  0.05027151  &  0.893733198\\\\\n",
       "\tIdaho &  1.62331903  &  0.20885253  &  0.25719021  & -0.494087852\\\\\n",
       "\tIllinois & -1.36505197  & -0.67498834  & -0.67068647  & -0.120794916\\\\\n",
       "\tIndiana &  0.50038122  & -0.15003926  &  0.22576277  &  0.420397595\\\\\n",
       "\tIowa &  2.23099579  & -0.10300828  &  0.16291036  &  0.017379470\\\\\n",
       "\tKansas &  0.78887206  & -0.26744941  &  0.02529648  &  0.204421034\\\\\n",
       "\tKentucky &  0.74331256  &  0.94880748  & -0.02808429  &  0.663817237\\\\\n",
       "\tLouisiana & -1.54909076  &  0.86230011  & -0.77560598  &  0.450157791\\\\\n",
       "\tMaine &  2.37274014  &  0.37260865  & -0.06502225  & -0.327138529\\\\\n",
       "\tMaryland & -1.74564663  &  0.42335704  & -0.15566968  & -0.553450589\\\\\n",
       "\tMassachusetts &  0.48128007  & -1.45967706  & -0.60337172  & -0.177793902\\\\\n",
       "\tMichigan & -2.08725025  & -0.15383500  &  0.38100046  &  0.101343128\\\\\n",
       "\tMinnesota &  1.67566951  & -0.62590670  &  0.15153200  &  0.066640316\\\\\n",
       "\tMississippi & -0.98647919  &  2.36973712  & -0.73336290  &  0.213342049\\\\\n",
       "\tMissouri & -0.68978426  & -0.26070794  &  0.37365033  &  0.223554811\\\\\n",
       "\tMontana &  1.17353751  &  0.53147851  &  0.24440796  &  0.122498555\\\\\n",
       "\tNebraska &  1.25291625  & -0.19200440  &  0.17380930  &  0.015733156\\\\\n",
       "\tNevada & -2.84550542  & -0.76780502  &  1.15168793  &  0.311354436\\\\\n",
       "\tNew Hampshire &  2.35995585  & -0.01790055  &  0.03648498  & -0.032804291\\\\\n",
       "\tNew Jersey & -0.17974128  & -1.43493745  & -0.75677041  &  0.240936580\\\\\n",
       "\tNew Mexico & -1.96012351  &  0.14141308  &  0.18184598  & -0.336121113\\\\\n",
       "\tNew York & -1.66566662  & -0.81491072  & -0.63661186  & -0.013348844\\\\\n",
       "\tNorth Carolina & -1.11208808  &  2.20561081  & -0.85489245  & -0.944789648\\\\\n",
       "\tNorth Dakota &  2.96215223  &  0.59309738  &  0.29824930  & -0.251434626\\\\\n",
       "\tOhio &  0.22369436  & -0.73477837  & -0.03082616  &  0.469152817\\\\\n",
       "\tOklahoma &  0.30864928  & -0.28496113  & -0.01515592  &  0.010228476\\\\\n",
       "\tOregon & -0.05852787  & -0.53596999  &  0.93038718  & -0.235390872\\\\\n",
       "\tPennsylvania &  0.87948680  & -0.56536050  & -0.39660218  &  0.355452378\\\\\n",
       "\tRhode Island &  0.85509072  & -1.47698328  & -1.35617705  & -0.607402746\\\\\n",
       "\tSouth Carolina & -1.30744986  &  1.91397297  & -0.29751723  & -0.130145378\\\\\n",
       "\tSouth Dakota &  1.96779669  &  0.81506822  &  0.38538073  & -0.108470512\\\\\n",
       "\tTennessee & -0.98969377  &  0.85160534  &  0.18619262  &  0.646302674\\\\\n",
       "\tTexas & -1.34151838  & -0.40833518  & -0.48712332  &  0.636731051\\\\\n",
       "\tUtah &  0.54503180  & -1.45671524  &  0.29077592  & -0.081486749\\\\\n",
       "\tVermont &  2.77325613  &  1.38819435  &  0.83280797  & -0.143433697\\\\\n",
       "\tVirginia &  0.09536670  &  0.19772785  &  0.01159482  &  0.209246429\\\\\n",
       "\tWashington &  0.21472339  & -0.96037394  &  0.61859067  & -0.218628161\\\\\n",
       "\tWest Virginia &  2.08739306  &  1.41052627  &  0.10372163  &  0.130583080\\\\\n",
       "\tWisconsin &  2.05881199  & -0.60512507  & -0.13746933  &  0.182253407\\\\\n",
       "\tWyoming &  0.62310061  &  0.31778662  & -0.23824049  & -0.164976866\\\\\n",
       "\\end{tabular}\n"
      ],
      "text/markdown": [
       "\n",
       "| <!--/--> | PC1 | PC2 | PC3 | PC4 |\n",
       "|---|---|---|---|---|\n",
       "| Alabama | -0.97566045  |  1.12200121  | -0.43980366  |  0.154696581 |\n",
       "| Alaska | -1.93053788  |  1.06242692  |  2.01950027  | -0.434175454 |\n",
       "| Arizona | -1.74544285  | -0.73845954  |  0.05423025  | -0.826264240 |\n",
       "| Arkansas |  0.13999894  |  1.10854226  |  0.11342217  | -0.180973554 |\n",
       "| California | -2.49861285  | -1.52742672  |  0.59254100  | -0.338559240 |\n",
       "| Colorado | -1.49934074  | -0.97762966  |  1.08400162  |  0.001450164 |\n",
       "| Connecticut |  1.34499236  | -1.07798362  | -0.63679250  | -0.117278736 |\n",
       "| Delaware | -0.04722981  | -0.32208890  | -0.71141032  | -0.873113315 |\n",
       "| Florida | -2.98275967  |  0.03883425  | -0.57103206  | -0.095317042 |\n",
       "| Georgia | -1.62280742  |  1.26608838  | -0.33901818  |  1.065974459 |\n",
       "| Hawaii |  0.90348448  | -1.55467609  |  0.05027151  |  0.893733198 |\n",
       "| Idaho |  1.62331903  |  0.20885253  |  0.25719021  | -0.494087852 |\n",
       "| Illinois | -1.36505197  | -0.67498834  | -0.67068647  | -0.120794916 |\n",
       "| Indiana |  0.50038122  | -0.15003926  |  0.22576277  |  0.420397595 |\n",
       "| Iowa |  2.23099579  | -0.10300828  |  0.16291036  |  0.017379470 |\n",
       "| Kansas |  0.78887206  | -0.26744941  |  0.02529648  |  0.204421034 |\n",
       "| Kentucky |  0.74331256  |  0.94880748  | -0.02808429  |  0.663817237 |\n",
       "| Louisiana | -1.54909076  |  0.86230011  | -0.77560598  |  0.450157791 |\n",
       "| Maine |  2.37274014  |  0.37260865  | -0.06502225  | -0.327138529 |\n",
       "| Maryland | -1.74564663  |  0.42335704  | -0.15566968  | -0.553450589 |\n",
       "| Massachusetts |  0.48128007  | -1.45967706  | -0.60337172  | -0.177793902 |\n",
       "| Michigan | -2.08725025  | -0.15383500  |  0.38100046  |  0.101343128 |\n",
       "| Minnesota |  1.67566951  | -0.62590670  |  0.15153200  |  0.066640316 |\n",
       "| Mississippi | -0.98647919  |  2.36973712  | -0.73336290  |  0.213342049 |\n",
       "| Missouri | -0.68978426  | -0.26070794  |  0.37365033  |  0.223554811 |\n",
       "| Montana |  1.17353751  |  0.53147851  |  0.24440796  |  0.122498555 |\n",
       "| Nebraska |  1.25291625  | -0.19200440  |  0.17380930  |  0.015733156 |\n",
       "| Nevada | -2.84550542  | -0.76780502  |  1.15168793  |  0.311354436 |\n",
       "| New Hampshire |  2.35995585  | -0.01790055  |  0.03648498  | -0.032804291 |\n",
       "| New Jersey | -0.17974128  | -1.43493745  | -0.75677041  |  0.240936580 |\n",
       "| New Mexico | -1.96012351  |  0.14141308  |  0.18184598  | -0.336121113 |\n",
       "| New York | -1.66566662  | -0.81491072  | -0.63661186  | -0.013348844 |\n",
       "| North Carolina | -1.11208808  |  2.20561081  | -0.85489245  | -0.944789648 |\n",
       "| North Dakota |  2.96215223  |  0.59309738  |  0.29824930  | -0.251434626 |\n",
       "| Ohio |  0.22369436  | -0.73477837  | -0.03082616  |  0.469152817 |\n",
       "| Oklahoma |  0.30864928  | -0.28496113  | -0.01515592  |  0.010228476 |\n",
       "| Oregon | -0.05852787  | -0.53596999  |  0.93038718  | -0.235390872 |\n",
       "| Pennsylvania |  0.87948680  | -0.56536050  | -0.39660218  |  0.355452378 |\n",
       "| Rhode Island |  0.85509072  | -1.47698328  | -1.35617705  | -0.607402746 |\n",
       "| South Carolina | -1.30744986  |  1.91397297  | -0.29751723  | -0.130145378 |\n",
       "| South Dakota |  1.96779669  |  0.81506822  |  0.38538073  | -0.108470512 |\n",
       "| Tennessee | -0.98969377  |  0.85160534  |  0.18619262  |  0.646302674 |\n",
       "| Texas | -1.34151838  | -0.40833518  | -0.48712332  |  0.636731051 |\n",
       "| Utah |  0.54503180  | -1.45671524  |  0.29077592  | -0.081486749 |\n",
       "| Vermont |  2.77325613  |  1.38819435  |  0.83280797  | -0.143433697 |\n",
       "| Virginia |  0.09536670  |  0.19772785  |  0.01159482  |  0.209246429 |\n",
       "| Washington |  0.21472339  | -0.96037394  |  0.61859067  | -0.218628161 |\n",
       "| West Virginia |  2.08739306  |  1.41052627  |  0.10372163  |  0.130583080 |\n",
       "| Wisconsin |  2.05881199  | -0.60512507  | -0.13746933  |  0.182253407 |\n",
       "| Wyoming |  0.62310061  |  0.31778662  | -0.23824049  | -0.164976866 |\n",
       "\n"
      ],
      "text/plain": [
       "               PC1         PC2         PC3         PC4         \n",
       "Alabama        -0.97566045  1.12200121 -0.43980366  0.154696581\n",
       "Alaska         -1.93053788  1.06242692  2.01950027 -0.434175454\n",
       "Arizona        -1.74544285 -0.73845954  0.05423025 -0.826264240\n",
       "Arkansas        0.13999894  1.10854226  0.11342217 -0.180973554\n",
       "California     -2.49861285 -1.52742672  0.59254100 -0.338559240\n",
       "Colorado       -1.49934074 -0.97762966  1.08400162  0.001450164\n",
       "Connecticut     1.34499236 -1.07798362 -0.63679250 -0.117278736\n",
       "Delaware       -0.04722981 -0.32208890 -0.71141032 -0.873113315\n",
       "Florida        -2.98275967  0.03883425 -0.57103206 -0.095317042\n",
       "Georgia        -1.62280742  1.26608838 -0.33901818  1.065974459\n",
       "Hawaii          0.90348448 -1.55467609  0.05027151  0.893733198\n",
       "Idaho           1.62331903  0.20885253  0.25719021 -0.494087852\n",
       "Illinois       -1.36505197 -0.67498834 -0.67068647 -0.120794916\n",
       "Indiana         0.50038122 -0.15003926  0.22576277  0.420397595\n",
       "Iowa            2.23099579 -0.10300828  0.16291036  0.017379470\n",
       "Kansas          0.78887206 -0.26744941  0.02529648  0.204421034\n",
       "Kentucky        0.74331256  0.94880748 -0.02808429  0.663817237\n",
       "Louisiana      -1.54909076  0.86230011 -0.77560598  0.450157791\n",
       "Maine           2.37274014  0.37260865 -0.06502225 -0.327138529\n",
       "Maryland       -1.74564663  0.42335704 -0.15566968 -0.553450589\n",
       "Massachusetts   0.48128007 -1.45967706 -0.60337172 -0.177793902\n",
       "Michigan       -2.08725025 -0.15383500  0.38100046  0.101343128\n",
       "Minnesota       1.67566951 -0.62590670  0.15153200  0.066640316\n",
       "Mississippi    -0.98647919  2.36973712 -0.73336290  0.213342049\n",
       "Missouri       -0.68978426 -0.26070794  0.37365033  0.223554811\n",
       "Montana         1.17353751  0.53147851  0.24440796  0.122498555\n",
       "Nebraska        1.25291625 -0.19200440  0.17380930  0.015733156\n",
       "Nevada         -2.84550542 -0.76780502  1.15168793  0.311354436\n",
       "New Hampshire   2.35995585 -0.01790055  0.03648498 -0.032804291\n",
       "New Jersey     -0.17974128 -1.43493745 -0.75677041  0.240936580\n",
       "New Mexico     -1.96012351  0.14141308  0.18184598 -0.336121113\n",
       "New York       -1.66566662 -0.81491072 -0.63661186 -0.013348844\n",
       "North Carolina -1.11208808  2.20561081 -0.85489245 -0.944789648\n",
       "North Dakota    2.96215223  0.59309738  0.29824930 -0.251434626\n",
       "Ohio            0.22369436 -0.73477837 -0.03082616  0.469152817\n",
       "Oklahoma        0.30864928 -0.28496113 -0.01515592  0.010228476\n",
       "Oregon         -0.05852787 -0.53596999  0.93038718 -0.235390872\n",
       "Pennsylvania    0.87948680 -0.56536050 -0.39660218  0.355452378\n",
       "Rhode Island    0.85509072 -1.47698328 -1.35617705 -0.607402746\n",
       "South Carolina -1.30744986  1.91397297 -0.29751723 -0.130145378\n",
       "South Dakota    1.96779669  0.81506822  0.38538073 -0.108470512\n",
       "Tennessee      -0.98969377  0.85160534  0.18619262  0.646302674\n",
       "Texas          -1.34151838 -0.40833518 -0.48712332  0.636731051\n",
       "Utah            0.54503180 -1.45671524  0.29077592 -0.081486749\n",
       "Vermont         2.77325613  1.38819435  0.83280797 -0.143433697\n",
       "Virginia        0.09536670  0.19772785  0.01159482  0.209246429\n",
       "Washington      0.21472339 -0.96037394  0.61859067 -0.218628161\n",
       "West Virginia   2.08739306  1.41052627  0.10372163  0.130583080\n",
       "Wisconsin       2.05881199 -0.60512507 -0.13746933  0.182253407\n",
       "Wyoming         0.62310061  0.31778662 -0.23824049 -0.164976866"
      ]
     },
     "metadata": {},
     "output_type": "display_data"
    }
   ],
   "source": [
    "# scores are calcualted and stored in x matrix \n",
    "pr.out$x"
   ]
  },
  {
   "cell_type": "code",
   "execution_count": 19,
   "id": "offshore-happening",
   "metadata": {},
   "outputs": [
    {
     "data": {
      "image/png": "[encoded data removed]",
      "text/plain": [
       "plot without title"
      ]
     },
     "metadata": {},
     "output_type": "display_data"
    }
   ],
   "source": [
    "# The scale=0 argument to biplot() ensures that the arrows are scaled to represent the loadings\n",
    "fig(10,7)\n",
    "biplot (pr.out , scale =0)"
   ]
  },
  {
   "cell_type": "code",
   "execution_count": 20,
   "id": "affected-phoenix",
   "metadata": {},
   "outputs": [
    {
     "data": {
      "image/png": "[encoded data removed]",
      "text/plain": [
       "plot without title"
      ]
     },
     "metadata": {},
     "output_type": "display_data"
    }
   ],
   "source": [
    "# change of sign\n",
    "pr.out$rotation=-pr.out$rotation\n",
    "pr.out$x=-pr.out$x\n",
    "biplot (pr.out , scale =0)"
   ]
  },
  {
   "cell_type": "code",
   "execution_count": 31,
   "id": "independent-twelve",
   "metadata": {},
   "outputs": [
    {
     "data": {
      "text/html": [
       "<ol class=list-inline>\n",
       "\t<li>1.57487827439123</li>\n",
       "\t<li>0.994869414817765</li>\n",
       "\t<li>0.597129115502527</li>\n",
       "\t<li>0.41644938195396</li>\n",
       "</ol>\n"
      ],
      "text/latex": [
       "\\begin{enumerate*}\n",
       "\\item 1.57487827439123\n",
       "\\item 0.994869414817765\n",
       "\\item 0.597129115502527\n",
       "\\item 0.41644938195396\n",
       "\\end{enumerate*}\n"
      ],
      "text/markdown": [
       "1. 1.57487827439123\n",
       "2. 0.994869414817765\n",
       "3. 0.597129115502527\n",
       "4. 0.41644938195396\n",
       "\n",
       "\n"
      ],
      "text/plain": [
       "[1] 1.5748783 0.9948694 0.5971291 0.4164494"
      ]
     },
     "metadata": {},
     "output_type": "display_data"
    }
   ],
   "source": [
    "# The prcomp() function also outputs the standard deviation of each principal\n",
    "# component.\n",
    "pr.out$sdev"
   ]
  },
  {
   "cell_type": "code",
   "execution_count": 32,
   "id": "failing-blues",
   "metadata": {},
   "outputs": [
    {
     "data": {
      "text/html": [
       "<ol class=list-inline>\n",
       "\t<li>2.48024157914949</li>\n",
       "\t<li>0.989765152539841</li>\n",
       "\t<li>0.35656318058083</li>\n",
       "\t<li>0.173430087729835</li>\n",
       "</ol>\n"
      ],
      "text/latex": [
       "\\begin{enumerate*}\n",
       "\\item 2.48024157914949\n",
       "\\item 0.989765152539841\n",
       "\\item 0.35656318058083\n",
       "\\item 0.173430087729835\n",
       "\\end{enumerate*}\n"
      ],
      "text/markdown": [
       "1. 2.48024157914949\n",
       "2. 0.989765152539841\n",
       "3. 0.35656318058083\n",
       "4. 0.173430087729835\n",
       "\n",
       "\n"
      ],
      "text/plain": [
       "[1] 2.4802416 0.9897652 0.3565632 0.1734301"
      ]
     },
     "metadata": {},
     "output_type": "display_data"
    }
   ],
   "source": [
    "# The variance explained by each principal component is obtained by squaring\n",
    "# these\n",
    "pr.var =pr.out$sdev ^2\n",
    "pr.var"
   ]
  },
  {
   "cell_type": "code",
   "execution_count": 33,
   "id": "visible-large",
   "metadata": {},
   "outputs": [
    {
     "data": {
      "text/html": [
       "<ol class=list-inline>\n",
       "\t<li>0.620060394787373</li>\n",
       "\t<li>0.24744128813496</li>\n",
       "\t<li>0.0891407951452075</li>\n",
       "\t<li>0.0433575219324588</li>\n",
       "</ol>\n"
      ],
      "text/latex": [
       "\\begin{enumerate*}\n",
       "\\item 0.620060394787373\n",
       "\\item 0.24744128813496\n",
       "\\item 0.0891407951452075\n",
       "\\item 0.0433575219324588\n",
       "\\end{enumerate*}\n"
      ],
      "text/markdown": [
       "1. 0.620060394787373\n",
       "2. 0.24744128813496\n",
       "3. 0.0891407951452075\n",
       "4. 0.0433575219324588\n",
       "\n",
       "\n"
      ],
      "text/plain": [
       "[1] 0.62006039 0.24744129 0.08914080 0.04335752"
      ]
     },
     "metadata": {},
     "output_type": "display_data"
    }
   ],
   "source": [
    "# To compute the proportion of variance explained by each principal component,\n",
    "# we simply divide the variance explained by each principal component\n",
    "# by the total variance explained by all four principal components\n",
    "\n",
    "pve=pr.var/sum(pr.var )\n",
    "pve"
   ]
  }
 ],
 "metadata": {
  "kernelspec": {
   "display_name": "R",
   "language": "R",
   "name": "ir"
  },
  "language_info": {
   "codemirror_mode": "r",
   "file_extension": ".r",
   "mimetype": "text/x-r-source",
   "name": "R",
   "pygments_lexer": "r",
   "version": "3.6.1"
  }
 },
 "nbformat": 4,
 "nbformat_minor": 5
}
