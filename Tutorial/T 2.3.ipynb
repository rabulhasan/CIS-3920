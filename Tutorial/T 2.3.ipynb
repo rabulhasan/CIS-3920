{
 "cells": [
  {
   "cell_type": "code",
   "execution_count": 27,
   "id": "removed-cleanup",
   "metadata": {},
   "outputs": [
    {
     "data": {
      "text/html": [
       "<table>\n",
       "<tbody>\n",
       "\t<tr><td>1</td><td>4</td></tr>\n",
       "\t<tr><td>2</td><td>5</td></tr>\n",
       "\t<tr><td>3</td><td>6</td></tr>\n",
       "</tbody>\n",
       "</table>\n"
      ],
      "text/latex": [
       "\\begin{tabular}{ll}\n",
       "\t 1 & 4\\\\\n",
       "\t 2 & 5\\\\\n",
       "\t 3 & 6\\\\\n",
       "\\end{tabular}\n"
      ],
      "text/markdown": [
       "\n",
       "| 1 | 4 |\n",
       "| 2 | 5 |\n",
       "| 3 | 6 |\n",
       "\n"
      ],
      "text/plain": [
       "     [,1] [,2]\n",
       "[1,] 1    4   \n",
       "[2,] 2    5   \n",
       "[3,] 3    6   "
      ]
     },
     "metadata": {},
     "output_type": "display_data"
    }
   ],
   "source": [
    "# Create a matrix\n",
    "thismatrix <- matrix(c(1,2,3,4,5,6), nrow = 3, ncol = 2)\n",
    "\n",
    "# Print the matrix\n",
    "thismatrix"
   ]
  },
  {
   "cell_type": "code",
   "execution_count": 29,
   "id": "massive-demographic",
   "metadata": {},
   "outputs": [
    {
     "data": {
      "text/html": [
       "<table>\n",
       "<tbody>\n",
       "\t<tr><td>1</td><td>2</td></tr>\n",
       "\t<tr><td>3</td><td>4</td></tr>\n",
       "</tbody>\n",
       "</table>\n"
      ],
      "text/latex": [
       "\\begin{tabular}{ll}\n",
       "\t 1 & 2\\\\\n",
       "\t 3 & 4\\\\\n",
       "\\end{tabular}\n"
      ],
      "text/markdown": [
       "\n",
       "| 1 | 2 |\n",
       "| 3 | 4 |\n",
       "\n"
      ],
      "text/plain": [
       "     [,1] [,2]\n",
       "[1,] 1    2   \n",
       "[2,] 3    4   "
      ]
     },
     "metadata": {},
     "output_type": "display_data"
    }
   ],
   "source": [
    "# matrix operation \n",
    "# use matrix() command. see doc for more information (?matrix)\n",
    "\n",
    "x = matrix (c(1,2,3,4) ,2,2,byrow =TRUE)\n",
    "x"
   ]
  },
  {
   "cell_type": "code",
   "execution_count": 30,
   "id": "turkish-possible",
   "metadata": {},
   "outputs": [
    {
     "name": "stdout",
     "output_type": "stream",
     "text": [
      "[1] \"sqrt\"\n"
     ]
    },
    {
     "data": {
      "text/html": [
       "<table>\n",
       "<tbody>\n",
       "\t<tr><td>1.000000</td><td>1.414214</td></tr>\n",
       "\t<tr><td>1.732051</td><td>2.000000</td></tr>\n",
       "</tbody>\n",
       "</table>\n"
      ],
      "text/latex": [
       "\\begin{tabular}{ll}\n",
       "\t 1.000000 & 1.414214\\\\\n",
       "\t 1.732051 & 2.000000\\\\\n",
       "\\end{tabular}\n"
      ],
      "text/markdown": [
       "\n",
       "| 1.000000 | 1.414214 |\n",
       "| 1.732051 | 2.000000 |\n",
       "\n"
      ],
      "text/plain": [
       "     [,1]     [,2]    \n",
       "[1,] 1.000000 1.414214\n",
       "[2,] 1.732051 2.000000"
      ]
     },
     "metadata": {},
     "output_type": "display_data"
    },
    {
     "name": "stdout",
     "output_type": "stream",
     "text": [
      "[1] \"square\"\n"
     ]
    },
    {
     "data": {
      "text/html": [
       "<table>\n",
       "<tbody>\n",
       "\t<tr><td>1 </td><td> 4</td></tr>\n",
       "\t<tr><td>9 </td><td>16</td></tr>\n",
       "</tbody>\n",
       "</table>\n"
      ],
      "text/latex": [
       "\\begin{tabular}{ll}\n",
       "\t 1  &  4\\\\\n",
       "\t 9  & 16\\\\\n",
       "\\end{tabular}\n"
      ],
      "text/markdown": [
       "\n",
       "| 1  |  4 |\n",
       "| 9  | 16 |\n",
       "\n"
      ],
      "text/plain": [
       "     [,1] [,2]\n",
       "[1,] 1     4  \n",
       "[2,] 9    16  "
      ]
     },
     "metadata": {},
     "output_type": "display_data"
    }
   ],
   "source": [
    "# element-wise opearation. multiplication, division. addition.\n",
    "# this is only for scaler operation.\n",
    "print('sqrt')\n",
    "sqrt(x)\n",
    "\n",
    "print('square')\n",
    "x^2\n",
    "\n"
   ]
  },
  {
   "cell_type": "code",
   "execution_count": 32,
   "id": "classical-tucson",
   "metadata": {},
   "outputs": [
    {
     "data": {
      "text/html": [
       "<ol class=list-inline>\n",
       "\t<li>2.16384248471999</li>\n",
       "\t<li>0.880378504836257</li>\n",
       "\t<li>0.505116252546635</li>\n",
       "\t<li>0.110590205280302</li>\n",
       "\t<li>-0.292858582542755</li>\n",
       "\t<li>0.772319991719735</li>\n",
       "\t<li>2.12879422908075</li>\n",
       "\t<li>0.547967970271966</li>\n",
       "\t<li>1.5321292289321</li>\n",
       "\t<li>1.66643085372446</li>\n",
       "\t<li>-0.478000049218653</li>\n",
       "\t<li>-0.368681625283169</li>\n",
       "\t<li>-0.51616612718285</li>\n",
       "\t<li>0.396937689328507</li>\n",
       "\t<li>-0.314871760008677</li>\n",
       "\t<li>-0.68468980072307</li>\n",
       "\t<li>1.63224778896626</li>\n",
       "\t<li>-0.684533761447407</li>\n",
       "\t<li>-0.313076969554707</li>\n",
       "\t<li>-0.640032652356013</li>\n",
       "\t<li>0.635304357750792</li>\n",
       "\t<li>0.0248483659564142</li>\n",
       "\t<li>0.227622211582782</li>\n",
       "\t<li>-0.246068246382641</li>\n",
       "\t<li>0.0242238293596929</li>\n",
       "\t<li>-1.24458246570898</li>\n",
       "\t<li>-1.20597453953542</li>\n",
       "\t<li>0.27309395035297</li>\n",
       "\t<li>1.72941403358424</li>\n",
       "\t<li>-1.06495086886085</li>\n",
       "\t<li>-0.113736688343385</li>\n",
       "\t<li>-0.643751470929205</li>\n",
       "\t<li>0.94064841775595</li>\n",
       "\t<li>1.91881017592712</li>\n",
       "\t<li>-1.00604555006459</li>\n",
       "\t<li>0.547082630414592</li>\n",
       "\t<li>0.033847058553478</li>\n",
       "\t<li>-0.315828929422014</li>\n",
       "\t<li>0.288544592663297</li>\n",
       "\t<li>-0.344392202055738</li>\n",
       "\t<li>0.116631435085098</li>\n",
       "\t<li>0.54296596794865</li>\n",
       "\t<li>1.14394754428354</li>\n",
       "\t<li>-1.28454884509523</li>\n",
       "\t<li>0.919811790401974</li>\n",
       "\t<li>-0.846090160871341</li>\n",
       "\t<li>-1.41930427293415</li>\n",
       "\t<li>-2.66569758915438</li>\n",
       "\t<li>0.83510614080417</li>\n",
       "\t<li>2.37744654893959</li>\n",
       "</ol>\n"
      ],
      "text/latex": [
       "\\begin{enumerate*}\n",
       "\\item 2.16384248471999\n",
       "\\item 0.880378504836257\n",
       "\\item 0.505116252546635\n",
       "\\item 0.110590205280302\n",
       "\\item -0.292858582542755\n",
       "\\item 0.772319991719735\n",
       "\\item 2.12879422908075\n",
       "\\item 0.547967970271966\n",
       "\\item 1.5321292289321\n",
       "\\item 1.66643085372446\n",
       "\\item -0.478000049218653\n",
       "\\item -0.368681625283169\n",
       "\\item -0.51616612718285\n",
       "\\item 0.396937689328507\n",
       "\\item -0.314871760008677\n",
       "\\item -0.68468980072307\n",
       "\\item 1.63224778896626\n",
       "\\item -0.684533761447407\n",
       "\\item -0.313076969554707\n",
       "\\item -0.640032652356013\n",
       "\\item 0.635304357750792\n",
       "\\item 0.0248483659564142\n",
       "\\item 0.227622211582782\n",
       "\\item -0.246068246382641\n",
       "\\item 0.0242238293596929\n",
       "\\item -1.24458246570898\n",
       "\\item -1.20597453953542\n",
       "\\item 0.27309395035297\n",
       "\\item 1.72941403358424\n",
       "\\item -1.06495086886085\n",
       "\\item -0.113736688343385\n",
       "\\item -0.643751470929205\n",
       "\\item 0.94064841775595\n",
       "\\item 1.91881017592712\n",
       "\\item -1.00604555006459\n",
       "\\item 0.547082630414592\n",
       "\\item 0.033847058553478\n",
       "\\item -0.315828929422014\n",
       "\\item 0.288544592663297\n",
       "\\item -0.344392202055738\n",
       "\\item 0.116631435085098\n",
       "\\item 0.54296596794865\n",
       "\\item 1.14394754428354\n",
       "\\item -1.28454884509523\n",
       "\\item 0.919811790401974\n",
       "\\item -0.846090160871341\n",
       "\\item -1.41930427293415\n",
       "\\item -2.66569758915438\n",
       "\\item 0.83510614080417\n",
       "\\item 2.37744654893959\n",
       "\\end{enumerate*}\n"
      ],
      "text/markdown": [
       "1. 2.16384248471999\n",
       "2. 0.880378504836257\n",
       "3. 0.505116252546635\n",
       "4. 0.110590205280302\n",
       "5. -0.292858582542755\n",
       "6. 0.772319991719735\n",
       "7. 2.12879422908075\n",
       "8. 0.547967970271966\n",
       "9. 1.5321292289321\n",
       "10. 1.66643085372446\n",
       "11. -0.478000049218653\n",
       "12. -0.368681625283169\n",
       "13. -0.51616612718285\n",
       "14. 0.396937689328507\n",
       "15. -0.314871760008677\n",
       "16. -0.68468980072307\n",
       "17. 1.63224778896626\n",
       "18. -0.684533761447407\n",
       "19. -0.313076969554707\n",
       "20. -0.640032652356013\n",
       "21. 0.635304357750792\n",
       "22. 0.0248483659564142\n",
       "23. 0.227622211582782\n",
       "24. -0.246068246382641\n",
       "25. 0.0242238293596929\n",
       "26. -1.24458246570898\n",
       "27. -1.20597453953542\n",
       "28. 0.27309395035297\n",
       "29. 1.72941403358424\n",
       "30. -1.06495086886085\n",
       "31. -0.113736688343385\n",
       "32. -0.643751470929205\n",
       "33. 0.94064841775595\n",
       "34. 1.91881017592712\n",
       "35. -1.00604555006459\n",
       "36. 0.547082630414592\n",
       "37. 0.033847058553478\n",
       "38. -0.315828929422014\n",
       "39. 0.288544592663297\n",
       "40. -0.344392202055738\n",
       "41. 0.116631435085098\n",
       "42. 0.54296596794865\n",
       "43. 1.14394754428354\n",
       "44. -1.28454884509523\n",
       "45. 0.919811790401974\n",
       "46. -0.846090160871341\n",
       "47. -1.41930427293415\n",
       "48. -2.66569758915438\n",
       "49. 0.83510614080417\n",
       "50. 2.37744654893959\n",
       "\n",
       "\n"
      ],
      "text/plain": [
       " [1]  2.16384248  0.88037850  0.50511625  0.11059021 -0.29285858  0.77231999\n",
       " [7]  2.12879423  0.54796797  1.53212923  1.66643085 -0.47800005 -0.36868163\n",
       "[13] -0.51616613  0.39693769 -0.31487176 -0.68468980  1.63224779 -0.68453376\n",
       "[19] -0.31307697 -0.64003265  0.63530436  0.02484837  0.22762221 -0.24606825\n",
       "[25]  0.02422383 -1.24458247 -1.20597454  0.27309395  1.72941403 -1.06495087\n",
       "[31] -0.11373669 -0.64375147  0.94064842  1.91881018 -1.00604555  0.54708263\n",
       "[37]  0.03384706 -0.31582893  0.28854459 -0.34439220  0.11663144  0.54296597\n",
       "[43]  1.14394754 -1.28454885  0.91981179 -0.84609016 -1.41930427 -2.66569759\n",
       "[49]  0.83510614  2.37744655"
      ]
     },
     "metadata": {},
     "output_type": "display_data"
    },
    {
     "data": {
      "text/html": [
       "<ol class=list-inline>\n",
       "\t<li>50.0013969708272</li>\n",
       "\t<li>49.8366576005362</li>\n",
       "\t<li>50.048893247322</li>\n",
       "\t<li>49.8980820590813</li>\n",
       "\t<li>50.1090553482873</li>\n",
       "\t<li>49.8860530194985</li>\n",
       "\t<li>49.9984274364994</li>\n",
       "\t<li>50.0297491282256</li>\n",
       "\t<li>50.3200590040037</li>\n",
       "\t<li>50.0089244244361</li>\n",
       "\t<li>50.0570972337992</li>\n",
       "\t<li>50.0528685630438</li>\n",
       "\t<li>49.9559095201779</li>\n",
       "\t<li>49.9327206631638</li>\n",
       "\t<li>50.2154313364679</li>\n",
       "\t<li>50.0593852716305</li>\n",
       "\t<li>49.9615936231966</li>\n",
       "\t<li>50.0719783276191</li>\n",
       "\t<li>50.1708173401959</li>\n",
       "\t<li>50.1075215667471</li>\n",
       "\t<li>50.0777420367219</li>\n",
       "\t<li>50.0052200046909</li>\n",
       "\t<li>49.8916301514964</li>\n",
       "\t<li>49.9991143793144</li>\n",
       "\t<li>50.2030643112179</li>\n",
       "\t<li>49.8886671066764</li>\n",
       "\t<li>50.1138271924578</li>\n",
       "\t<li>49.9385107357851</li>\n",
       "\t<li>49.7806463385058</li>\n",
       "\t<li>49.8784313627917</li>\n",
       "\t<li>49.9954673638494</li>\n",
       "\t<li>50.1598812624378</li>\n",
       "\t<li>50.0927542199521</li>\n",
       "\t<li>50.0829284552421</li>\n",
       "\t<li>50.1024603875802</li>\n",
       "\t<li>49.952376193169</li>\n",
       "\t<li>50.1638868392881</li>\n",
       "\t<li>49.9367949041742</li>\n",
       "\t<li>49.8620381423998</li>\n",
       "\t<li>49.9742544251941</li>\n",
       "\t<li>50.1679972711411</li>\n",
       "\t<li>49.7454141962322</li>\n",
       "\t<li>50.0012078784059</li>\n",
       "\t<li>50.1960925111166</li>\n",
       "\t<li>49.9614094518825</li>\n",
       "\t<li>50.0910757547917</li>\n",
       "\t<li>49.8551869205803</li>\n",
       "\t<li>49.8878385403782</li>\n",
       "\t<li>49.9026382094155</li>\n",
       "\t<li>49.9932813078093</li>\n",
       "</ol>\n"
      ],
      "text/latex": [
       "\\begin{enumerate*}\n",
       "\\item 50.0013969708272\n",
       "\\item 49.8366576005362\n",
       "\\item 50.048893247322\n",
       "\\item 49.8980820590813\n",
       "\\item 50.1090553482873\n",
       "\\item 49.8860530194985\n",
       "\\item 49.9984274364994\n",
       "\\item 50.0297491282256\n",
       "\\item 50.3200590040037\n",
       "\\item 50.0089244244361\n",
       "\\item 50.0570972337992\n",
       "\\item 50.0528685630438\n",
       "\\item 49.9559095201779\n",
       "\\item 49.9327206631638\n",
       "\\item 50.2154313364679\n",
       "\\item 50.0593852716305\n",
       "\\item 49.9615936231966\n",
       "\\item 50.0719783276191\n",
       "\\item 50.1708173401959\n",
       "\\item 50.1075215667471\n",
       "\\item 50.0777420367219\n",
       "\\item 50.0052200046909\n",
       "\\item 49.8916301514964\n",
       "\\item 49.9991143793144\n",
       "\\item 50.2030643112179\n",
       "\\item 49.8886671066764\n",
       "\\item 50.1138271924578\n",
       "\\item 49.9385107357851\n",
       "\\item 49.7806463385058\n",
       "\\item 49.8784313627917\n",
       "\\item 49.9954673638494\n",
       "\\item 50.1598812624378\n",
       "\\item 50.0927542199521\n",
       "\\item 50.0829284552421\n",
       "\\item 50.1024603875802\n",
       "\\item 49.952376193169\n",
       "\\item 50.1638868392881\n",
       "\\item 49.9367949041742\n",
       "\\item 49.8620381423998\n",
       "\\item 49.9742544251941\n",
       "\\item 50.1679972711411\n",
       "\\item 49.7454141962322\n",
       "\\item 50.0012078784059\n",
       "\\item 50.1960925111166\n",
       "\\item 49.9614094518825\n",
       "\\item 50.0910757547917\n",
       "\\item 49.8551869205803\n",
       "\\item 49.8878385403782\n",
       "\\item 49.9026382094155\n",
       "\\item 49.9932813078093\n",
       "\\end{enumerate*}\n"
      ],
      "text/markdown": [
       "1. 50.0013969708272\n",
       "2. 49.8366576005362\n",
       "3. 50.048893247322\n",
       "4. 49.8980820590813\n",
       "5. 50.1090553482873\n",
       "6. 49.8860530194985\n",
       "7. 49.9984274364994\n",
       "8. 50.0297491282256\n",
       "9. 50.3200590040037\n",
       "10. 50.0089244244361\n",
       "11. 50.0570972337992\n",
       "12. 50.0528685630438\n",
       "13. 49.9559095201779\n",
       "14. 49.9327206631638\n",
       "15. 50.2154313364679\n",
       "16. 50.0593852716305\n",
       "17. 49.9615936231966\n",
       "18. 50.0719783276191\n",
       "19. 50.1708173401959\n",
       "20. 50.1075215667471\n",
       "21. 50.0777420367219\n",
       "22. 50.0052200046909\n",
       "23. 49.8916301514964\n",
       "24. 49.9991143793144\n",
       "25. 50.2030643112179\n",
       "26. 49.8886671066764\n",
       "27. 50.1138271924578\n",
       "28. 49.9385107357851\n",
       "29. 49.7806463385058\n",
       "30. 49.8784313627917\n",
       "31. 49.9954673638494\n",
       "32. 50.1598812624378\n",
       "33. 50.0927542199521\n",
       "34. 50.0829284552421\n",
       "35. 50.1024603875802\n",
       "36. 49.952376193169\n",
       "37. 50.1638868392881\n",
       "38. 49.9367949041742\n",
       "39. 49.8620381423998\n",
       "40. 49.9742544251941\n",
       "41. 50.1679972711411\n",
       "42. 49.7454141962322\n",
       "43. 50.0012078784059\n",
       "44. 50.1960925111166\n",
       "45. 49.9614094518825\n",
       "46. 50.0910757547917\n",
       "47. 49.8551869205803\n",
       "48. 49.8878385403782\n",
       "49. 49.9026382094155\n",
       "50. 49.9932813078093\n",
       "\n",
       "\n"
      ],
      "text/plain": [
       " [1] 50.00140 49.83666 50.04889 49.89808 50.10906 49.88605 49.99843 50.02975\n",
       " [9] 50.32006 50.00892 50.05710 50.05287 49.95591 49.93272 50.21543 50.05939\n",
       "[17] 49.96159 50.07198 50.17082 50.10752 50.07774 50.00522 49.89163 49.99911\n",
       "[25] 50.20306 49.88867 50.11383 49.93851 49.78065 49.87843 49.99547 50.15988\n",
       "[33] 50.09275 50.08293 50.10246 49.95238 50.16389 49.93679 49.86204 49.97425\n",
       "[41] 50.16800 49.74541 50.00121 50.19609 49.96141 50.09108 49.85519 49.88784\n",
       "[49] 49.90264 49.99328"
      ]
     },
     "metadata": {},
     "output_type": "display_data"
    },
    {
     "data": {
      "text/html": [
       "-0.0844340085238671"
      ],
      "text/latex": [
       "-0.0844340085238671"
      ],
      "text/markdown": [
       "-0.0844340085238671"
      ],
      "text/plain": [
       "[1] -0.08443401"
      ]
     },
     "metadata": {},
     "output_type": "display_data"
    }
   ],
   "source": [
    "# rnorm() use normal distrubition to generate a VECTOR\n",
    "x=rnorm (50)\n",
    "# length(x)\n",
    "x\n",
    "\n",
    "# y=x+rnorm (50, mean=50, sd=.1)\n",
    "y = rnorm (50, mean=50, sd=.1)\n",
    "y\n",
    "\n",
    "# Pearson correlation\n",
    "#  computes the correlation coefficient\n",
    "cor(x,y)"
   ]
  },
  {
   "cell_type": "code",
   "execution_count": 56,
   "id": "stock-floor",
   "metadata": {},
   "outputs": [
    {
     "data": {
      "text/html": [
       "0.0110355710943715"
      ],
      "text/latex": [
       "0.0110355710943715"
      ],
      "text/markdown": [
       "0.0110355710943715"
      ],
      "text/plain": [
       "[1] 0.01103557"
      ]
     },
     "metadata": {},
     "output_type": "display_data"
    },
    {
     "data": {
      "text/html": [
       "0.732867501277449"
      ],
      "text/latex": [
       "0.732867501277449"
      ],
      "text/markdown": [
       "0.732867501277449"
      ],
      "text/plain": [
       "[1] 0.7328675"
      ]
     },
     "metadata": {},
     "output_type": "display_data"
    },
    {
     "data": {
      "text/html": [
       "0.856076808047881"
      ],
      "text/latex": [
       "0.856076808047881"
      ],
      "text/markdown": [
       "0.856076808047881"
      ],
      "text/plain": [
       "[1] 0.8560768"
      ]
     },
     "metadata": {},
     "output_type": "display_data"
    }
   ],
   "source": [
    "# to reproduce the exact same set of random numbers\n",
    "# set.seed()\n",
    "#set.seed (1303)\n",
    "# rnorm (50)\n",
    "\n",
    "# mean() mean. var()= varience sd()= standard deviation\n",
    "\n",
    "set.seed (3)\n",
    "y=rnorm (100)\n",
    "mean(y)\n",
    "var(y)\n",
    "sd(y)"
   ]
  },
  {
   "cell_type": "code",
   "execution_count": 57,
   "id": "taken-genesis",
   "metadata": {},
   "outputs": [
    {
     "data": {
      "text/html": [
       "<ol class=list-inline>\n",
       "\t<li>1</li>\n",
       "\t<li>2</li>\n",
       "\t<li>3</li>\n",
       "</ol>\n"
      ],
      "text/latex": [
       "\\begin{enumerate*}\n",
       "\\item 1\n",
       "\\item 2\n",
       "\\item 3\n",
       "\\end{enumerate*}\n"
      ],
      "text/markdown": [
       "1. 1\n",
       "2. 2\n",
       "3. 3\n",
       "\n",
       "\n"
      ],
      "text/plain": [
       "[1] 1 2 3"
      ]
     },
     "metadata": {},
     "output_type": "display_data"
    },
    {
     "data": {
      "text/html": [
       "<ol class=list-inline>\n",
       "\t<li>0</li>\n",
       "\t<li>0.111111111111111</li>\n",
       "\t<li>0.222222222222222</li>\n",
       "\t<li>0.333333333333333</li>\n",
       "\t<li>0.444444444444444</li>\n",
       "\t<li>0.555555555555556</li>\n",
       "\t<li>0.666666666666667</li>\n",
       "\t<li>0.777777777777778</li>\n",
       "\t<li>0.888888888888889</li>\n",
       "\t<li>1</li>\n",
       "</ol>\n"
      ],
      "text/latex": [
       "\\begin{enumerate*}\n",
       "\\item 0\n",
       "\\item 0.111111111111111\n",
       "\\item 0.222222222222222\n",
       "\\item 0.333333333333333\n",
       "\\item 0.444444444444444\n",
       "\\item 0.555555555555556\n",
       "\\item 0.666666666666667\n",
       "\\item 0.777777777777778\n",
       "\\item 0.888888888888889\n",
       "\\item 1\n",
       "\\end{enumerate*}\n"
      ],
      "text/markdown": [
       "1. 0\n",
       "2. 0.111111111111111\n",
       "3. 0.222222222222222\n",
       "4. 0.333333333333333\n",
       "5. 0.444444444444444\n",
       "6. 0.555555555555556\n",
       "7. 0.666666666666667\n",
       "8. 0.777777777777778\n",
       "9. 0.888888888888889\n",
       "10. 1\n",
       "\n",
       "\n"
      ],
      "text/plain": [
       " [1] 0.0000000 0.1111111 0.2222222 0.3333333 0.4444444 0.5555556 0.6666667\n",
       " [8] 0.7777778 0.8888889 1.0000000"
      ]
     },
     "metadata": {},
     "output_type": "display_data"
    },
    {
     "data": {
      "text/html": [
       "<ol class=list-inline>\n",
       "\t<li>-10</li>\n",
       "\t<li>-9.59183673469388</li>\n",
       "\t<li>-9.18367346938776</li>\n",
       "\t<li>-8.77551020408163</li>\n",
       "\t<li>-8.36734693877551</li>\n",
       "\t<li>-7.95918367346939</li>\n",
       "\t<li>-7.55102040816327</li>\n",
       "\t<li>-7.14285714285714</li>\n",
       "\t<li>-6.73469387755102</li>\n",
       "\t<li>-6.3265306122449</li>\n",
       "\t<li>-5.91836734693878</li>\n",
       "\t<li>-5.51020408163265</li>\n",
       "\t<li>-5.10204081632653</li>\n",
       "\t<li>-4.69387755102041</li>\n",
       "\t<li>-4.28571428571429</li>\n",
       "\t<li>-3.87755102040816</li>\n",
       "\t<li>-3.46938775510204</li>\n",
       "\t<li>-3.06122448979592</li>\n",
       "\t<li>-2.6530612244898</li>\n",
       "\t<li>-2.24489795918367</li>\n",
       "\t<li>-1.83673469387755</li>\n",
       "\t<li>-1.42857142857143</li>\n",
       "\t<li>-1.02040816326531</li>\n",
       "\t<li>-0.612244897959183</li>\n",
       "\t<li>-0.204081632653061</li>\n",
       "\t<li>0.204081632653061</li>\n",
       "\t<li>0.612244897959183</li>\n",
       "\t<li>1.02040816326531</li>\n",
       "\t<li>1.42857142857143</li>\n",
       "\t<li>1.83673469387755</li>\n",
       "\t<li>2.24489795918367</li>\n",
       "\t<li>2.6530612244898</li>\n",
       "\t<li>3.06122448979592</li>\n",
       "\t<li>3.46938775510204</li>\n",
       "\t<li>3.87755102040816</li>\n",
       "\t<li>4.28571428571429</li>\n",
       "\t<li>4.69387755102041</li>\n",
       "\t<li>5.10204081632653</li>\n",
       "\t<li>5.51020408163265</li>\n",
       "\t<li>5.91836734693878</li>\n",
       "\t<li>6.3265306122449</li>\n",
       "\t<li>6.73469387755102</li>\n",
       "\t<li>7.14285714285714</li>\n",
       "\t<li>7.55102040816326</li>\n",
       "\t<li>7.95918367346939</li>\n",
       "\t<li>8.36734693877551</li>\n",
       "\t<li>8.77551020408163</li>\n",
       "\t<li>9.18367346938776</li>\n",
       "\t<li>9.59183673469388</li>\n",
       "\t<li>10</li>\n",
       "</ol>\n"
      ],
      "text/latex": [
       "\\begin{enumerate*}\n",
       "\\item -10\n",
       "\\item -9.59183673469388\n",
       "\\item -9.18367346938776\n",
       "\\item -8.77551020408163\n",
       "\\item -8.36734693877551\n",
       "\\item -7.95918367346939\n",
       "\\item -7.55102040816327\n",
       "\\item -7.14285714285714\n",
       "\\item -6.73469387755102\n",
       "\\item -6.3265306122449\n",
       "\\item -5.91836734693878\n",
       "\\item -5.51020408163265\n",
       "\\item -5.10204081632653\n",
       "\\item -4.69387755102041\n",
       "\\item -4.28571428571429\n",
       "\\item -3.87755102040816\n",
       "\\item -3.46938775510204\n",
       "\\item -3.06122448979592\n",
       "\\item -2.6530612244898\n",
       "\\item -2.24489795918367\n",
       "\\item -1.83673469387755\n",
       "\\item -1.42857142857143\n",
       "\\item -1.02040816326531\n",
       "\\item -0.612244897959183\n",
       "\\item -0.204081632653061\n",
       "\\item 0.204081632653061\n",
       "\\item 0.612244897959183\n",
       "\\item 1.02040816326531\n",
       "\\item 1.42857142857143\n",
       "\\item 1.83673469387755\n",
       "\\item 2.24489795918367\n",
       "\\item 2.6530612244898\n",
       "\\item 3.06122448979592\n",
       "\\item 3.46938775510204\n",
       "\\item 3.87755102040816\n",
       "\\item 4.28571428571429\n",
       "\\item 4.69387755102041\n",
       "\\item 5.10204081632653\n",
       "\\item 5.51020408163265\n",
       "\\item 5.91836734693878\n",
       "\\item 6.3265306122449\n",
       "\\item 6.73469387755102\n",
       "\\item 7.14285714285714\n",
       "\\item 7.55102040816326\n",
       "\\item 7.95918367346939\n",
       "\\item 8.36734693877551\n",
       "\\item 8.77551020408163\n",
       "\\item 9.18367346938776\n",
       "\\item 9.59183673469388\n",
       "\\item 10\n",
       "\\end{enumerate*}\n"
      ],
      "text/markdown": [
       "1. -10\n",
       "2. -9.59183673469388\n",
       "3. -9.18367346938776\n",
       "4. -8.77551020408163\n",
       "5. -8.36734693877551\n",
       "6. -7.95918367346939\n",
       "7. -7.55102040816327\n",
       "8. -7.14285714285714\n",
       "9. -6.73469387755102\n",
       "10. -6.3265306122449\n",
       "11. -5.91836734693878\n",
       "12. -5.51020408163265\n",
       "13. -5.10204081632653\n",
       "14. -4.69387755102041\n",
       "15. -4.28571428571429\n",
       "16. -3.87755102040816\n",
       "17. -3.46938775510204\n",
       "18. -3.06122448979592\n",
       "19. -2.6530612244898\n",
       "20. -2.24489795918367\n",
       "21. -1.83673469387755\n",
       "22. -1.42857142857143\n",
       "23. -1.02040816326531\n",
       "24. -0.612244897959183\n",
       "25. -0.204081632653061\n",
       "26. 0.204081632653061\n",
       "27. 0.612244897959183\n",
       "28. 1.02040816326531\n",
       "29. 1.42857142857143\n",
       "30. 1.83673469387755\n",
       "31. 2.24489795918367\n",
       "32. 2.6530612244898\n",
       "33. 3.06122448979592\n",
       "34. 3.46938775510204\n",
       "35. 3.87755102040816\n",
       "36. 4.28571428571429\n",
       "37. 4.69387755102041\n",
       "38. 5.10204081632653\n",
       "39. 5.51020408163265\n",
       "40. 5.91836734693878\n",
       "41. 6.3265306122449\n",
       "42. 6.73469387755102\n",
       "43. 7.14285714285714\n",
       "44. 7.55102040816326\n",
       "45. 7.95918367346939\n",
       "46. 8.36734693877551\n",
       "47. 8.77551020408163\n",
       "48. 9.18367346938776\n",
       "49. 9.59183673469388\n",
       "50. 10\n",
       "\n",
       "\n"
      ],
      "text/plain": [
       " [1] -10.0000000  -9.5918367  -9.1836735  -8.7755102  -8.3673469  -7.9591837\n",
       " [7]  -7.5510204  -7.1428571  -6.7346939  -6.3265306  -5.9183673  -5.5102041\n",
       "[13]  -5.1020408  -4.6938776  -4.2857143  -3.8775510  -3.4693878  -3.0612245\n",
       "[19]  -2.6530612  -2.2448980  -1.8367347  -1.4285714  -1.0204082  -0.6122449\n",
       "[25]  -0.2040816   0.2040816   0.6122449   1.0204082   1.4285714   1.8367347\n",
       "[31]   2.2448980   2.6530612   3.0612245   3.4693878   3.8775510   4.2857143\n",
       "[37]   4.6938776   5.1020408   5.5102041   5.9183673   6.3265306   6.7346939\n",
       "[43]   7.1428571   7.5510204   7.9591837   8.3673469   8.7755102   9.1836735\n",
       "[49]   9.5918367  10.0000000"
      ]
     },
     "metadata": {},
     "output_type": "display_data"
    }
   ],
   "source": [
    "# sequence of number generator\n",
    "# seq(a,b)  range from 1 to b\n",
    "seq(1,3)\n",
    "seq(0,1, length=10)\n",
    "\n",
    "x=seq(-10 ,10 ,length =50)\n",
    "x"
   ]
  },
  {
   "cell_type": "code",
   "execution_count": 58,
   "id": "authentic-columbus",
   "metadata": {},
   "outputs": [
    {
     "data": {
      "text/html": [
       "<strong>png:</strong> 2"
      ],
      "text/latex": [
       "\\textbf{png:} 2"
      ],
      "text/markdown": [
       "**png:** 2"
      ],
      "text/plain": [
       "png \n",
       "  2 "
      ]
     },
     "metadata": {},
     "output_type": "display_data"
    },
    {
     "data": {
      "image/png": "[encoded data removed]",
      "text/plain": [
       "Plot with title \" Plot of X vs Y\""
      ]
     },
     "metadata": {},
     "output_type": "display_data"
    }
   ],
   "source": [
    "# graphics  important visualize tools\n",
    "# plot ()  see documentaion for detials\n",
    "\n",
    "x=rnorm (100)\n",
    "y=rnorm (100)\n",
    "# plot(x,y)   # planin vannila \n",
    "\n",
    "# make it more meaningful \n",
    "plot(x,y,xlab=\" this is the x-axis\",ylab=\" this is the y-axis\", main=\" Plot of X vs Y\")\n",
    "\n",
    "\n",
    "# to save the graph in local disk. \n",
    "# option pdf, jpeg.\n",
    "pdf (\" Figure .pdf \")\n",
    "plot(x,y,col =\" green \")\n",
    "dev.off ()                # idicate that plot renedering is finished"
   ]
  },
  {
   "cell_type": "code",
   "execution_count": 12,
   "id": "active-shelter",
   "metadata": {},
   "outputs": [
    {
     "data": {
      "image/png": "[encoded data removed]",
      "text/plain": [
       "plot without title"
      ]
     },
     "metadata": {},
     "output_type": "display_data"
    },
    {
     "data": {
      "image/png": "[encoded data removed]",
      "text/plain": [
       "plot without title"
      ]
     },
     "metadata": {},
     "output_type": "display_data"
    }
   ],
   "source": [
    "# contoru plot to represent 3D data. more like topographical map\n",
    "# contour()\n",
    "y = x\n",
    "f=outer(x,y,function (x,y)cos(y)/(1+x^2))\n",
    "\n",
    "x = seq(1:10)\n",
    "y = x\n",
    "f = outer(x, y, \"*\")\n",
    "contour (x,y,f)\n",
    "contour (x,y,f,nlevels =45, add=T)  # add more contour to current graph\n",
    "image(x,y,f)   # heatmap\n",
    "        \n",
    "\n"
   ]
  },
  {
   "cell_type": "code",
   "execution_count": 13,
   "id": "electronic-device",
   "metadata": {},
   "outputs": [
    {
     "data": {
      "image/png": "[encoded data removed]",
      "text/plain": [
       "plot without title"
      ]
     },
     "metadata": {},
     "output_type": "display_data"
    }
   ],
   "source": [
    "persp(x,y,f,theta=30,,phi=40)  # viewing angel "
   ]
  },
  {
   "cell_type": "code",
   "execution_count": 59,
   "id": "welcome-ordinary",
   "metadata": {},
   "outputs": [
    {
     "data": {
      "text/html": [
       "<table>\n",
       "<tbody>\n",
       "\t<tr><td>1 </td><td>5 </td><td> 9</td><td>13</td></tr>\n",
       "\t<tr><td>2 </td><td>6 </td><td>10</td><td>14</td></tr>\n",
       "\t<tr><td>3 </td><td>7 </td><td>11</td><td>15</td></tr>\n",
       "\t<tr><td>4 </td><td>8 </td><td>12</td><td>16</td></tr>\n",
       "</tbody>\n",
       "</table>\n"
      ],
      "text/latex": [
       "\\begin{tabular}{llll}\n",
       "\t 1  & 5  &  9 & 13\\\\\n",
       "\t 2  & 6  & 10 & 14\\\\\n",
       "\t 3  & 7  & 11 & 15\\\\\n",
       "\t 4  & 8  & 12 & 16\\\\\n",
       "\\end{tabular}\n"
      ],
      "text/markdown": [
       "\n",
       "| 1  | 5  |  9 | 13 |\n",
       "| 2  | 6  | 10 | 14 |\n",
       "| 3  | 7  | 11 | 15 |\n",
       "| 4  | 8  | 12 | 16 |\n",
       "\n"
      ],
      "text/plain": [
       "     [,1] [,2] [,3] [,4]\n",
       "[1,] 1    5     9   13  \n",
       "[2,] 2    6    10   14  \n",
       "[3,] 3    7    11   15  \n",
       "[4,] 4    8    12   16  "
      ]
     },
     "metadata": {},
     "output_type": "display_data"
    },
    {
     "data": {
      "text/html": [
       "10"
      ],
      "text/latex": [
       "10"
      ],
      "text/markdown": [
       "10"
      ],
      "text/plain": [
       "[1] 10"
      ]
     },
     "metadata": {},
     "output_type": "display_data"
    },
    {
     "name": "stdout",
     "output_type": "stream",
     "text": [
      "[1] \"multiple rows n cols\"\n"
     ]
    },
    {
     "data": {
      "text/html": [
       "<table>\n",
       "<tbody>\n",
       "\t<tr><td>5 </td><td>13</td></tr>\n",
       "\t<tr><td>7 </td><td>15</td></tr>\n",
       "</tbody>\n",
       "</table>\n"
      ],
      "text/latex": [
       "\\begin{tabular}{ll}\n",
       "\t 5  & 13\\\\\n",
       "\t 7  & 15\\\\\n",
       "\\end{tabular}\n"
      ],
      "text/markdown": [
       "\n",
       "| 5  | 13 |\n",
       "| 7  | 15 |\n",
       "\n"
      ],
      "text/plain": [
       "     [,1] [,2]\n",
       "[1,] 5    13  \n",
       "[2,] 7    15  "
      ]
     },
     "metadata": {},
     "output_type": "display_data"
    },
    {
     "name": "stdout",
     "output_type": "stream",
     "text": [
      "[1] \"Range\"\n"
     ]
    },
    {
     "data": {
      "text/html": [
       "<table>\n",
       "<tbody>\n",
       "\t<tr><td>5 </td><td> 9</td><td>13</td></tr>\n",
       "\t<tr><td>6 </td><td>10</td><td>14</td></tr>\n",
       "\t<tr><td>7 </td><td>11</td><td>15</td></tr>\n",
       "</tbody>\n",
       "</table>\n"
      ],
      "text/latex": [
       "\\begin{tabular}{lll}\n",
       "\t 5  &  9 & 13\\\\\n",
       "\t 6  & 10 & 14\\\\\n",
       "\t 7  & 11 & 15\\\\\n",
       "\\end{tabular}\n"
      ],
      "text/markdown": [
       "\n",
       "| 5  |  9 | 13 |\n",
       "| 6  | 10 | 14 |\n",
       "| 7  | 11 | 15 |\n",
       "\n"
      ],
      "text/plain": [
       "     [,1] [,2] [,3]\n",
       "[1,] 5     9   13  \n",
       "[2,] 6    10   14  \n",
       "[3,] 7    11   15  "
      ]
     },
     "metadata": {},
     "output_type": "display_data"
    },
    {
     "name": "stdout",
     "output_type": "stream",
     "text": [
      "[1] \"All cols\"\n"
     ]
    },
    {
     "data": {
      "text/html": [
       "<table>\n",
       "<tbody>\n",
       "\t<tr><td>1 </td><td>5 </td><td> 9</td><td>13</td></tr>\n",
       "\t<tr><td>2 </td><td>6 </td><td>10</td><td>14</td></tr>\n",
       "</tbody>\n",
       "</table>\n"
      ],
      "text/latex": [
       "\\begin{tabular}{llll}\n",
       "\t 1  & 5  &  9 & 13\\\\\n",
       "\t 2  & 6  & 10 & 14\\\\\n",
       "\\end{tabular}\n"
      ],
      "text/markdown": [
       "\n",
       "| 1  | 5  |  9 | 13 |\n",
       "| 2  | 6  | 10 | 14 |\n",
       "\n"
      ],
      "text/plain": [
       "     [,1] [,2] [,3] [,4]\n",
       "[1,] 1    5     9   13  \n",
       "[2,] 2    6    10   14  "
      ]
     },
     "metadata": {},
     "output_type": "display_data"
    },
    {
     "name": "stdout",
     "output_type": "stream",
     "text": [
      "[1] \"All rows\"\n"
     ]
    },
    {
     "data": {
      "text/html": [
       "<table>\n",
       "<tbody>\n",
       "\t<tr><td>1 </td><td>5 </td><td> 9</td></tr>\n",
       "\t<tr><td>2 </td><td>6 </td><td>10</td></tr>\n",
       "\t<tr><td>3 </td><td>7 </td><td>11</td></tr>\n",
       "\t<tr><td>4 </td><td>8 </td><td>12</td></tr>\n",
       "</tbody>\n",
       "</table>\n"
      ],
      "text/latex": [
       "\\begin{tabular}{lll}\n",
       "\t 1  & 5  &  9\\\\\n",
       "\t 2  & 6  & 10\\\\\n",
       "\t 3  & 7  & 11\\\\\n",
       "\t 4  & 8  & 12\\\\\n",
       "\\end{tabular}\n"
      ],
      "text/markdown": [
       "\n",
       "| 1  | 5  |  9 |\n",
       "| 2  | 6  | 10 |\n",
       "| 3  | 7  | 11 |\n",
       "| 4  | 8  | 12 |\n",
       "\n"
      ],
      "text/plain": [
       "     [,1] [,2] [,3]\n",
       "[1,] 1    5     9  \n",
       "[2,] 2    6    10  \n",
       "[3,] 3    7    11  \n",
       "[4,] 4    8    12  "
      ]
     },
     "metadata": {},
     "output_type": "display_data"
    }
   ],
   "source": [
    "# Matrix and how to access \n",
    "A=matrix (1:16 ,4 ,4)\n",
    "A\n",
    "A[2,3]   #  A[row #, col #]\n",
    "\n",
    "print('multiple rows n cols')\n",
    "A[c(1,3) ,c(2,4) ]   # multiple rows and cols\n",
    "\n",
    "print('Range')\n",
    "A[1:3 ,2:4]  # Range\n",
    "\n",
    "print('All cols')\n",
    "A[1:2 ,] # R assume all cols\n",
    "\n",
    "print('All rows')\n",
    "A[ ,1:3]"
   ]
  },
  {
   "cell_type": "code",
   "execution_count": 15,
   "id": "greek-uncertainty",
   "metadata": {},
   "outputs": [
    {
     "data": {
      "text/html": [
       "<ol class=list-inline>\n",
       "\t<li>4</li>\n",
       "\t<li>4</li>\n",
       "</ol>\n"
      ],
      "text/latex": [
       "\\begin{enumerate*}\n",
       "\\item 4\n",
       "\\item 4\n",
       "\\end{enumerate*}\n"
      ],
      "text/markdown": [
       "1. 4\n",
       "2. 4\n",
       "\n",
       "\n"
      ],
      "text/plain": [
       "[1] 4 4"
      ]
     },
     "metadata": {},
     "output_type": "display_data"
    }
   ],
   "source": [
    "# dimension of a matrix\n",
    "dim(A)"
   ]
  },
  {
   "cell_type": "code",
   "execution_count": 1,
   "id": "jewish-combination",
   "metadata": {},
   "outputs": [
    {
     "name": "stderr",
     "output_type": "stream",
     "text": [
      "Warning message:\n",
      "\"package 'ISLR' was built under R version 3.6.3\""
     ]
    },
    {
     "data": {
      "text/html": [
       "<table>\n",
       "<thead><tr><th scope=col>mpg</th><th scope=col>cylinders</th><th scope=col>displacement</th><th scope=col>horsepower</th><th scope=col>weight</th><th scope=col>acceleration</th><th scope=col>year</th><th scope=col>origin</th><th scope=col>name</th></tr></thead>\n",
       "<tbody>\n",
       "\t<tr><td>NA                       </td><td>8                        </td><td>307                      </td><td>130                      </td><td>3504                     </td><td>12.0                     </td><td>70                       </td><td>1                        </td><td>chevrolet chevelle malibu</td></tr>\n",
       "\t<tr><td>15                       </td><td>8                        </td><td>350                      </td><td>165                      </td><td>3693                     </td><td>11.5                     </td><td>70                       </td><td>1                        </td><td>buick skylark 320        </td></tr>\n",
       "\t<tr><td>18                       </td><td>8                        </td><td>318                      </td><td>150                      </td><td>3436                     </td><td>11.0                     </td><td>70                       </td><td>1                        </td><td>plymouth satellite       </td></tr>\n",
       "\t<tr><td>16                       </td><td>8                        </td><td>304                      </td><td>150                      </td><td>3433                     </td><td>12.0                     </td><td>70                       </td><td>1                        </td><td>amc rebel sst            </td></tr>\n",
       "\t<tr><td>17                       </td><td>8                        </td><td>302                      </td><td>140                      </td><td>3449                     </td><td>10.5                     </td><td>70                       </td><td>1                        </td><td>ford torino              </td></tr>\n",
       "\t<tr><td>15                       </td><td>8                        </td><td>429                      </td><td>198                      </td><td>4341                     </td><td>10.0                     </td><td>70                       </td><td>1                        </td><td>ford galaxie 500         </td></tr>\n",
       "</tbody>\n",
       "</table>\n"
      ],
      "text/latex": [
       "\\begin{tabular}{r|lllllllll}\n",
       " mpg & cylinders & displacement & horsepower & weight & acceleration & year & origin & name\\\\\n",
       "\\hline\n",
       "\t NA                        & 8                         & 307                       & 130                       & 3504                      & 12.0                      & 70                        & 1                         & chevrolet chevelle malibu\\\\\n",
       "\t 15                        & 8                         & 350                       & 165                       & 3693                      & 11.5                      & 70                        & 1                         & buick skylark 320        \\\\\n",
       "\t 18                        & 8                         & 318                       & 150                       & 3436                      & 11.0                      & 70                        & 1                         & plymouth satellite       \\\\\n",
       "\t 16                        & 8                         & 304                       & 150                       & 3433                      & 12.0                      & 70                        & 1                         & amc rebel sst            \\\\\n",
       "\t 17                        & 8                         & 302                       & 140                       & 3449                      & 10.5                      & 70                        & 1                         & ford torino              \\\\\n",
       "\t 15                        & 8                         & 429                       & 198                       & 4341                      & 10.0                      & 70                        & 1                         & ford galaxie 500         \\\\\n",
       "\\end{tabular}\n"
      ],
      "text/markdown": [
       "\n",
       "| mpg | cylinders | displacement | horsepower | weight | acceleration | year | origin | name |\n",
       "|---|---|---|---|---|---|---|---|---|\n",
       "| NA                        | 8                         | 307                       | 130                       | 3504                      | 12.0                      | 70                        | 1                         | chevrolet chevelle malibu |\n",
       "| 15                        | 8                         | 350                       | 165                       | 3693                      | 11.5                      | 70                        | 1                         | buick skylark 320         |\n",
       "| 18                        | 8                         | 318                       | 150                       | 3436                      | 11.0                      | 70                        | 1                         | plymouth satellite        |\n",
       "| 16                        | 8                         | 304                       | 150                       | 3433                      | 12.0                      | 70                        | 1                         | amc rebel sst             |\n",
       "| 17                        | 8                         | 302                       | 140                       | 3449                      | 10.5                      | 70                        | 1                         | ford torino               |\n",
       "| 15                        | 8                         | 429                       | 198                       | 4341                      | 10.0                      | 70                        | 1                         | ford galaxie 500          |\n",
       "\n"
      ],
      "text/plain": [
       "  mpg cylinders displacement horsepower weight acceleration year origin\n",
       "1 NA  8         307          130        3504   12.0         70   1     \n",
       "2 15  8         350          165        3693   11.5         70   1     \n",
       "3 18  8         318          150        3436   11.0         70   1     \n",
       "4 16  8         304          150        3433   12.0         70   1     \n",
       "5 17  8         302          140        3449   10.5         70   1     \n",
       "6 15  8         429          198        4341   10.0         70   1     \n",
       "  name                     \n",
       "1 chevrolet chevelle malibu\n",
       "2 buick skylark 320        \n",
       "3 plymouth satellite       \n",
       "4 amc rebel sst            \n",
       "5 ford torino              \n",
       "6 ford galaxie 500         "
      ]
     },
     "metadata": {},
     "output_type": "display_data"
    },
    {
     "data": {
      "text/html": [
       "<table>\n",
       "<thead><tr><th></th><th scope=col>mpg</th><th scope=col>cylinders</th><th scope=col>displacement</th><th scope=col>horsepower</th><th scope=col>weight</th><th scope=col>acceleration</th><th scope=col>year</th><th scope=col>origin</th><th scope=col>name</th></tr></thead>\n",
       "<tbody>\n",
       "\t<tr><th scope=row>392</th><td>27              </td><td>4               </td><td>151             </td><td>90              </td><td>2950            </td><td>17.3            </td><td>82              </td><td>1               </td><td>chevrolet camaro</td></tr>\n",
       "\t<tr><th scope=row>393</th><td>27              </td><td>4               </td><td>140             </td><td>86              </td><td>2790            </td><td>15.6            </td><td>82              </td><td>1               </td><td>ford mustang gl </td></tr>\n",
       "\t<tr><th scope=row>394</th><td>44              </td><td>4               </td><td> 97             </td><td>52              </td><td>2130            </td><td>24.6            </td><td>82              </td><td>2               </td><td>vw pickup       </td></tr>\n",
       "\t<tr><th scope=row>395</th><td>32              </td><td>4               </td><td>135             </td><td>84              </td><td>2295            </td><td>11.6            </td><td>82              </td><td>1               </td><td>dodge rampage   </td></tr>\n",
       "\t<tr><th scope=row>396</th><td>28              </td><td>4               </td><td>120             </td><td>79              </td><td>2625            </td><td>18.6            </td><td>82              </td><td>1               </td><td>ford ranger     </td></tr>\n",
       "\t<tr><th scope=row>397</th><td>31              </td><td>4               </td><td>119             </td><td>82              </td><td>2720            </td><td>19.4            </td><td>82              </td><td>1               </td><td>chevy s-10      </td></tr>\n",
       "</tbody>\n",
       "</table>\n"
      ],
      "text/latex": [
       "\\begin{tabular}{r|lllllllll}\n",
       "  & mpg & cylinders & displacement & horsepower & weight & acceleration & year & origin & name\\\\\n",
       "\\hline\n",
       "\t392 & 27               & 4                & 151              & 90               & 2950             & 17.3             & 82               & 1                & chevrolet camaro\\\\\n",
       "\t393 & 27               & 4                & 140              & 86               & 2790             & 15.6             & 82               & 1                & ford mustang gl \\\\\n",
       "\t394 & 44               & 4                &  97              & 52               & 2130             & 24.6             & 82               & 2                & vw pickup       \\\\\n",
       "\t395 & 32               & 4                & 135              & 84               & 2295             & 11.6             & 82               & 1                & dodge rampage   \\\\\n",
       "\t396 & 28               & 4                & 120              & 79               & 2625             & 18.6             & 82               & 1                & ford ranger     \\\\\n",
       "\t397 & 31               & 4                & 119              & 82               & 2720             & 19.4             & 82               & 1                & chevy s-10      \\\\\n",
       "\\end{tabular}\n"
      ],
      "text/markdown": [
       "\n",
       "| <!--/--> | mpg | cylinders | displacement | horsepower | weight | acceleration | year | origin | name |\n",
       "|---|---|---|---|---|---|---|---|---|---|\n",
       "| 392 | 27               | 4                | 151              | 90               | 2950             | 17.3             | 82               | 1                | chevrolet camaro |\n",
       "| 393 | 27               | 4                | 140              | 86               | 2790             | 15.6             | 82               | 1                | ford mustang gl  |\n",
       "| 394 | 44               | 4                |  97              | 52               | 2130             | 24.6             | 82               | 2                | vw pickup        |\n",
       "| 395 | 32               | 4                | 135              | 84               | 2295             | 11.6             | 82               | 1                | dodge rampage    |\n",
       "| 396 | 28               | 4                | 120              | 79               | 2625             | 18.6             | 82               | 1                | ford ranger      |\n",
       "| 397 | 31               | 4                | 119              | 82               | 2720             | 19.4             | 82               | 1                | chevy s-10       |\n",
       "\n"
      ],
      "text/plain": [
       "    mpg cylinders displacement horsepower weight acceleration year origin\n",
       "392 27  4         151          90         2950   17.3         82   1     \n",
       "393 27  4         140          86         2790   15.6         82   1     \n",
       "394 44  4          97          52         2130   24.6         82   2     \n",
       "395 32  4         135          84         2295   11.6         82   1     \n",
       "396 28  4         120          79         2625   18.6         82   1     \n",
       "397 31  4         119          82         2720   19.4         82   1     \n",
       "    name            \n",
       "392 chevrolet camaro\n",
       "393 ford mustang gl \n",
       "394 vw pickup       \n",
       "395 dodge rampage   \n",
       "396 ford ranger     \n",
       "397 chevy s-10      "
      ]
     },
     "metadata": {},
     "output_type": "display_data"
    },
    {
     "name": "stdout",
     "output_type": "stream",
     "text": [
      "[1] \"Dimension\"\n"
     ]
    },
    {
     "data": {
      "text/html": [
       "<ol class=list-inline>\n",
       "\t<li>397</li>\n",
       "\t<li>9</li>\n",
       "</ol>\n"
      ],
      "text/latex": [
       "\\begin{enumerate*}\n",
       "\\item 397\n",
       "\\item 9\n",
       "\\end{enumerate*}\n"
      ],
      "text/markdown": [
       "1. 397\n",
       "2. 9\n",
       "\n",
       "\n"
      ],
      "text/plain": [
       "[1] 397   9"
      ]
     },
     "metadata": {},
     "output_type": "display_data"
    }
   ],
   "source": [
    "# Load data\n",
    "# read.table() # more generic. file: exact location \n",
    "# we need to install ISLR library through Anacaoda. Doesn't work!!\n",
    "library(ISLR)\n",
    "\n",
    "# download the Auto.data set from website and place to in your working directory\n",
    "# BOOK SUGGEST to check the dataset using other software (e.g., Excel) to make sure date looks GOOD (tab,space)\n",
    "# loading Auto Dataset\n",
    "Auto=read.table (\"Auto.data\", header =T,na.strings =\"?\")  # match '?' and replace with NA\n",
    "fix(Auto)  # load as an excel table\n",
    "head(Auto)\n",
    "tail(Auto)\n",
    "# check the dimension\n",
    "print(\"Dimension\")\n",
    "dim(Auto)"
   ]
  },
  {
   "cell_type": "code",
   "execution_count": 2,
   "id": "atomic-horse",
   "metadata": {},
   "outputs": [
    {
     "data": {
      "text/html": [
       "<table>\n",
       "<thead><tr><th scope=col>mpg</th><th scope=col>cylinders</th><th scope=col>displacement</th><th scope=col>horsepower</th><th scope=col>weight</th><th scope=col>acceleration</th><th scope=col>year</th><th scope=col>origin</th><th scope=col>name</th></tr></thead>\n",
       "<tbody>\n",
       "\t<tr><td>18                       </td><td>8                        </td><td>307                      </td><td>130                      </td><td>3504                     </td><td>12.0                     </td><td>70                       </td><td>1                        </td><td>chevrolet chevelle malibu</td></tr>\n",
       "\t<tr><td>15                       </td><td>8                        </td><td>350                      </td><td>165                      </td><td>3693                     </td><td>11.5                     </td><td>70                       </td><td>1                        </td><td>buick skylark 320        </td></tr>\n",
       "\t<tr><td>18                       </td><td>8                        </td><td>318                      </td><td>150                      </td><td>3436                     </td><td>11.0                     </td><td>70                       </td><td>1                        </td><td>plymouth satellite       </td></tr>\n",
       "\t<tr><td>16                       </td><td>8                        </td><td>304                      </td><td>150                      </td><td>3433                     </td><td>12.0                     </td><td>70                       </td><td>1                        </td><td>amc rebel sst            </td></tr>\n",
       "\t<tr><td>17                       </td><td>8                        </td><td>302                      </td><td>140                      </td><td>3449                     </td><td>10.5                     </td><td>70                       </td><td>1                        </td><td>ford torino              </td></tr>\n",
       "\t<tr><td>15                       </td><td>8                        </td><td>429                      </td><td>198                      </td><td>4341                     </td><td>10.0                     </td><td>70                       </td><td>1                        </td><td>ford galaxie 500         </td></tr>\n",
       "</tbody>\n",
       "</table>\n"
      ],
      "text/latex": [
       "\\begin{tabular}{r|lllllllll}\n",
       " mpg & cylinders & displacement & horsepower & weight & acceleration & year & origin & name\\\\\n",
       "\\hline\n",
       "\t 18                        & 8                         & 307                       & 130                       & 3504                      & 12.0                      & 70                        & 1                         & chevrolet chevelle malibu\\\\\n",
       "\t 15                        & 8                         & 350                       & 165                       & 3693                      & 11.5                      & 70                        & 1                         & buick skylark 320        \\\\\n",
       "\t 18                        & 8                         & 318                       & 150                       & 3436                      & 11.0                      & 70                        & 1                         & plymouth satellite       \\\\\n",
       "\t 16                        & 8                         & 304                       & 150                       & 3433                      & 12.0                      & 70                        & 1                         & amc rebel sst            \\\\\n",
       "\t 17                        & 8                         & 302                       & 140                       & 3449                      & 10.5                      & 70                        & 1                         & ford torino              \\\\\n",
       "\t 15                        & 8                         & 429                       & 198                       & 4341                      & 10.0                      & 70                        & 1                         & ford galaxie 500         \\\\\n",
       "\\end{tabular}\n"
      ],
      "text/markdown": [
       "\n",
       "| mpg | cylinders | displacement | horsepower | weight | acceleration | year | origin | name |\n",
       "|---|---|---|---|---|---|---|---|---|\n",
       "| 18                        | 8                         | 307                       | 130                       | 3504                      | 12.0                      | 70                        | 1                         | chevrolet chevelle malibu |\n",
       "| 15                        | 8                         | 350                       | 165                       | 3693                      | 11.5                      | 70                        | 1                         | buick skylark 320         |\n",
       "| 18                        | 8                         | 318                       | 150                       | 3436                      | 11.0                      | 70                        | 1                         | plymouth satellite        |\n",
       "| 16                        | 8                         | 304                       | 150                       | 3433                      | 12.0                      | 70                        | 1                         | amc rebel sst             |\n",
       "| 17                        | 8                         | 302                       | 140                       | 3449                      | 10.5                      | 70                        | 1                         | ford torino               |\n",
       "| 15                        | 8                         | 429                       | 198                       | 4341                      | 10.0                      | 70                        | 1                         | ford galaxie 500          |\n",
       "\n"
      ],
      "text/plain": [
       "  mpg cylinders displacement horsepower weight acceleration year origin\n",
       "1 18  8         307          130        3504   12.0         70   1     \n",
       "2 15  8         350          165        3693   11.5         70   1     \n",
       "3 18  8         318          150        3436   11.0         70   1     \n",
       "4 16  8         304          150        3433   12.0         70   1     \n",
       "5 17  8         302          140        3449   10.5         70   1     \n",
       "6 15  8         429          198        4341   10.0         70   1     \n",
       "  name                     \n",
       "1 chevrolet chevelle malibu\n",
       "2 buick skylark 320        \n",
       "3 plymouth satellite       \n",
       "4 amc rebel sst            \n",
       "5 ford torino              \n",
       "6 ford galaxie 500         "
      ]
     },
     "metadata": {},
     "output_type": "display_data"
    }
   ],
   "source": [
    "Auto_1=read.csv (\"Auto.csv\", header =T,na.strings =\"?\")\n",
    "head(Auto_1)"
   ]
  },
  {
   "cell_type": "code",
   "execution_count": 3,
   "id": "excess-principal",
   "metadata": {},
   "outputs": [
    {
     "data": {
      "text/html": [
       "<ol class=list-inline>\n",
       "\t<li>391</li>\n",
       "\t<li>9</li>\n",
       "</ol>\n"
      ],
      "text/latex": [
       "\\begin{enumerate*}\n",
       "\\item 391\n",
       "\\item 9\n",
       "\\end{enumerate*}\n"
      ],
      "text/markdown": [
       "1. 391\n",
       "2. 9\n",
       "\n",
       "\n"
      ],
      "text/plain": [
       "[1] 391   9"
      ]
     },
     "metadata": {},
     "output_type": "display_data"
    },
    {
     "data": {
      "text/html": [
       "<ol class=list-inline>\n",
       "\t<li>'mpg'</li>\n",
       "\t<li>'cylinders'</li>\n",
       "\t<li>'displacement'</li>\n",
       "\t<li>'horsepower'</li>\n",
       "\t<li>'weight'</li>\n",
       "\t<li>'acceleration'</li>\n",
       "\t<li>'year'</li>\n",
       "\t<li>'origin'</li>\n",
       "\t<li>'name'</li>\n",
       "</ol>\n"
      ],
      "text/latex": [
       "\\begin{enumerate*}\n",
       "\\item 'mpg'\n",
       "\\item 'cylinders'\n",
       "\\item 'displacement'\n",
       "\\item 'horsepower'\n",
       "\\item 'weight'\n",
       "\\item 'acceleration'\n",
       "\\item 'year'\n",
       "\\item 'origin'\n",
       "\\item 'name'\n",
       "\\end{enumerate*}\n"
      ],
      "text/markdown": [
       "1. 'mpg'\n",
       "2. 'cylinders'\n",
       "3. 'displacement'\n",
       "4. 'horsepower'\n",
       "5. 'weight'\n",
       "6. 'acceleration'\n",
       "7. 'year'\n",
       "8. 'origin'\n",
       "9. 'name'\n",
       "\n",
       "\n"
      ],
      "text/plain": [
       "[1] \"mpg\"          \"cylinders\"    \"displacement\" \"horsepower\"   \"weight\"      \n",
       "[6] \"acceleration\" \"year\"         \"origin\"       \"name\"        "
      ]
     },
     "metadata": {},
     "output_type": "display_data"
    }
   ],
   "source": [
    "# na.omit() removed missing value \n",
    "# In R, missing values are represented by the symbol NA (not available). \n",
    "# Impossible values (e.g., dividing by zero) are represented by the symbol NaN (not a number)\n",
    "Auto=na.omit(Auto)\n",
    "dim(Auto)\n",
    "\n",
    "# check variables name \n",
    "names(Auto)"
   ]
  },
  {
   "cell_type": "code",
   "execution_count": 6,
   "id": "alien-arthritis",
   "metadata": {},
   "outputs": [
    {
     "data": {
      "text/html": [
       "23.4598465473146"
      ],
      "text/latex": [
       "23.4598465473146"
      ],
      "text/markdown": [
       "23.4598465473146"
      ],
      "text/plain": [
       "[1] 23.45985"
      ]
     },
     "metadata": {},
     "output_type": "display_data"
    }
   ],
   "source": [
    "# How to call the variables on dataframe\n",
    "# two ways $ and attach()command. \n",
    "# 1.  object Name $ variables name \n",
    "# 2.  attach(object)\n",
    "#mean(Auto$mpg)\n",
    "attach(Auto)\n",
    "mean(mpg)"
   ]
  },
  {
   "cell_type": "code",
   "execution_count": 7,
   "id": "greater-nightlife",
   "metadata": {},
   "outputs": [],
   "source": [
    "# change quantative value to qualitative value\n",
    "# use as.factor()\n",
    "cylinders =as.factor (cylinders)"
   ]
  },
  {
   "cell_type": "code",
   "execution_count": 21,
   "id": "compound-lending",
   "metadata": {},
   "outputs": [
    {
     "data": {
      "image/png": "[encoded data removed]",
      "text/plain": [
       "plot without title"
      ]
     },
     "metadata": {},
     "output_type": "display_data"
    }
   ],
   "source": [
    "# if x-axis is qualitative then box-plot is automatic \n",
    "plot(cylinders , mpg , col =\"red\", varwidth =T, xlab=\"cylinders\", ylab =\"MPG\") "
   ]
  },
  {
   "cell_type": "code",
   "execution_count": 22,
   "id": "junior-concern",
   "metadata": {},
   "outputs": [
    {
     "data": {
      "image/png": "[encoded data removed]",
      "text/plain": [
       "Plot with title \"Histogram of mpg\""
      ]
     },
     "metadata": {},
     "output_type": "display_data"
    }
   ],
   "source": [
    "# histogram\n",
    "hist(mpg ,col=2, breaks=14)"
   ]
  },
  {
   "cell_type": "code",
   "execution_count": 23,
   "id": "molecular-potato",
   "metadata": {},
   "outputs": [
    {
     "data": {
      "image/png": "[encoded data removed]",
      "text/plain": [
       "plot without title"
      ]
     },
     "metadata": {},
     "output_type": "display_data"
    }
   ],
   "source": [
    "# pairs() The function creates a scatterplot matrix pairs() i.e. a scatterplot for every\n",
    "# scatterplot\n",
    "# pair of variables for any given data set\n",
    "pairs(Auto)"
   ]
  },
  {
   "cell_type": "code",
   "execution_count": 24,
   "id": "vocational-peace",
   "metadata": {},
   "outputs": [
    {
     "data": {
      "image/png": "[encoded data removed]",
      "text/plain": [
       "plot without title"
      ]
     },
     "metadata": {},
     "output_type": "display_data"
    }
   ],
   "source": [
    "# subset of variables \n",
    "pairs(~mpg + displacement + horsepower + weight + acceleration , Auto)"
   ]
  },
  {
   "cell_type": "code",
   "execution_count": 8,
   "id": "exempt-still",
   "metadata": {},
   "outputs": [
    {
     "data": {
      "text/html": [],
      "text/latex": [],
      "text/markdown": [],
      "text/plain": [
       "integer(0)"
      ]
     },
     "metadata": {},
     "output_type": "display_data"
    },
    {
     "data": {
      "image/png": "[encoded data removed]",
      "text/plain": [
       "plot without title"
      ]
     },
     "metadata": {},
     "output_type": "display_data"
    }
   ],
   "source": [
    "# interactive method\n",
    "# identify()  X-axis  y- axis and varible that we want to see\n",
    "plot(horsepower ,mpg)\n",
    "identify(horsepower ,mpg ,name)"
   ]
  },
  {
   "cell_type": "code",
   "execution_count": 9,
   "id": "amino-musician",
   "metadata": {},
   "outputs": [
    {
     "data": {
      "text/plain": [
       "      mpg          cylinders      displacement     horsepower        weight    \n",
       " Min.   : 9.00   Min.   :3.000   Min.   : 68.0   Min.   : 46.0   Min.   :1613  \n",
       " 1st Qu.:17.00   1st Qu.:4.000   1st Qu.:105.0   1st Qu.: 75.0   1st Qu.:2224  \n",
       " Median :23.00   Median :4.000   Median :151.0   Median : 93.0   Median :2800  \n",
       " Mean   :23.46   Mean   :5.465   Mean   :194.1   Mean   :104.4   Mean   :2976  \n",
       " 3rd Qu.:29.00   3rd Qu.:8.000   3rd Qu.:264.5   3rd Qu.:125.0   3rd Qu.:3616  \n",
       " Max.   :46.60   Max.   :8.000   Max.   :455.0   Max.   :230.0   Max.   :5140  \n",
       "                                                                               \n",
       "  acceleration        year           origin                      name    \n",
       " Min.   : 8.00   Min.   :70.00   Min.   :1.000   amc matador       :  5  \n",
       " 1st Qu.:13.80   1st Qu.:73.00   1st Qu.:1.000   ford pinto        :  5  \n",
       " Median :15.50   Median :76.00   Median :1.000   toyota corolla    :  5  \n",
       " Mean   :15.55   Mean   :75.99   Mean   :1.578   amc gremlin       :  4  \n",
       " 3rd Qu.:17.05   3rd Qu.:79.00   3rd Qu.:2.000   amc hornet        :  4  \n",
       " Max.   :24.80   Max.   :82.00   Max.   :3.000   chevrolet chevette:  4  \n",
       "                                                 (Other)           :364  "
      ]
     },
     "metadata": {},
     "output_type": "display_data"
    }
   ],
   "source": [
    "# summary function \n",
    "summary(Auto)\n"
   ]
  },
  {
   "cell_type": "code",
   "execution_count": 10,
   "id": "fiscal-level",
   "metadata": {},
   "outputs": [
    {
     "data": {
      "text/plain": [
       "   Min. 1st Qu.  Median    Mean 3rd Qu.    Max. \n",
       "   9.00   17.00   23.00   23.46   29.00   46.60 "
      ]
     },
     "metadata": {},
     "output_type": "display_data"
    }
   ],
   "source": [
    "summary (mpg)  # summary of single variables"
   ]
  }
 ],
 "metadata": {
  "kernelspec": {
   "display_name": "R",
   "language": "R",
   "name": "ir"
  },
  "language_info": {
   "codemirror_mode": "r",
   "file_extension": ".r",
   "mimetype": "text/x-r-source",
   "name": "R",
   "pygments_lexer": "r",
   "version": "3.6.1"
  }
 },
 "nbformat": 4,
 "nbformat_minor": 5
}
