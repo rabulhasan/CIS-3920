{
 "cells": [
  {
   "cell_type": "code",
   "execution_count": 3,
   "id": "fleet-distance",
   "metadata": {},
   "outputs": [
    {
     "name": "stderr",
     "output_type": "stream",
     "text": [
      "Registered S3 method overwritten by 'rvest':\n",
      "  method            from\n",
      "  read_xml.response xml2\n",
      "-- Attaching packages --------------------------------------- tidyverse 1.2.1 --\n",
      "v ggplot2 3.3.3     v purrr   0.3.2\n",
      "v tibble  3.1.0     v dplyr   1.0.5\n",
      "v tidyr   0.8.3     v stringr 1.4.0\n",
      "v readr   1.3.1     v forcats 0.4.0\n",
      "Warning message:\n",
      "\"package 'ggplot2' was built under R version 3.6.3\"Warning message:\n",
      "\"package 'tibble' was built under R version 3.6.3\"Warning message:\n",
      "\"package 'dplyr' was built under R version 3.6.3\"-- Conflicts ------------------------------------------ tidyverse_conflicts() --\n",
      "x dplyr::filter() masks stats::filter()\n",
      "x dplyr::lag()    masks stats::lag()\n",
      "Loading required package: lattice\n",
      "\n",
      "Attaching package: 'caret'\n",
      "\n",
      "The following object is masked from 'package:purrr':\n",
      "\n",
      "    lift\n",
      "\n",
      "\n",
      "Attaching package: 'gridExtra'\n",
      "\n",
      "The following object is masked from 'package:dplyr':\n",
      "\n",
      "    combine\n",
      "\n",
      "Warning message:\n",
      "\"package 'GGally' was built under R version 3.6.3\"Registered S3 method overwritten by 'GGally':\n",
      "  method from   \n",
      "  +.gg   ggplot2\n",
      "corrplot 0.84 loaded\n"
     ]
    }
   ],
   "source": [
    "## Importing packages\n",
    "library(datasets)\n",
    "library(tidyverse) \n",
    "library(caret)\n",
    "library(grid)\n",
    "library(gridExtra)\n",
    "library(GGally)\n",
    "library(rpart)\n",
    "library(rpart.plot)\n",
    "library(corrplot)"
   ]
  },
  {
   "cell_type": "code",
   "execution_count": 6,
   "id": "flying-gilbert",
   "metadata": {},
   "outputs": [],
   "source": [
    "fig <- function(width, heigth){\n",
    "     options(repr.plot.width = width, repr.plot.height = heigth)\n",
    "}"
   ]
  },
  {
   "cell_type": "code",
   "execution_count": 7,
   "id": "widespread-implementation",
   "metadata": {},
   "outputs": [
    {
     "data": {
      "text/html": [
       "<table>\n",
       "<thead><tr><th scope=col>Outlook</th><th scope=col>Temp</th><th scope=col>Humidity</th><th scope=col>Windy</th><th scope=col>Play.Golf</th></tr></thead>\n",
       "<tbody>\n",
       "\t<tr><td>Rainy   </td><td>Hot     </td><td>High    </td><td>False   </td><td>No      </td></tr>\n",
       "\t<tr><td>Rainy   </td><td>Hot     </td><td>High    </td><td>True    </td><td>No      </td></tr>\n",
       "\t<tr><td>Overcast</td><td>Hot     </td><td>High    </td><td>False   </td><td>Yes     </td></tr>\n",
       "\t<tr><td>Sunny   </td><td>Mild    </td><td>High    </td><td>False   </td><td>Yes     </td></tr>\n",
       "\t<tr><td>Sunny   </td><td>Cool    </td><td>Normal  </td><td>False   </td><td>Yes     </td></tr>\n",
       "\t<tr><td>Sunny   </td><td>Cool    </td><td>Normal  </td><td>True    </td><td>No      </td></tr>\n",
       "</tbody>\n",
       "</table>\n"
      ],
      "text/latex": [
       "\\begin{tabular}{r|lllll}\n",
       " Outlook & Temp & Humidity & Windy & Play.Golf\\\\\n",
       "\\hline\n",
       "\t Rainy    & Hot      & High     & False    & No      \\\\\n",
       "\t Rainy    & Hot      & High     & True     & No      \\\\\n",
       "\t Overcast & Hot      & High     & False    & Yes     \\\\\n",
       "\t Sunny    & Mild     & High     & False    & Yes     \\\\\n",
       "\t Sunny    & Cool     & Normal   & False    & Yes     \\\\\n",
       "\t Sunny    & Cool     & Normal   & True     & No      \\\\\n",
       "\\end{tabular}\n"
      ],
      "text/markdown": [
       "\n",
       "| Outlook | Temp | Humidity | Windy | Play.Golf |\n",
       "|---|---|---|---|---|\n",
       "| Rainy    | Hot      | High     | False    | No       |\n",
       "| Rainy    | Hot      | High     | True     | No       |\n",
       "| Overcast | Hot      | High     | False    | Yes      |\n",
       "| Sunny    | Mild     | High     | False    | Yes      |\n",
       "| Sunny    | Cool     | Normal   | False    | Yes      |\n",
       "| Sunny    | Cool     | Normal   | True     | No       |\n",
       "\n"
      ],
      "text/plain": [
       "  Outlook  Temp Humidity Windy Play.Golf\n",
       "1 Rainy    Hot  High     False No       \n",
       "2 Rainy    Hot  High     True  No       \n",
       "3 Overcast Hot  High     False Yes      \n",
       "4 Sunny    Mild High     False Yes      \n",
       "5 Sunny    Cool Normal   False Yes      \n",
       "6 Sunny    Cool Normal   True  No       "
      ]
     },
     "metadata": {},
     "output_type": "display_data"
    }
   ],
   "source": [
    "dataset=read.csv (\"playgolf.csv\", header =T,na.strings =\"?\")\n",
    "head(dataset)"
   ]
  },
  {
   "cell_type": "code",
   "execution_count": 8,
   "id": "knowing-chemistry",
   "metadata": {},
   "outputs": [
    {
     "name": "stdout",
     "output_type": "stream",
     "text": [
      "n= 14 \n",
      "\n",
      "node), split, n, loss, yval, (yprob)\n",
      "      * denotes terminal node\n",
      "\n",
      " 1) root 14 5 Yes (0.3571429 0.6428571)  \n",
      "   2) Outlook=Rainy,Sunny 10 5 No (0.5000000 0.5000000)  \n",
      "     4) Humidity=High 5 1 No (0.8000000 0.2000000)  \n",
      "       8) Outlook=Rainy 3 0 No (1.0000000 0.0000000) *\n",
      "       9) Outlook=Sunny 2 1 No (0.5000000 0.5000000)  \n",
      "        18) Windy=True 1 0 No (1.0000000 0.0000000) *\n",
      "        19) Windy=False 1 0 Yes (0.0000000 1.0000000) *\n",
      "     5) Humidity=Normal 5 1 Yes (0.2000000 0.8000000)  \n",
      "      10) Windy=True 2 1 No (0.5000000 0.5000000)  \n",
      "        20) Outlook=Sunny 1 0 No (1.0000000 0.0000000) *\n",
      "        21) Outlook=Rainy 1 0 Yes (0.0000000 1.0000000) *\n",
      "      11) Windy=False 3 0 Yes (0.0000000 1.0000000) *\n",
      "   3) Outlook=Overcast 4 0 Yes (0.0000000 1.0000000) *\n"
     ]
    }
   ],
   "source": [
    "# CART Modeling via rpart\n",
    "treeFit <- rpart(Play.Golf~.,data=dataset,method = 'class', control = rpart.control(minsplit=1), parms=list(split='information'))\n",
    "print(treeFit)"
   ]
  },
  {
   "cell_type": "code",
   "execution_count": 9,
   "id": "united-afghanistan",
   "metadata": {},
   "outputs": [
    {
     "data": {
      "image/png": "[encoded data removed]",
      "text/plain": [
       "Plot with title \"\""
      ]
     },
     "metadata": {},
     "output_type": "display_data"
    }
   ],
   "source": [
    "fig(10, 6)\n",
    "rattle::fancyRpartPlot(treeFit, type = 1, sub = \"\")"
   ]
  },
  {
   "cell_type": "code",
   "execution_count": 6,
   "id": "warming-cloud",
   "metadata": {},
   "outputs": [
    {
     "data": {
      "text/html": [
       "<strong>1:</strong> No\n",
       "<details>\n",
       "\t<summary style=display:list-item;cursor:pointer>\n",
       "\t\t<strong>Levels</strong>:\n",
       "\t</summary>\n",
       "\t<ol class=list-inline>\n",
       "\t\t<li>'No'</li>\n",
       "\t\t<li>'Yes'</li>\n",
       "\t</ol>\n",
       "</details>"
      ],
      "text/latex": [
       "\\textbf{1:} No\n",
       "\\emph{Levels}: \\begin{enumerate*}\n",
       "\\item 'No'\n",
       "\\item 'Yes'\n",
       "\\end{enumerate*}\n"
      ],
      "text/markdown": [
       "**1:** No\n",
       "**Levels**: 1. 'No'\n",
       "2. 'Yes'\n",
       "\n",
       "\n"
      ],
      "text/plain": [
       " 1 \n",
       "No \n",
       "Levels: No Yes"
      ]
     },
     "metadata": {},
     "output_type": "display_data"
    }
   ],
   "source": [
    "# test Case \n",
    "# Obtain a prediction for the day <Sunny, cool, High, True>\n",
    "\n",
    "test_case <- data.frame(Outlook=\"Sunny\",Temp=\"Cool\", Humidity=\"High\",Windy=\"True\")\n",
    "\n",
    "# run predicion on test case\n",
    "Prediction1 <- predict(treeFit,newdata=test_case,type = 'class')\n",
    "Prediction1"
   ]
  }
 ],
 "metadata": {
  "kernelspec": {
   "display_name": "R",
   "language": "R",
   "name": "ir"
  },
  "language_info": {
   "codemirror_mode": "r",
   "file_extension": ".r",
   "mimetype": "text/x-r-source",
   "name": "R",
   "pygments_lexer": "r",
   "version": "3.6.1"
  }
 },
 "nbformat": 4,
 "nbformat_minor": 5
}
