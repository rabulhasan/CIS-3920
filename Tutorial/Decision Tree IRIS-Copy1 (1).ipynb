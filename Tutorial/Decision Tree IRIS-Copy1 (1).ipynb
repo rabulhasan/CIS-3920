{
 "cells": [
  {
   "cell_type": "code",
   "execution_count": 1,
   "id": "surprising-palestine",
   "metadata": {
    "scrolled": true
   },
   "outputs": [
    {
     "name": "stderr",
     "output_type": "stream",
     "text": [
      "Registered S3 method overwritten by 'rvest':\n",
      "  method            from\n",
      "  read_xml.response xml2\n",
      "-- Attaching packages --------------------------------------- tidyverse 1.2.1 --\n",
      "v ggplot2 3.3.3     v purrr   0.3.2\n",
      "v tibble  3.1.0     v dplyr   1.0.5\n",
      "v tidyr   0.8.3     v stringr 1.4.0\n",
      "v readr   1.3.1     v forcats 0.4.0\n",
      "Warning message:\n",
      "\"package 'ggplot2' was built under R version 3.6.3\"Warning message:\n",
      "\"package 'tibble' was built under R version 3.6.3\"Warning message:\n",
      "\"package 'dplyr' was built under R version 3.6.3\"-- Conflicts ------------------------------------------ tidyverse_conflicts() --\n",
      "x dplyr::filter() masks stats::filter()\n",
      "x dplyr::lag()    masks stats::lag()\n",
      "Loading required package: lattice\n",
      "\n",
      "Attaching package: 'caret'\n",
      "\n",
      "The following object is masked from 'package:purrr':\n",
      "\n",
      "    lift\n",
      "\n",
      "\n",
      "Attaching package: 'gridExtra'\n",
      "\n",
      "The following object is masked from 'package:dplyr':\n",
      "\n",
      "    combine\n",
      "\n",
      "Warning message:\n",
      "\"package 'GGally' was built under R version 3.6.3\"Registered S3 method overwritten by 'GGally':\n",
      "  method from   \n",
      "  +.gg   ggplot2\n",
      "corrplot 0.84 loaded\n"
     ]
    }
   ],
   "source": [
    "## Importing packages\n",
    "library(datasets)   # library(help = \"datasets\")\n",
    "library(tidyverse)  # install.packages(\"tidyverse\"). ggplot2. Details https://www.tidyverse.org\n",
    "library(caret)      # The caret package (short for Classification And REgression Training)\n",
    "library(grid)       # grid is a low-level graphics system which provides a great deal of control and flexibility.\n",
    "library(gridExtra)  # provides useful extensions to the grid system\n",
    "library(GGally)     # Extension to 'ggplot2'. a plotting system based on the grammar of graphics\n",
    "library(rpart)      # Rpart is machine learning library in R that is used for building classification & regression trees\n",
    "library(rpart.plot) # to plot tree\n",
    "library(corrplot)   # provides a visual exploratory tool on correlation matrix\n"
   ]
  },
  {
   "cell_type": "code",
   "execution_count": 2,
   "id": "general-forwarding",
   "metadata": {},
   "outputs": [],
   "source": [
    "fig <- function(width, heigth){\n",
    "     options(repr.plot.width = width, repr.plot.height = heigth)\n",
    "}"
   ]
  },
  {
   "cell_type": "code",
   "execution_count": 3,
   "id": "critical-lease",
   "metadata": {
    "scrolled": true
   },
   "outputs": [
    {
     "data": {
      "text/html": [
       "<table>\n",
       "<thead><tr><th scope=col>Sepal.Length</th><th scope=col>Sepal.Width</th><th scope=col>Petal.Length</th><th scope=col>Petal.Width</th><th scope=col>Species</th></tr></thead>\n",
       "<tbody>\n",
       "\t<tr><td>5.1   </td><td>3.5   </td><td>1.4   </td><td>0.2   </td><td>setosa</td></tr>\n",
       "\t<tr><td>4.9   </td><td>3.0   </td><td>1.4   </td><td>0.2   </td><td>setosa</td></tr>\n",
       "\t<tr><td>4.7   </td><td>3.2   </td><td>1.3   </td><td>0.2   </td><td>setosa</td></tr>\n",
       "\t<tr><td>4.6   </td><td>3.1   </td><td>1.5   </td><td>0.2   </td><td>setosa</td></tr>\n",
       "\t<tr><td>5.0   </td><td>3.6   </td><td>1.4   </td><td>0.2   </td><td>setosa</td></tr>\n",
       "\t<tr><td>5.4   </td><td>3.9   </td><td>1.7   </td><td>0.4   </td><td>setosa</td></tr>\n",
       "</tbody>\n",
       "</table>\n"
      ],
      "text/latex": [
       "\\begin{tabular}{r|lllll}\n",
       " Sepal.Length & Sepal.Width & Petal.Length & Petal.Width & Species\\\\\n",
       "\\hline\n",
       "\t 5.1    & 3.5    & 1.4    & 0.2    & setosa\\\\\n",
       "\t 4.9    & 3.0    & 1.4    & 0.2    & setosa\\\\\n",
       "\t 4.7    & 3.2    & 1.3    & 0.2    & setosa\\\\\n",
       "\t 4.6    & 3.1    & 1.5    & 0.2    & setosa\\\\\n",
       "\t 5.0    & 3.6    & 1.4    & 0.2    & setosa\\\\\n",
       "\t 5.4    & 3.9    & 1.7    & 0.4    & setosa\\\\\n",
       "\\end{tabular}\n"
      ],
      "text/markdown": [
       "\n",
       "| Sepal.Length | Sepal.Width | Petal.Length | Petal.Width | Species |\n",
       "|---|---|---|---|---|\n",
       "| 5.1    | 3.5    | 1.4    | 0.2    | setosa |\n",
       "| 4.9    | 3.0    | 1.4    | 0.2    | setosa |\n",
       "| 4.7    | 3.2    | 1.3    | 0.2    | setosa |\n",
       "| 4.6    | 3.1    | 1.5    | 0.2    | setosa |\n",
       "| 5.0    | 3.6    | 1.4    | 0.2    | setosa |\n",
       "| 5.4    | 3.9    | 1.7    | 0.4    | setosa |\n",
       "\n"
      ],
      "text/plain": [
       "  Sepal.Length Sepal.Width Petal.Length Petal.Width Species\n",
       "1 5.1          3.5         1.4          0.2         setosa \n",
       "2 4.9          3.0         1.4          0.2         setosa \n",
       "3 4.7          3.2         1.3          0.2         setosa \n",
       "4 4.6          3.1         1.5          0.2         setosa \n",
       "5 5.0          3.6         1.4          0.2         setosa \n",
       "6 5.4          3.9         1.7          0.4         setosa "
      ]
     },
     "metadata": {},
     "output_type": "display_data"
    }
   ],
   "source": [
    "head(iris)"
   ]
  },
  {
   "cell_type": "code",
   "execution_count": 4,
   "id": "accessible-vertical",
   "metadata": {},
   "outputs": [
    {
     "data": {
      "text/plain": [
       "v\n",
       "    setosa versicolor  virginica \n",
       "        50         50         50 "
      ]
     },
     "metadata": {},
     "output_type": "display_data"
    }
   ],
   "source": [
    "v <- iris$Species\n",
    "\n",
    "table(v)"
   ]
  },
  {
   "cell_type": "code",
   "execution_count": 5,
   "id": "dirty-accreditation",
   "metadata": {},
   "outputs": [
    {
     "data": {
      "image/png": "[encoded data removed]",
      "text/plain": [
       "plot without title"
      ]
     },
     "metadata": {},
     "output_type": "display_data"
    }
   ],
   "source": [
    "# %>% chain function together. i.e. iris %>% head() %>% summary(). \n",
    "# What the function does is to pass the left hand side of the operator to the first argument of \n",
    "# the right hand side of the operator.\n",
    "# functions applied can be read from left to right rather than from inside out\n",
    "\n",
    "fig(10, 4)\n",
    "iris %>%  \n",
    "    group_by(Species) %>%        \n",
    "    summarise(count = n()) %>%\n",
    "    ggplot(aes(x = Species, y = count, fill = Species),options(repr.plot.width=10, repr.plot.height=10)) + \n",
    "        geom_bar(stat = \"identity\") +\n",
    "        geom_text(aes(label = as.character(count)), \n",
    "                 position = position_dodge(width = 1),\n",
    "                 hjust = 0.5, vjust = -0.25, size = 3) +\n",
    "        theme(legend.position = \"none\") +\n",
    "        labs(title = \"Species\", x = \"\", caption = \"Fig.1\")\n"
   ]
  },
  {
   "cell_type": "code",
   "execution_count": 6,
   "id": "dying-lancaster",
   "metadata": {
    "scrolled": false
   },
   "outputs": [
    {
     "data": {
      "image/png": "[encoded data removed]",
      "text/plain": [
       "plot without title"
      ]
     },
     "metadata": {},
     "output_type": "display_data"
    }
   ],
   "source": [
    "fig(10, 6)\n",
    "f1 <- iris %>%\n",
    "    group_by(Species, Sepal.Length, Sepal.Width) %>%\n",
    "    ggplot(aes(Sepal.Length, Sepal.Width, color = Species)) + \n",
    "        geom_point() +  \n",
    "        theme_minimal() +\n",
    "        theme(legend.position = \"none\") +\n",
    "        labs(title = \"\")\n",
    "\n",
    "f2 <- iris %>%\n",
    "    group_by(Species, Petal.Length, Petal.Width) %>%\n",
    "    ggplot(aes(Petal.Length, Petal.Width, color = Species)) + \n",
    "        geom_point() +  \n",
    "        theme_minimal() +\n",
    "        theme(legend.position = \"none\") +\n",
    "        labs(title = \"\")\n",
    "\n",
    "f3 <- iris %>%\n",
    "    group_by(Species, Petal.Length, Sepal.Width) %>%\n",
    "    ggplot(aes(Petal.Length, Sepal.Width, color = Species)) + \n",
    "        geom_point() +  \n",
    "        theme_minimal() +\n",
    "        theme(legend.position = \"none\") +\n",
    "        labs(title = \"\")\n",
    "\n",
    "f4 <- iris %>%\n",
    "    group_by(Species, Sepal.Length, Petal.Width) %>%\n",
    "    ggplot(aes(Sepal.Length, Petal.Width, color = Species)) + \n",
    "        geom_point() +  \n",
    "        theme_minimal() +\n",
    "        theme(legend.position = \"none\") +\n",
    "        labs(title = \"\", caption = \"Fig.4\")\n",
    "\n",
    "grid.arrange(f1, f2, f3, f4, ncol = 2)"
   ]
  },
  {
   "cell_type": "raw",
   "id": "deluxe-trailer",
   "metadata": {},
   "source": [
    "# From the top right figure, we can also differentiate between virginica and versicolor species using Petal.Length AND Petal.Width. This suggests that these two are the most important variables for the prediction."
   ]
  },
  {
   "cell_type": "code",
   "execution_count": 7,
   "id": "jewish-preparation",
   "metadata": {},
   "outputs": [
    {
     "data": {
      "image/png": "[encoded data removed]",
      "text/plain": [
       "Plot with title \"\""
      ]
     },
     "metadata": {},
     "output_type": "display_data"
    }
   ],
   "source": [
    "fig(6, 4)\n",
    "all_num <- iris   # new dataframe\n",
    "all_num$Species <- as.numeric(all_num$Species)  # Convert Factor to Numeric in R\n",
    "\n",
    "# fix(all_num)\n",
    "\n",
    "M<-cor(all_num)\n",
    "corrplot(M, method=\"number\")"
   ]
  },
  {
   "cell_type": "code",
   "execution_count": 8,
   "id": "reliable-ottawa",
   "metadata": {},
   "outputs": [],
   "source": [
    "# ## convert all values to numeric (especially the target)\n",
    "# all_num <- iris\n",
    "# all_num$Species <- as.numeric(all_num$Species)\n",
    "# all_num %>% ggcorr(palette = \"RdBu\", label = TRUE)"
   ]
  },
  {
   "cell_type": "code",
   "execution_count": 9,
   "id": "balanced-poker",
   "metadata": {},
   "outputs": [
    {
     "data": {
      "text/html": [
       "<ol class=list-inline>\n",
       "\t<li>0.778169042896479</li>\n",
       "\t<li>0.813354488927871</li>\n",
       "\t<li>0.211721466388553</li>\n",
       "\t<li>0.709628649521619</li>\n",
       "\t<li>0.339412094093859</li>\n",
       "\t<li>0.685181028209627</li>\n",
       "\t<li>0.121413596207276</li>\n",
       "\t<li>0.755981974303722</li>\n",
       "\t<li>0.445185062941164</li>\n",
       "\t<li>0.280859781196341</li>\n",
       "\t<li>0.293765589827672</li>\n",
       "\t<li>0.028575636446476</li>\n",
       "\t<li>0.962675372138619</li>\n",
       "\t<li>0.410902613308281</li>\n",
       "\t<li>0.714837509905919</li>\n",
       "\t<li>0.668931628577411</li>\n",
       "\t<li>0.120760660618544</li>\n",
       "\t<li>0.583022995851934</li>\n",
       "\t<li>0.656973192235455</li>\n",
       "\t<li>0.782762259943411</li>\n",
       "\t<li>0.519810308236629</li>\n",
       "\t<li>0.112036197446287</li>\n",
       "\t<li>0.194665845949203</li>\n",
       "\t<li>0.891990452306345</li>\n",
       "\t<li>0.83842310635373</li>\n",
       "\t<li>0.958852338604629</li>\n",
       "\t<li>0.112603158690035</li>\n",
       "\t<li>0.887545718578622</li>\n",
       "\t<li>0.480664316331968</li>\n",
       "\t<li>0.883467446547002</li>\n",
       "\t<li>0.194950003642589</li>\n",
       "\t<li>0.414499658858404</li>\n",
       "\t<li>0.27732551144436</li>\n",
       "\t<li>0.313834505388513</li>\n",
       "\t<li>0.221747920382768</li>\n",
       "\t<li>0.635824226308614</li>\n",
       "\t<li>0.685587206622586</li>\n",
       "\t<li>0.546872940147296</li>\n",
       "\t<li>0.706281005172059</li>\n",
       "\t<li>0.830835340544581</li>\n",
       "\t<li>0.987642143154517</li>\n",
       "\t<li>0.989013456739485</li>\n",
       "\t<li>0.309392852010205</li>\n",
       "\t<li>0.411581044318154</li>\n",
       "\t<li>0.140785407042131</li>\n",
       "\t<li>0.874818357173353</li>\n",
       "\t<li>0.691594058414921</li>\n",
       "\t<li>0.732497128425166</li>\n",
       "\t<li>0.260317972162738</li>\n",
       "\t<li>0.519443422555923</li>\n",
       "\t<li>0.253174647223204</li>\n",
       "\t<li>0.0451904037036002</li>\n",
       "\t<li>0.478276809677482</li>\n",
       "\t<li>0.211793761467561</li>\n",
       "\t<li>0.815072944620624</li>\n",
       "\t<li>0.101017063949257</li>\n",
       "\t<li>0.351872479775921</li>\n",
       "\t<li>0.207298326538876</li>\n",
       "\t<li>0.453790285624564</li>\n",
       "\t<li>0.490391109138727</li>\n",
       "\t<li>0.515287234215066</li>\n",
       "\t<li>0.276955954032019</li>\n",
       "\t<li>0.979244994465262</li>\n",
       "\t<li>0.0341400115285069</li>\n",
       "\t<li>0.776704387739301</li>\n",
       "\t<li>0.564940855605528</li>\n",
       "\t<li>0.679332347819582</li>\n",
       "\t<li>0.0104006503242999</li>\n",
       "\t<li>0.943114897236228</li>\n",
       "\t<li>0.310511955525726</li>\n",
       "\t<li>0.730717565864325</li>\n",
       "\t<li>0.51075964118354</li>\n",
       "\t<li>0.4832147678826</li>\n",
       "\t<li>0.952116089873016</li>\n",
       "\t<li>0.850497577339411</li>\n",
       "\t<li>0.392945513594896</li>\n",
       "\t<li>0.302802793914452</li>\n",
       "\t<li>0.965465934481472</li>\n",
       "\t<li>0.647984563373029</li>\n",
       "\t<li>0.509394524386153</li>\n",
       "\t<li>0.0896125975996256</li>\n",
       "\t<li>0.242813270539045</li>\n",
       "\t<li>0.811981441918761</li>\n",
       "\t<li>0.443328627385199</li>\n",
       "\t<li>0.0553787520620972</li>\n",
       "\t<li>0.4725077804178</li>\n",
       "\t<li>0.293712347745895</li>\n",
       "\t<li>0.617391117615625</li>\n",
       "\t<li>0.0701074292883277</li>\n",
       "\t<li>0.57700022822246</li>\n",
       "\t<li>0.399875937029719</li>\n",
       "\t<li>0.470135336974636</li>\n",
       "\t<li>0.972435782896355</li>\n",
       "\t<li>0.0164828889537603</li>\n",
       "\t<li>0.2657946201507</li>\n",
       "\t<li>0.596537714125589</li>\n",
       "\t<li>0.0246772826649249</li>\n",
       "\t<li>0.769443994620815</li>\n",
       "\t<li>0.957677260041237</li>\n",
       "\t<li>0.923348265467212</li>\n",
       "\t<li>0.0372182864230126</li>\n",
       "\t<li>0.91311924601905</li>\n",
       "\t<li>0.28621883620508</li>\n",
       "\t<li>0.859053301159292</li>\n",
       "\t<li>0.0173647527117282</li>\n",
       "\t<li>0.469566678162664</li>\n",
       "\t<li>0.0104986736550927</li>\n",
       "\t<li>0.937926809536293</li>\n",
       "\t<li>0.0207815857138485</li>\n",
       "\t<li>0.829356575384736</li>\n",
       "\t<li>0.66918807127513</li>\n",
       "\t<li>0.348801671061665</li>\n",
       "\t<li>0.155307783046737</li>\n",
       "\t<li>0.415638217469677</li>\n",
       "\t<li>0.920370118692517</li>\n",
       "\t<li>0.682976671261713</li>\n",
       "\t<li>0.478481570491567</li>\n",
       "\t<li>0.500178523128852</li>\n",
       "\t<li>0.484154015313834</li>\n",
       "\t<li>0.964707447215915</li>\n",
       "\t<li>0.548593195388094</li>\n",
       "\t<li>0.951666940934956</li>\n",
       "\t<li>0.733196649700403</li>\n",
       "\t<li>0.187892287271097</li>\n",
       "\t<li>0.111629540799186</li>\n",
       "\t<li>0.512679534731433</li>\n",
       "\t<li>0.310503580607474</li>\n",
       "\t<li>0.107387169962749</li>\n",
       "\t<li>0.898404181702062</li>\n",
       "\t<li>0.566077662166208</li>\n",
       "\t<li>0.481905514141545</li>\n",
       "\t<li>0.851457336684689</li>\n",
       "\t<li>0.880988427670673</li>\n",
       "\t<li>0.0406299906317145</li>\n",
       "\t<li>0.651986987330019</li>\n",
       "\t<li>0.865203176392242</li>\n",
       "\t<li>0.0720899975858629</li>\n",
       "\t<li>0.325762957567349</li>\n",
       "\t<li>0.149614598369226</li>\n",
       "\t<li>0.0182028659619391</li>\n",
       "\t<li>0.768835228867829</li>\n",
       "\t<li>0.885294232983142</li>\n",
       "\t<li>0.788744765566662</li>\n",
       "\t<li>0.457339928485453</li>\n",
       "\t<li>0.620067500742152</li>\n",
       "\t<li>0.0956980218179524</li>\n",
       "\t<li>0.998332430142909</li>\n",
       "\t<li>0.185651012929156</li>\n",
       "\t<li>0.0143768917769194</li>\n",
       "\t<li>0.978131053736433</li>\n",
       "</ol>\n"
      ],
      "text/latex": [
       "\\begin{enumerate*}\n",
       "\\item 0.778169042896479\n",
       "\\item 0.813354488927871\n",
       "\\item 0.211721466388553\n",
       "\\item 0.709628649521619\n",
       "\\item 0.339412094093859\n",
       "\\item 0.685181028209627\n",
       "\\item 0.121413596207276\n",
       "\\item 0.755981974303722\n",
       "\\item 0.445185062941164\n",
       "\\item 0.280859781196341\n",
       "\\item 0.293765589827672\n",
       "\\item 0.028575636446476\n",
       "\\item 0.962675372138619\n",
       "\\item 0.410902613308281\n",
       "\\item 0.714837509905919\n",
       "\\item 0.668931628577411\n",
       "\\item 0.120760660618544\n",
       "\\item 0.583022995851934\n",
       "\\item 0.656973192235455\n",
       "\\item 0.782762259943411\n",
       "\\item 0.519810308236629\n",
       "\\item 0.112036197446287\n",
       "\\item 0.194665845949203\n",
       "\\item 0.891990452306345\n",
       "\\item 0.83842310635373\n",
       "\\item 0.958852338604629\n",
       "\\item 0.112603158690035\n",
       "\\item 0.887545718578622\n",
       "\\item 0.480664316331968\n",
       "\\item 0.883467446547002\n",
       "\\item 0.194950003642589\n",
       "\\item 0.414499658858404\n",
       "\\item 0.27732551144436\n",
       "\\item 0.313834505388513\n",
       "\\item 0.221747920382768\n",
       "\\item 0.635824226308614\n",
       "\\item 0.685587206622586\n",
       "\\item 0.546872940147296\n",
       "\\item 0.706281005172059\n",
       "\\item 0.830835340544581\n",
       "\\item 0.987642143154517\n",
       "\\item 0.989013456739485\n",
       "\\item 0.309392852010205\n",
       "\\item 0.411581044318154\n",
       "\\item 0.140785407042131\n",
       "\\item 0.874818357173353\n",
       "\\item 0.691594058414921\n",
       "\\item 0.732497128425166\n",
       "\\item 0.260317972162738\n",
       "\\item 0.519443422555923\n",
       "\\item 0.253174647223204\n",
       "\\item 0.0451904037036002\n",
       "\\item 0.478276809677482\n",
       "\\item 0.211793761467561\n",
       "\\item 0.815072944620624\n",
       "\\item 0.101017063949257\n",
       "\\item 0.351872479775921\n",
       "\\item 0.207298326538876\n",
       "\\item 0.453790285624564\n",
       "\\item 0.490391109138727\n",
       "\\item 0.515287234215066\n",
       "\\item 0.276955954032019\n",
       "\\item 0.979244994465262\n",
       "\\item 0.0341400115285069\n",
       "\\item 0.776704387739301\n",
       "\\item 0.564940855605528\n",
       "\\item 0.679332347819582\n",
       "\\item 0.0104006503242999\n",
       "\\item 0.943114897236228\n",
       "\\item 0.310511955525726\n",
       "\\item 0.730717565864325\n",
       "\\item 0.51075964118354\n",
       "\\item 0.4832147678826\n",
       "\\item 0.952116089873016\n",
       "\\item 0.850497577339411\n",
       "\\item 0.392945513594896\n",
       "\\item 0.302802793914452\n",
       "\\item 0.965465934481472\n",
       "\\item 0.647984563373029\n",
       "\\item 0.509394524386153\n",
       "\\item 0.0896125975996256\n",
       "\\item 0.242813270539045\n",
       "\\item 0.811981441918761\n",
       "\\item 0.443328627385199\n",
       "\\item 0.0553787520620972\n",
       "\\item 0.4725077804178\n",
       "\\item 0.293712347745895\n",
       "\\item 0.617391117615625\n",
       "\\item 0.0701074292883277\n",
       "\\item 0.57700022822246\n",
       "\\item 0.399875937029719\n",
       "\\item 0.470135336974636\n",
       "\\item 0.972435782896355\n",
       "\\item 0.0164828889537603\n",
       "\\item 0.2657946201507\n",
       "\\item 0.596537714125589\n",
       "\\item 0.0246772826649249\n",
       "\\item 0.769443994620815\n",
       "\\item 0.957677260041237\n",
       "\\item 0.923348265467212\n",
       "\\item 0.0372182864230126\n",
       "\\item 0.91311924601905\n",
       "\\item 0.28621883620508\n",
       "\\item 0.859053301159292\n",
       "\\item 0.0173647527117282\n",
       "\\item 0.469566678162664\n",
       "\\item 0.0104986736550927\n",
       "\\item 0.937926809536293\n",
       "\\item 0.0207815857138485\n",
       "\\item 0.829356575384736\n",
       "\\item 0.66918807127513\n",
       "\\item 0.348801671061665\n",
       "\\item 0.155307783046737\n",
       "\\item 0.415638217469677\n",
       "\\item 0.920370118692517\n",
       "\\item 0.682976671261713\n",
       "\\item 0.478481570491567\n",
       "\\item 0.500178523128852\n",
       "\\item 0.484154015313834\n",
       "\\item 0.964707447215915\n",
       "\\item 0.548593195388094\n",
       "\\item 0.951666940934956\n",
       "\\item 0.733196649700403\n",
       "\\item 0.187892287271097\n",
       "\\item 0.111629540799186\n",
       "\\item 0.512679534731433\n",
       "\\item 0.310503580607474\n",
       "\\item 0.107387169962749\n",
       "\\item 0.898404181702062\n",
       "\\item 0.566077662166208\n",
       "\\item 0.481905514141545\n",
       "\\item 0.851457336684689\n",
       "\\item 0.880988427670673\n",
       "\\item 0.0406299906317145\n",
       "\\item 0.651986987330019\n",
       "\\item 0.865203176392242\n",
       "\\item 0.0720899975858629\n",
       "\\item 0.325762957567349\n",
       "\\item 0.149614598369226\n",
       "\\item 0.0182028659619391\n",
       "\\item 0.768835228867829\n",
       "\\item 0.885294232983142\n",
       "\\item 0.788744765566662\n",
       "\\item 0.457339928485453\n",
       "\\item 0.620067500742152\n",
       "\\item 0.0956980218179524\n",
       "\\item 0.998332430142909\n",
       "\\item 0.185651012929156\n",
       "\\item 0.0143768917769194\n",
       "\\item 0.978131053736433\n",
       "\\end{enumerate*}\n"
      ],
      "text/markdown": [
       "1. 0.778169042896479\n",
       "2. 0.813354488927871\n",
       "3. 0.211721466388553\n",
       "4. 0.709628649521619\n",
       "5. 0.339412094093859\n",
       "6. 0.685181028209627\n",
       "7. 0.121413596207276\n",
       "8. 0.755981974303722\n",
       "9. 0.445185062941164\n",
       "10. 0.280859781196341\n",
       "11. 0.293765589827672\n",
       "12. 0.028575636446476\n",
       "13. 0.962675372138619\n",
       "14. 0.410902613308281\n",
       "15. 0.714837509905919\n",
       "16. 0.668931628577411\n",
       "17. 0.120760660618544\n",
       "18. 0.583022995851934\n",
       "19. 0.656973192235455\n",
       "20. 0.782762259943411\n",
       "21. 0.519810308236629\n",
       "22. 0.112036197446287\n",
       "23. 0.194665845949203\n",
       "24. 0.891990452306345\n",
       "25. 0.83842310635373\n",
       "26. 0.958852338604629\n",
       "27. 0.112603158690035\n",
       "28. 0.887545718578622\n",
       "29. 0.480664316331968\n",
       "30. 0.883467446547002\n",
       "31. 0.194950003642589\n",
       "32. 0.414499658858404\n",
       "33. 0.27732551144436\n",
       "34. 0.313834505388513\n",
       "35. 0.221747920382768\n",
       "36. 0.635824226308614\n",
       "37. 0.685587206622586\n",
       "38. 0.546872940147296\n",
       "39. 0.706281005172059\n",
       "40. 0.830835340544581\n",
       "41. 0.987642143154517\n",
       "42. 0.989013456739485\n",
       "43. 0.309392852010205\n",
       "44. 0.411581044318154\n",
       "45. 0.140785407042131\n",
       "46. 0.874818357173353\n",
       "47. 0.691594058414921\n",
       "48. 0.732497128425166\n",
       "49. 0.260317972162738\n",
       "50. 0.519443422555923\n",
       "51. 0.253174647223204\n",
       "52. 0.0451904037036002\n",
       "53. 0.478276809677482\n",
       "54. 0.211793761467561\n",
       "55. 0.815072944620624\n",
       "56. 0.101017063949257\n",
       "57. 0.351872479775921\n",
       "58. 0.207298326538876\n",
       "59. 0.453790285624564\n",
       "60. 0.490391109138727\n",
       "61. 0.515287234215066\n",
       "62. 0.276955954032019\n",
       "63. 0.979244994465262\n",
       "64. 0.0341400115285069\n",
       "65. 0.776704387739301\n",
       "66. 0.564940855605528\n",
       "67. 0.679332347819582\n",
       "68. 0.0104006503242999\n",
       "69. 0.943114897236228\n",
       "70. 0.310511955525726\n",
       "71. 0.730717565864325\n",
       "72. 0.51075964118354\n",
       "73. 0.4832147678826\n",
       "74. 0.952116089873016\n",
       "75. 0.850497577339411\n",
       "76. 0.392945513594896\n",
       "77. 0.302802793914452\n",
       "78. 0.965465934481472\n",
       "79. 0.647984563373029\n",
       "80. 0.509394524386153\n",
       "81. 0.0896125975996256\n",
       "82. 0.242813270539045\n",
       "83. 0.811981441918761\n",
       "84. 0.443328627385199\n",
       "85. 0.0553787520620972\n",
       "86. 0.4725077804178\n",
       "87. 0.293712347745895\n",
       "88. 0.617391117615625\n",
       "89. 0.0701074292883277\n",
       "90. 0.57700022822246\n",
       "91. 0.399875937029719\n",
       "92. 0.470135336974636\n",
       "93. 0.972435782896355\n",
       "94. 0.0164828889537603\n",
       "95. 0.2657946201507\n",
       "96. 0.596537714125589\n",
       "97. 0.0246772826649249\n",
       "98. 0.769443994620815\n",
       "99. 0.957677260041237\n",
       "100. 0.923348265467212\n",
       "101. 0.0372182864230126\n",
       "102. 0.91311924601905\n",
       "103. 0.28621883620508\n",
       "104. 0.859053301159292\n",
       "105. 0.0173647527117282\n",
       "106. 0.469566678162664\n",
       "107. 0.0104986736550927\n",
       "108. 0.937926809536293\n",
       "109. 0.0207815857138485\n",
       "110. 0.829356575384736\n",
       "111. 0.66918807127513\n",
       "112. 0.348801671061665\n",
       "113. 0.155307783046737\n",
       "114. 0.415638217469677\n",
       "115. 0.920370118692517\n",
       "116. 0.682976671261713\n",
       "117. 0.478481570491567\n",
       "118. 0.500178523128852\n",
       "119. 0.484154015313834\n",
       "120. 0.964707447215915\n",
       "121. 0.548593195388094\n",
       "122. 0.951666940934956\n",
       "123. 0.733196649700403\n",
       "124. 0.187892287271097\n",
       "125. 0.111629540799186\n",
       "126. 0.512679534731433\n",
       "127. 0.310503580607474\n",
       "128. 0.107387169962749\n",
       "129. 0.898404181702062\n",
       "130. 0.566077662166208\n",
       "131. 0.481905514141545\n",
       "132. 0.851457336684689\n",
       "133. 0.880988427670673\n",
       "134. 0.0406299906317145\n",
       "135. 0.651986987330019\n",
       "136. 0.865203176392242\n",
       "137. 0.0720899975858629\n",
       "138. 0.325762957567349\n",
       "139. 0.149614598369226\n",
       "140. 0.0182028659619391\n",
       "141. 0.768835228867829\n",
       "142. 0.885294232983142\n",
       "143. 0.788744765566662\n",
       "144. 0.457339928485453\n",
       "145. 0.620067500742152\n",
       "146. 0.0956980218179524\n",
       "147. 0.998332430142909\n",
       "148. 0.185651012929156\n",
       "149. 0.0143768917769194\n",
       "150. 0.978131053736433\n",
       "\n",
       "\n"
      ],
      "text/plain": [
       "  [1] 0.77816904 0.81335449 0.21172147 0.70962865 0.33941209 0.68518103\n",
       "  [7] 0.12141360 0.75598197 0.44518506 0.28085978 0.29376559 0.02857564\n",
       " [13] 0.96267537 0.41090261 0.71483751 0.66893163 0.12076066 0.58302300\n",
       " [19] 0.65697319 0.78276226 0.51981031 0.11203620 0.19466585 0.89199045\n",
       " [25] 0.83842311 0.95885234 0.11260316 0.88754572 0.48066432 0.88346745\n",
       " [31] 0.19495000 0.41449966 0.27732551 0.31383451 0.22174792 0.63582423\n",
       " [37] 0.68558721 0.54687294 0.70628101 0.83083534 0.98764214 0.98901346\n",
       " [43] 0.30939285 0.41158104 0.14078541 0.87481836 0.69159406 0.73249713\n",
       " [49] 0.26031797 0.51944342 0.25317465 0.04519040 0.47827681 0.21179376\n",
       " [55] 0.81507294 0.10101706 0.35187248 0.20729833 0.45379029 0.49039111\n",
       " [61] 0.51528723 0.27695595 0.97924499 0.03414001 0.77670439 0.56494086\n",
       " [67] 0.67933235 0.01040065 0.94311490 0.31051196 0.73071757 0.51075964\n",
       " [73] 0.48321477 0.95211609 0.85049758 0.39294551 0.30280279 0.96546593\n",
       " [79] 0.64798456 0.50939452 0.08961260 0.24281327 0.81198144 0.44332863\n",
       " [85] 0.05537875 0.47250778 0.29371235 0.61739112 0.07010743 0.57700023\n",
       " [91] 0.39987594 0.47013534 0.97243578 0.01648289 0.26579462 0.59653771\n",
       " [97] 0.02467728 0.76944399 0.95767726 0.92334827 0.03721829 0.91311925\n",
       "[103] 0.28621884 0.85905330 0.01736475 0.46956668 0.01049867 0.93792681\n",
       "[109] 0.02078159 0.82935658 0.66918807 0.34880167 0.15530778 0.41563822\n",
       "[115] 0.92037012 0.68297667 0.47848157 0.50017852 0.48415402 0.96470745\n",
       "[121] 0.54859320 0.95166694 0.73319665 0.18789229 0.11162954 0.51267953\n",
       "[127] 0.31050358 0.10738717 0.89840418 0.56607766 0.48190551 0.85145734\n",
       "[133] 0.88098843 0.04062999 0.65198699 0.86520318 0.07209000 0.32576296\n",
       "[139] 0.14961460 0.01820287 0.76883523 0.88529423 0.78874477 0.45733993\n",
       "[145] 0.62006750 0.09569802 0.99833243 0.18565101 0.01437689 0.97813105"
      ]
     },
     "metadata": {},
     "output_type": "display_data"
    }
   ],
   "source": [
    "runif(nrow(iris))"
   ]
  },
  {
   "cell_type": "code",
   "execution_count": 10,
   "id": "advisory-phase",
   "metadata": {
    "scrolled": true
   },
   "outputs": [
    {
     "data": {
      "text/html": [
       "6"
      ],
      "text/latex": [
       "6"
      ],
      "text/markdown": [
       "6"
      ],
      "text/plain": [
       "[1] 6"
      ]
     },
     "metadata": {},
     "output_type": "display_data"
    },
    {
     "name": "stdout",
     "output_type": "stream",
     "text": [
      "n= 111 \n",
      "\n",
      "node), split, n, loss, yval, (yprob)\n",
      "      * denotes terminal node\n",
      "\n",
      "1) root 111 74 setosa (0.33333333 0.33333333 0.33333333)  \n",
      "  2) Petal.Length< 2.45 37  0 setosa (1.00000000 0.00000000 0.00000000) *\n",
      "  3) Petal.Length>=2.45 74 37 versicolor (0.00000000 0.50000000 0.50000000)  \n",
      "    6) Petal.Width< 1.75 39  2 versicolor (0.00000000 0.94871795 0.05128205) *\n",
      "    7) Petal.Width>=1.75 35  0 virginica (0.00000000 0.00000000 1.00000000) *\n"
     ]
    }
   ],
   "source": [
    "# it ensures that you get the same result if you start with that same seed each time you run the same process\n",
    "set.seed(522)\n",
    "\n",
    "# runif() function returns a uniform distribution.\n",
    "# runif(n) generates n uniform random numbers between 0 and 1\n",
    "# ifelse () is a vectorised function, taking vectors as all its arguments.\n",
    "# which can be further conditionally split into 75-25 ratio\n",
    "\n",
    "iris[, 'train'] <- ifelse(runif(nrow(iris)) < 0.75, 1, 0)\n",
    "\n",
    "trainSet <- iris[iris$train == 1,]\n",
    "testSet <- iris[iris$train == 0, ]\n",
    "\n",
    "\n",
    "\n",
    "\n",
    "\n",
    "# grep(pattern, text). search for matches to argument pattern within each element of a character vector\n",
    "# and in this example, return column index.\n",
    "# names(trainSet) ~ 'Sepal.Length' 'Sepal.Width' 'Petal.Length' 'Petal.Width' 'Species' 'train'\n",
    "trainColNum <- grep('train', names(trainSet))\n",
    "#fix(iris)\n",
    "trainColNum\n",
    "\n",
    "\n",
    "# we need to remove train column from train and test dataset \n",
    "trainSet <- trainSet[, -trainColNum]\n",
    "testSet <- testSet[, -trainColNum]\n",
    "\n",
    "\n",
    "# CART Modeling via rpart\n",
    "treeFit <- rpart(Species~.,data=trainSet,method = 'class')\n",
    "print(treeFit)\n"
   ]
  },
  {
   "cell_type": "code",
   "execution_count": 11,
   "id": "whole-kitchen",
   "metadata": {},
   "outputs": [
    {
     "data": {
      "image/png": "[encoded data removed]",
      "text/plain": [
       "Plot with title \"\""
      ]
     },
     "metadata": {},
     "output_type": "display_data"
    }
   ],
   "source": [
    "rattle::fancyRpartPlot(treeFit, type = 1, sub = \"\")"
   ]
  },
  {
   "cell_type": "code",
   "execution_count": 12,
   "id": "conceptual-proportion",
   "metadata": {},
   "outputs": [
    {
     "data": {
      "text/plain": [
       "Confusion Matrix and Statistics\n",
       "\n",
       "            Reference\n",
       "Prediction   setosa versicolor virginica\n",
       "  setosa         13          0         0\n",
       "  versicolor      0         12         3\n",
       "  virginica       0          1        10\n",
       "\n",
       "Overall Statistics\n",
       "                                          \n",
       "               Accuracy : 0.8974          \n",
       "                 95% CI : (0.7578, 0.9713)\n",
       "    No Information Rate : 0.3333          \n",
       "    P-Value [Acc > NIR] : 3.435e-13       \n",
       "                                          \n",
       "                  Kappa : 0.8462          \n",
       "                                          \n",
       " Mcnemar's Test P-Value : NA              \n",
       "\n",
       "Statistics by Class:\n",
       "\n",
       "                     Class: setosa Class: versicolor Class: virginica\n",
       "Sensitivity                 1.0000            0.9231           0.7692\n",
       "Specificity                 1.0000            0.8846           0.9615\n",
       "Pos Pred Value              1.0000            0.8000           0.9091\n",
       "Neg Pred Value              1.0000            0.9583           0.8929\n",
       "Prevalence                  0.3333            0.3333           0.3333\n",
       "Detection Rate              0.3333            0.3077           0.2564\n",
       "Detection Prevalence        0.3333            0.3846           0.2821\n",
       "Balanced Accuracy           1.0000            0.9038           0.8654"
      ]
     },
     "metadata": {},
     "output_type": "display_data"
    }
   ],
   "source": [
    "# run predicion on test dataset and leave out the label\n",
    "# tmp = testSet[-5]\n",
    "# fix(tmp)\n",
    "Prediction1 <- predict(treeFit,newdata=testSet[-5],type = 'class')\n",
    "# table(Prediction1)\n",
    "# Prediction1\n",
    "\n",
    "## Print the confusion matrix to check the accuracy\n",
    "confusionMatrix(Prediction1,testSet$Species)"
   ]
  },
  {
   "cell_type": "code",
   "execution_count": 13,
   "id": "spectacular-knock",
   "metadata": {
    "scrolled": true
   },
   "outputs": [
    {
     "name": "stdout",
     "output_type": "stream",
     "text": [
      "\n",
      "Classification tree:\n",
      "rpart(formula = Species ~ ., data = trainSet, method = \"class\")\n",
      "\n",
      "Variables actually used in tree construction:\n",
      "[1] Petal.Length Petal.Width \n",
      "\n",
      "Root node error: 74/111 = 0.66667\n",
      "\n",
      "n= 111 \n",
      "\n",
      "       CP nsplit rel error   xerror     xstd\n",
      "1 0.50000      0  1.000000 1.189189 0.057705\n",
      "2 0.47297      1  0.500000 0.783784 0.071115\n",
      "3 0.01000      2  0.027027 0.067568 0.029529\n"
     ]
    }
   ],
   "source": [
    "## Pruning the decision tree\n",
    "printcp(treeFit)"
   ]
  },
  {
   "cell_type": "code",
   "execution_count": 14,
   "id": "scheduled-bidder",
   "metadata": {},
   "outputs": [
    {
     "data": {
      "image/png": "[encoded data removed]",
      "text/plain": [
       "plot without title"
      ]
     },
     "metadata": {},
     "output_type": "display_data"
    }
   ],
   "source": [
    "opt  <-  which.min(treeFit$cptable[,'xerror'])\n",
    "\n",
    "cp <-  treeFit$cptable[opt, 'CP']\n",
    "pruned_model <-  prune(treeFit,cp)\n",
    "rpart.plot(pruned_model, box.col=c(\"red\", \"green\"))"
   ]
  },
  {
   "cell_type": "code",
   "execution_count": 15,
   "id": "hidden-addiction",
   "metadata": {},
   "outputs": [
    {
     "data": {
      "text/html": [
       "0.897435897435897"
      ],
      "text/latex": [
       "0.897435897435897"
      ],
      "text/markdown": [
       "0.897435897435897"
      ],
      "text/plain": [
       "[1] 0.8974359"
      ]
     },
     "metadata": {},
     "output_type": "display_data"
    }
   ],
   "source": [
    "rpart_pruned_predict <- predict(pruned_model, newdata=testSet[-5],type = 'class')\n",
    "mn2 <- mean(rpart_pruned_predict==testSet$Species)\n",
    "mn2"
   ]
  },
  {
   "cell_type": "code",
   "execution_count": 16,
   "id": "promotional-hospital",
   "metadata": {},
   "outputs": [
    {
     "data": {
      "text/plain": [
       "Confusion Matrix and Statistics\n",
       "\n",
       "            Reference\n",
       "Prediction   setosa versicolor virginica\n",
       "  setosa         13          0         0\n",
       "  versicolor      0         12         3\n",
       "  virginica       0          1        10\n",
       "\n",
       "Overall Statistics\n",
       "                                          \n",
       "               Accuracy : 0.8974          \n",
       "                 95% CI : (0.7578, 0.9713)\n",
       "    No Information Rate : 0.3333          \n",
       "    P-Value [Acc > NIR] : 3.435e-13       \n",
       "                                          \n",
       "                  Kappa : 0.8462          \n",
       "                                          \n",
       " Mcnemar's Test P-Value : NA              \n",
       "\n",
       "Statistics by Class:\n",
       "\n",
       "                     Class: setosa Class: versicolor Class: virginica\n",
       "Sensitivity                 1.0000            0.9231           0.7692\n",
       "Specificity                 1.0000            0.8846           0.9615\n",
       "Pos Pred Value              1.0000            0.8000           0.9091\n",
       "Neg Pred Value              1.0000            0.9583           0.8929\n",
       "Prevalence                  0.3333            0.3333           0.3333\n",
       "Detection Rate              0.3333            0.3077           0.2564\n",
       "Detection Prevalence        0.3333            0.3846           0.2821\n",
       "Balanced Accuracy           1.0000            0.9038           0.8654"
      ]
     },
     "metadata": {},
     "output_type": "display_data"
    }
   ],
   "source": [
    "confusionMatrix(rpart_pruned_predict,testSet$Species)"
   ]
  },
  {
   "cell_type": "markdown",
   "id": "black-effort",
   "metadata": {},
   "source": [
    "# RANDOM FOREST\n",
    "\n",
    "\n"
   ]
  },
  {
   "cell_type": "code",
   "execution_count": 17,
   "id": "sharing-daily",
   "metadata": {},
   "outputs": [],
   "source": [
    "# Train/validation split\n",
    "set.seed(3) # for reproducibility\n",
    "idx <- createDataPartition(factor(iris$Species), \n",
    "                           times = 1, # one time\n",
    "                           p = 0.5, # 50% proportion\n",
    "                           list = FALSE)\n",
    "\n",
    "## train set\n",
    "trainset <- iris[idx,] \n",
    "## validation set\n",
    "validation_set <- iris[-idx,] %>% select(-Species)   \n",
    "validation_labels <- iris[-idx,] %>% select(Species)"
   ]
  },
  {
   "cell_type": "code",
   "execution_count": 18,
   "id": "failing-upper",
   "metadata": {},
   "outputs": [
    {
     "name": "stdout",
     "output_type": "stream",
     "text": [
      "+ Fold01: mtry=4 \n",
      "- Fold01: mtry=4 \n",
      "+ Fold02: mtry=4 \n",
      "- Fold02: mtry=4 \n",
      "+ Fold03: mtry=4 \n",
      "- Fold03: mtry=4 \n",
      "+ Fold04: mtry=4 \n",
      "- Fold04: mtry=4 \n",
      "+ Fold05: mtry=4 \n",
      "- Fold05: mtry=4 \n",
      "+ Fold06: mtry=4 \n",
      "- Fold06: mtry=4 \n",
      "+ Fold07: mtry=4 \n",
      "- Fold07: mtry=4 \n",
      "+ Fold08: mtry=4 \n",
      "- Fold08: mtry=4 \n",
      "+ Fold09: mtry=4 \n",
      "- Fold09: mtry=4 \n",
      "+ Fold10: mtry=4 \n",
      "- Fold10: mtry=4 \n",
      "Aggregating results\n",
      "Fitting final model on full training set\n"
     ]
    }
   ],
   "source": [
    "# Now, we are going to use the caret package to train our model.\n",
    "control <- trainControl(method = \"cv\", # cross-validation\n",
    "                        verboseIter = TRUE,\n",
    "                        savePredictions = \"final\",\n",
    "                        classProbs = TRUE) \n",
    "\n",
    "set.seed(1)\n",
    "model <- train(Species ~ ., data = iris,\n",
    "               trControl = control,\n",
    "               maximize = TRUE,\n",
    "               tuneGrid = data.frame(mtry = 4),\n",
    "               method = \"rf\")"
   ]
  },
  {
   "cell_type": "code",
   "execution_count": 19,
   "id": "outdoor-appendix",
   "metadata": {},
   "outputs": [
    {
     "data": {
      "text/plain": [
       "Random Forest \n",
       "\n",
       "150 samples\n",
       "  5 predictor\n",
       "  3 classes: 'setosa', 'versicolor', 'virginica' \n",
       "\n",
       "No pre-processing\n",
       "Resampling: Cross-Validated (10 fold) \n",
       "Summary of sample sizes: 135, 135, 135, 135, 135, 135, ... \n",
       "Resampling results:\n",
       "\n",
       "  Accuracy   Kappa\n",
       "  0.9533333  0.93 \n",
       "\n",
       "Tuning parameter 'mtry' was held constant at a value of 4"
      ]
     },
     "metadata": {},
     "output_type": "display_data"
    }
   ],
   "source": [
    "model"
   ]
  },
  {
   "cell_type": "code",
   "execution_count": 20,
   "id": "loaded-involvement",
   "metadata": {},
   "outputs": [
    {
     "data": {
      "text/plain": [
       "Cross-Validated (10 fold) Confusion Matrix \n",
       "\n",
       "(entries are percentual average cell counts across resamples)\n",
       " \n",
       "            Reference\n",
       "Prediction   setosa versicolor virginica\n",
       "  setosa       33.3        0.0       0.0\n",
       "  versicolor    0.0       31.3       2.7\n",
       "  virginica     0.0        2.0      30.7\n",
       "                            \n",
       " Accuracy (average) : 0.9533\n"
      ]
     },
     "metadata": {},
     "output_type": "display_data"
    }
   ],
   "source": [
    "confusionMatrix.train(model)"
   ]
  },
  {
   "cell_type": "code",
   "execution_count": 21,
   "id": "higher-temple",
   "metadata": {},
   "outputs": [],
   "source": [
    "val_preds <- predict(model, validation_set)"
   ]
  },
  {
   "cell_type": "code",
   "execution_count": 22,
   "id": "stock-argentina",
   "metadata": {},
   "outputs": [
    {
     "data": {
      "text/plain": [
       "Confusion Matrix and Statistics\n",
       "\n",
       "            Reference\n",
       "Prediction   setosa versicolor virginica\n",
       "  setosa         25          0         0\n",
       "  versicolor      0         25         0\n",
       "  virginica       0          0        25\n",
       "\n",
       "Overall Statistics\n",
       "                                    \n",
       "               Accuracy : 1         \n",
       "                 95% CI : (0.952, 1)\n",
       "    No Information Rate : 0.3333    \n",
       "    P-Value [Acc > NIR] : < 2.2e-16 \n",
       "                                    \n",
       "                  Kappa : 1         \n",
       "                                    \n",
       " Mcnemar's Test P-Value : NA        \n",
       "\n",
       "Statistics by Class:\n",
       "\n",
       "                     Class: setosa Class: versicolor Class: virginica\n",
       "Sensitivity                 1.0000            1.0000           1.0000\n",
       "Specificity                 1.0000            1.0000           1.0000\n",
       "Pos Pred Value              1.0000            1.0000           1.0000\n",
       "Neg Pred Value              1.0000            1.0000           1.0000\n",
       "Prevalence                  0.3333            0.3333           0.3333\n",
       "Detection Rate              0.3333            0.3333           0.3333\n",
       "Detection Prevalence        0.3333            0.3333           0.3333\n",
       "Balanced Accuracy           1.0000            1.0000           1.0000"
      ]
     },
     "metadata": {},
     "output_type": "display_data"
    }
   ],
   "source": [
    "confusionMatrix(val_preds, validation_labels$Species)"
   ]
  },
  {
   "cell_type": "code",
   "execution_count": 23,
   "id": "cellular-bowling",
   "metadata": {},
   "outputs": [
    {
     "data": {
      "text/plain": [
       "rf variable importance\n",
       "\n",
       "              Overall\n",
       "Petal.Width  100.0000\n",
       "Petal.Length  84.5522\n",
       "Sepal.Length   1.4577\n",
       "Sepal.Width    0.8123\n",
       "train          0.0000"
      ]
     },
     "metadata": {},
     "output_type": "display_data"
    }
   ],
   "source": [
    "varImp(model)"
   ]
  },
  {
   "cell_type": "code",
   "execution_count": 24,
   "id": "manual-powell",
   "metadata": {},
   "outputs": [
    {
     "name": "stderr",
     "output_type": "stream",
     "text": [
      "randomForest 4.6-14\n",
      "Type rfNews() to see new features/changes/bug fixes.\n",
      "\n",
      "Attaching package: 'randomForest'\n",
      "\n",
      "The following object is masked from 'package:gridExtra':\n",
      "\n",
      "    combine\n",
      "\n",
      "The following object is masked from 'package:dplyr':\n",
      "\n",
      "    combine\n",
      "\n",
      "The following object is masked from 'package:ggplot2':\n",
      "\n",
      "    margin\n",
      "\n"
     ]
    },
    {
     "data": {
      "text/plain": [
       "\n",
       "Call:\n",
       " randomForest(formula = Species ~ ., data = training, ntree = 100,      mtry = 2, importance = TRUE) \n",
       "               Type of random forest: classification\n",
       "                     Number of trees: 100\n",
       "No. of variables tried at each split: 2\n",
       "\n",
       "        OOB estimate of  error rate: 8%\n",
       "Confusion matrix:\n",
       "           setosa versicolor virginica class.error\n",
       "setosa         27          0         0  0.00000000\n",
       "versicolor      0         22         2  0.08333333\n",
       "virginica       0          4        20  0.16666667"
      ]
     },
     "metadata": {},
     "output_type": "display_data"
    }
   ],
   "source": [
    "# Another library for random forest\n",
    "\n",
    "# Set random seed to make results reproducible:\n",
    "set.seed(17)\n",
    "# Calculate the size of each of the data sets:\n",
    "data_set_size <- floor(nrow(iris)/2)\n",
    "# Generate a random sample of \"data_set_size\" indexes\n",
    "indexes <- sample(1:nrow(iris), size = data_set_size)\n",
    "\n",
    "# Assign the data to the correct sets\n",
    "training <- iris[indexes,]\n",
    "validation1 <- iris[-indexes,]\n",
    "\n",
    "#import the package\n",
    "library(randomForest)\n",
    "# Perform training:\n",
    "rf_classifier = randomForest(Species ~ ., data=training, ntree=100, mtry=2, importance=TRUE)\n",
    "rf_classifier"
   ]
  },
  {
   "cell_type": "code",
   "execution_count": 25,
   "id": "allied-lincoln",
   "metadata": {},
   "outputs": [
    {
     "data": {
      "image/png": "[encoded data removed]",
      "text/plain": [
       "plot without title"
      ]
     },
     "metadata": {},
     "output_type": "display_data"
    }
   ],
   "source": [
    "varImpPlot(rf_classifier)"
   ]
  },
  {
   "cell_type": "code",
   "execution_count": 26,
   "id": "distinct-damages",
   "metadata": {},
   "outputs": [
    {
     "data": {
      "text/plain": [
       "            predicted\n",
       "observed     setosa versicolor virginica\n",
       "  setosa         23          0         0\n",
       "  versicolor      0         26         0\n",
       "  virginica       0          3        23"
      ]
     },
     "metadata": {},
     "output_type": "display_data"
    }
   ],
   "source": [
    "# Validation set assessment #1: looking at confusion matrix\n",
    "prediction_for_table <- predict(rf_classifier,validation1[,-5])\n",
    "\n",
    "table(observed=validation1[,5],predicted=prediction_for_table)"
   ]
  },
  {
   "cell_type": "code",
   "execution_count": 27,
   "id": "secret-filename",
   "metadata": {},
   "outputs": [
    {
     "name": "stderr",
     "output_type": "stream",
     "text": [
      "Loading required package: gplots\n",
      "\n",
      "Attaching package: 'gplots'\n",
      "\n",
      "The following object is masked from 'package:stats':\n",
      "\n",
      "    lowess\n",
      "\n"
     ]
    },
    {
     "name": "stdout",
     "output_type": "stream",
     "text": [
      "[[1]]\n",
      "[1] 1\n",
      "\n",
      "[[1]]\n",
      "[1] 0.9952904\n",
      "\n",
      "[[1]]\n",
      "[1] 0.9988226\n",
      "\n"
     ]
    },
    {
     "data": {
      "image/png": "[encoded data removed]",
      "text/plain": [
       "Plot with title \"ROC Curve\""
      ]
     },
     "metadata": {},
     "output_type": "display_data"
    }
   ],
   "source": [
    "# Validation set assessment #2: ROC curves and AUC\n",
    "\n",
    "# Needs to import ROCR package for ROC curve plotting:\n",
    "library(ROCR)\n",
    "\n",
    "# Calculate the probability of new observations belonging to each class\n",
    "# prediction_for_roc_curve will be a matrix with dimensions data_set_size x number_of_classes\n",
    "prediction_for_roc_curve <- predict(rf_classifier,validation1[,-5],type=\"prob\")\n",
    "\n",
    "# Use pretty colours:\n",
    "pretty_colours <- c(\"#F8766D\",\"#00BA38\",\"#619CFF\")\n",
    "# Specify the different classes \n",
    "classes <- levels(validation1$Species)\n",
    "# For each class\n",
    "for (i in 1:3)\n",
    "{\n",
    " # Define which observations belong to class[i]\n",
    " true_values <- ifelse(validation1[,5]==classes[i],1,0)\n",
    " # Assess the performance of classifier for class[i]\n",
    " pred <- prediction(prediction_for_roc_curve[,i],true_values)\n",
    " perf <- performance(pred, \"tpr\", \"fpr\")\n",
    " if (i==1)\n",
    " {\n",
    "     plot(perf,main=\"ROC Curve\",col=pretty_colours[i]) \n",
    " }\n",
    " else\n",
    " {\n",
    "     plot(perf,main=\"ROC Curve\",col=pretty_colours[i],add=TRUE) \n",
    " }\n",
    " # Calculate the AUC and print it to screen\n",
    " auc.perf <- performance(pred, measure = \"auc\")\n",
    " print(auc.perf@y.values)\n",
    "}"
   ]
  }
 ],
 "metadata": {
  "kernelspec": {
   "display_name": "R",
   "language": "R",
   "name": "ir"
  },
  "language_info": {
   "codemirror_mode": "r",
   "file_extension": ".r",
   "mimetype": "text/x-r-source",
   "name": "R",
   "pygments_lexer": "r",
   "version": "3.6.1"
  }
 },
 "nbformat": 4,
 "nbformat_minor": 5
}
