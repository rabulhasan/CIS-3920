{
 "cells": [
  {
   "cell_type": "code",
   "execution_count": 1,
   "id": "6d8c8d77",
   "metadata": {},
   "outputs": [],
   "source": [
    "# load the iris data set\n",
    "library(datasets)\n",
    "data(iris)"
   ]
  },
  {
   "cell_type": "code",
   "execution_count": 2,
   "id": "1b6f85fc",
   "metadata": {},
   "outputs": [
    {
     "data": {
      "text/plain": [
       "  Sepal.Length    Sepal.Width     Petal.Length    Petal.Width   \n",
       " Min.   :4.300   Min.   :2.000   Min.   :1.000   Min.   :0.100  \n",
       " 1st Qu.:5.100   1st Qu.:2.800   1st Qu.:1.600   1st Qu.:0.300  \n",
       " Median :5.800   Median :3.000   Median :4.350   Median :1.300  \n",
       " Mean   :5.843   Mean   :3.057   Mean   :3.758   Mean   :1.199  \n",
       " 3rd Qu.:6.400   3rd Qu.:3.300   3rd Qu.:5.100   3rd Qu.:1.800  \n",
       " Max.   :7.900   Max.   :4.400   Max.   :6.900   Max.   :2.500  \n",
       "       Species  \n",
       " setosa    :50  \n",
       " versicolor:50  \n",
       " virginica :50  \n",
       "                \n",
       "                \n",
       "                "
      ]
     },
     "metadata": {},
     "output_type": "display_data"
    }
   ],
   "source": [
    "#dimension of the dataset.\n",
    "summary(iris)"
   ]
  },
  {
   "cell_type": "code",
   "execution_count": 3,
   "id": "1d46a39e",
   "metadata": {},
   "outputs": [
    {
     "name": "stderr",
     "output_type": "stream",
     "text": [
      "\n",
      "Attaching package: 'dplyr'\n",
      "\n",
      "The following objects are masked from 'package:stats':\n",
      "\n",
      "    filter, lag\n",
      "\n",
      "The following objects are masked from 'package:base':\n",
      "\n",
      "    intersect, setdiff, setequal, union\n",
      "\n"
     ]
    }
   ],
   "source": [
    "# convert all uppercase to lower case\n",
    "names(iris) <- tolower(names(iris))\n",
    "library(dplyr)"
   ]
  },
  {
   "cell_type": "code",
   "execution_count": 4,
   "id": "72c0ce71",
   "metadata": {},
   "outputs": [
    {
     "data": {
      "text/html": [
       "<table>\n",
       "<thead><tr><th scope=col>sepal.length</th><th scope=col>sepal.width</th><th scope=col>petal.length</th><th scope=col>petal.width</th><th scope=col>species</th></tr></thead>\n",
       "<tbody>\n",
       "\t<tr><td>6.3      </td><td>3.3      </td><td>6.0      </td><td>2.5      </td><td>virginica</td></tr>\n",
       "\t<tr><td>5.8      </td><td>2.7      </td><td>5.1      </td><td>1.9      </td><td>virginica</td></tr>\n",
       "\t<tr><td>7.1      </td><td>3.0      </td><td>5.9      </td><td>2.1      </td><td>virginica</td></tr>\n",
       "\t<tr><td>6.3      </td><td>2.9      </td><td>5.6      </td><td>1.8      </td><td>virginica</td></tr>\n",
       "\t<tr><td>6.5      </td><td>3.0      </td><td>5.8      </td><td>2.2      </td><td>virginica</td></tr>\n",
       "\t<tr><td>7.6      </td><td>3.0      </td><td>6.6      </td><td>2.1      </td><td>virginica</td></tr>\n",
       "</tbody>\n",
       "</table>\n"
      ],
      "text/latex": [
       "\\begin{tabular}{r|lllll}\n",
       " sepal.length & sepal.width & petal.length & petal.width & species\\\\\n",
       "\\hline\n",
       "\t 6.3       & 3.3       & 6.0       & 2.5       & virginica\\\\\n",
       "\t 5.8       & 2.7       & 5.1       & 1.9       & virginica\\\\\n",
       "\t 7.1       & 3.0       & 5.9       & 2.1       & virginica\\\\\n",
       "\t 6.3       & 2.9       & 5.6       & 1.8       & virginica\\\\\n",
       "\t 6.5       & 3.0       & 5.8       & 2.2       & virginica\\\\\n",
       "\t 7.6       & 3.0       & 6.6       & 2.1       & virginica\\\\\n",
       "\\end{tabular}\n"
      ],
      "text/markdown": [
       "\n",
       "| sepal.length | sepal.width | petal.length | petal.width | species |\n",
       "|---|---|---|---|---|\n",
       "| 6.3       | 3.3       | 6.0       | 2.5       | virginica |\n",
       "| 5.8       | 2.7       | 5.1       | 1.9       | virginica |\n",
       "| 7.1       | 3.0       | 5.9       | 2.1       | virginica |\n",
       "| 6.3       | 2.9       | 5.6       | 1.8       | virginica |\n",
       "| 6.5       | 3.0       | 5.8       | 2.2       | virginica |\n",
       "| 7.6       | 3.0       | 6.6       | 2.1       | virginica |\n",
       "\n"
      ],
      "text/plain": [
       "  sepal.length sepal.width petal.length petal.width species  \n",
       "1 6.3          3.3         6.0          2.5         virginica\n",
       "2 5.8          2.7         5.1          1.9         virginica\n",
       "3 7.1          3.0         5.9          2.1         virginica\n",
       "4 6.3          2.9         5.6          1.8         virginica\n",
       "5 6.5          3.0         5.8          2.2         virginica\n",
       "6 7.6          3.0         6.6          2.1         virginica"
      ]
     },
     "metadata": {},
     "output_type": "display_data"
    }
   ],
   "source": [
    "# display one of the iris species \n",
    "virginica <- filter(iris, species == \"virginica\")\n",
    "head(virginica) "
   ]
  },
  {
   "cell_type": "code",
   "execution_count": 5,
   "id": "8c2455d9",
   "metadata": {},
   "outputs": [
    {
     "data": {
      "text/html": [
       "<ol class=list-inline>\n",
       "\t<li>150</li>\n",
       "\t<li>5</li>\n",
       "</ol>\n"
      ],
      "text/latex": [
       "\\begin{enumerate*}\n",
       "\\item 150\n",
       "\\item 5\n",
       "\\end{enumerate*}\n"
      ],
      "text/markdown": [
       "1. 150\n",
       "2. 5\n",
       "\n",
       "\n"
      ],
      "text/plain": [
       "[1] 150   5"
      ]
     },
     "metadata": {},
     "output_type": "display_data"
    }
   ],
   "source": [
    "#dimension of the dataset.\n",
    "dim(iris)"
   ]
  },
  {
   "cell_type": "code",
   "execution_count": 6,
   "id": "0986ba83",
   "metadata": {},
   "outputs": [
    {
     "data": {
      "text/html": [
       "<ol class=list-inline>\n",
       "\t<li>'sepal.length'</li>\n",
       "\t<li>'sepal.width'</li>\n",
       "\t<li>'petal.length'</li>\n",
       "\t<li>'petal.width'</li>\n",
       "\t<li>'species'</li>\n",
       "</ol>\n"
      ],
      "text/latex": [
       "\\begin{enumerate*}\n",
       "\\item 'sepal.length'\n",
       "\\item 'sepal.width'\n",
       "\\item 'petal.length'\n",
       "\\item 'petal.width'\n",
       "\\item 'species'\n",
       "\\end{enumerate*}\n"
      ],
      "text/markdown": [
       "1. 'sepal.length'\n",
       "2. 'sepal.width'\n",
       "3. 'petal.length'\n",
       "4. 'petal.width'\n",
       "5. 'species'\n",
       "\n",
       "\n"
      ],
      "text/plain": [
       "[1] \"sepal.length\" \"sepal.width\"  \"petal.length\" \"petal.width\"  \"species\"     "
      ]
     },
     "metadata": {},
     "output_type": "display_data"
    }
   ],
   "source": [
    "#dimension of the dataset.\n",
    "names(iris)"
   ]
  },
  {
   "cell_type": "code",
   "execution_count": null,
   "id": "a1255b68",
   "metadata": {},
   "outputs": [],
   "source": []
  }
 ],
 "metadata": {
  "kernelspec": {
   "display_name": "R",
   "language": "R",
   "name": "ir"
  },
  "language_info": {
   "codemirror_mode": "r",
   "file_extension": ".r",
   "mimetype": "text/x-r-source",
   "name": "R",
   "pygments_lexer": "r",
   "version": "3.6.1"
  }
 },
 "nbformat": 4,
 "nbformat_minor": 5
}
