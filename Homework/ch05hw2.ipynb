{
 "cells": [
  {
   "cell_type": "markdown",
   "id": "066dfbf5",
   "metadata": {},
   "source": [
    "### Fit a logistic regression model that uses income and balance to predict default."
   ]
  },
  {
   "cell_type": "code",
   "execution_count": 1,
   "id": "477d8724",
   "metadata": {},
   "outputs": [],
   "source": [
    "df = read.csv(\"Default.csv\")"
   ]
  },
  {
   "cell_type": "code",
   "execution_count": 2,
   "id": "59841a14",
   "metadata": {},
   "outputs": [
    {
     "data": {
      "text/plain": [
       "\n",
       "Call:\n",
       "glm(formula = default ~ income + balance, family = \"binomial\", \n",
       "    data = df)\n",
       "\n",
       "Deviance Residuals: \n",
       "    Min       1Q   Median       3Q      Max  \n",
       "-2.4725  -0.1444  -0.0574  -0.0211   3.7245  \n",
       "\n",
       "Coefficients:\n",
       "              Estimate Std. Error z value Pr(>|z|)    \n",
       "(Intercept) -1.154e+01  4.348e-01 -26.545  < 2e-16 ***\n",
       "income       2.081e-05  4.985e-06   4.174 2.99e-05 ***\n",
       "balance      5.647e-03  2.274e-04  24.836  < 2e-16 ***\n",
       "---\n",
       "Signif. codes:  0 '***' 0.001 '**' 0.01 '*' 0.05 '.' 0.1 ' ' 1\n",
       "\n",
       "(Dispersion parameter for binomial family taken to be 1)\n",
       "\n",
       "    Null deviance: 2920.6  on 9999  degrees of freedom\n",
       "Residual deviance: 1579.0  on 9997  degrees of freedom\n",
       "AIC: 1585\n",
       "\n",
       "Number of Fisher Scoring iterations: 8\n"
      ]
     },
     "metadata": {},
     "output_type": "display_data"
    }
   ],
   "source": [
    "set.seed(7)\n",
    "fit.glm = glm(default ~ income + balance, data = df, family = \"binomial\")\n",
    "summary(fit.glm)"
   ]
  },
  {
   "cell_type": "markdown",
   "id": "0e9dee67",
   "metadata": {},
   "source": [
    "### Split the sample set into a training set and a validation set."
   ]
  },
  {
   "cell_type": "code",
   "execution_count": 3,
   "id": "df49fe86",
   "metadata": {},
   "outputs": [],
   "source": [
    "train = sample(dim(df)[1], (dim(df)[1])*.5)\n",
    "test = df[-train,]"
   ]
  },
  {
   "cell_type": "markdown",
   "id": "5b891cb4",
   "metadata": {},
   "source": [
    "### Fit a multiple logistic regression model using only the training observations."
   ]
  },
  {
   "cell_type": "code",
   "execution_count": 4,
   "id": "152c90c3",
   "metadata": {},
   "outputs": [],
   "source": [
    "fit.glm = glm(default ~ income + balance, data = test, family = \"binomial\")"
   ]
  },
  {
   "cell_type": "code",
   "execution_count": 5,
   "id": "8965cf6d",
   "metadata": {},
   "outputs": [
    {
     "data": {
      "text/plain": [
       "\n",
       "Call:\n",
       "glm(formula = default ~ income + balance, family = \"binomial\", \n",
       "    data = test)\n",
       "\n",
       "Deviance Residuals: \n",
       "    Min       1Q   Median       3Q      Max  \n",
       "-2.1919  -0.1349  -0.0531  -0.0188   3.7829  \n",
       "\n",
       "Coefficients:\n",
       "              Estimate Std. Error z value Pr(>|z|)    \n",
       "(Intercept) -1.194e+01  6.478e-01 -18.432  < 2e-16 ***\n",
       "income       2.388e-05  7.335e-06   3.256  0.00113 ** \n",
       "balance      5.766e-03  3.372e-04  17.102  < 2e-16 ***\n",
       "---\n",
       "Signif. codes:  0 '***' 0.001 '**' 0.01 '*' 0.05 '.' 0.1 ' ' 1\n",
       "\n",
       "(Dispersion parameter for binomial family taken to be 1)\n",
       "\n",
       "    Null deviance: 1382.01  on 4999  degrees of freedom\n",
       "Residual deviance:  736.93  on 4997  degrees of freedom\n",
       "AIC: 742.93\n",
       "\n",
       "Number of Fisher Scoring iterations: 8\n"
      ]
     },
     "metadata": {},
     "output_type": "display_data"
    }
   ],
   "source": [
    "summary(fit.glm)"
   ]
  },
  {
   "cell_type": "markdown",
   "id": "a2a0772f",
   "metadata": {},
   "source": [
    "### Obtain a prediction of default status for each individual in the validation set by computing the posterior probability of default for that individual, and classifying the individual to the default category if the posterior probability is greater than 0.5."
   ]
  },
  {
   "cell_type": "code",
   "execution_count": 6,
   "id": "b4adc3f0",
   "metadata": {},
   "outputs": [
    {
     "data": {
      "text/html": [
       "0.0234"
      ],
      "text/latex": [
       "0.0234"
      ],
      "text/markdown": [
       "0.0234"
      ],
      "text/plain": [
       "[1] 0.0234"
      ]
     },
     "metadata": {},
     "output_type": "display_data"
    }
   ],
   "source": [
    "glm.probs = predict(fit.glm, newdata = test, type=\"response\")\n",
    "glm.pred=rep(\"No\",5000)\n",
    "glm.pred[glm.probs>0.5] = \"Yes\"\n",
    "mean(glm.pred != test$default)"
   ]
  },
  {
   "cell_type": "markdown",
   "id": "feee12a7",
   "metadata": {},
   "source": [
    "### Repeat the process in (b) three times, using three different splits of the observations into a training set and a validation set. Comment on the results obtained."
   ]
  },
  {
   "cell_type": "code",
   "execution_count": 7,
   "id": "3c8c0a7c",
   "metadata": {},
   "outputs": [
    {
     "name": "stdout",
     "output_type": "stream",
     "text": [
      "[1] 0.0266\n",
      "[1] 0.0276\n",
      "[1] 0.027\n"
     ]
    }
   ],
   "source": [
    "for(i in 1:3) {\n",
    "    train = sample(dim(df)[1], (dim(df)[1])*.5)\n",
    "    test = df[-train,]\n",
    "    fit.glm = glm(default ~ income + balance, data = test, family = \"binomial\")\n",
    "    glm.probs = predict(fit.glm, newdata = test, type=\"response\")\n",
    "    glm.pred=rep(\"No\",length(glm.probs))\n",
    "    glm.pred[glm.probs>0.5] = \"Yes\"\n",
    "    print(mean(glm.pred != test$default))\n",
    "}"
   ]
  },
  {
   "cell_type": "markdown",
   "id": "a6c0258c",
   "metadata": {},
   "source": [
    "### Now consider a logistic regression model that predicts the prob ability of default using income , balance , and a dummy variable for student . Estimate the test error for this model using the validation set approach. Comment on whether or not including a dummy variable for student leads to a reduction in the test error rate."
   ]
  },
  {
   "cell_type": "code",
   "execution_count": 8,
   "id": "bd3662f0",
   "metadata": {},
   "outputs": [
    {
     "name": "stdout",
     "output_type": "stream",
     "text": [
      "[1] 0.0262\n",
      "[1] 0.0292\n",
      "[1] 0.0258\n"
     ]
    }
   ],
   "source": [
    "for(i in 1:3) {\n",
    "    train = sample(dim(df)[1], (dim(df)[1])*.5)\n",
    "    test = df[-train,]\n",
    "    fit.glm = glm(default ~ income + balance + student, data = test, family = \"binomial\")\n",
    "    glm.probs = predict(fit.glm, newdata = test, type=\"response\")\n",
    "    glm.pred=rep(\"No\",length(glm.probs))\n",
    "    glm.pred[glm.probs>0.5] = \"Yes\"\n",
    "    print(mean(glm.pred != test$default))\n",
    "}"
   ]
  },
  {
   "cell_type": "code",
   "execution_count": null,
   "id": "53489fd6",
   "metadata": {},
   "outputs": [],
   "source": []
  }
 ],
 "metadata": {
  "kernelspec": {
   "display_name": "R",
   "language": "R",
   "name": "ir"
  },
  "language_info": {
   "codemirror_mode": "r",
   "file_extension": ".r",
   "mimetype": "text/x-r-source",
   "name": "R",
   "pygments_lexer": "r",
   "version": "3.6.1"
  }
 },
 "nbformat": 4,
 "nbformat_minor": 5
}
