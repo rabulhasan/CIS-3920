{
 "cells": [
  {
   "cell_type": "markdown",
   "id": "97dd9582",
   "metadata": {},
   "source": [
    "## Make a decission tree"
   ]
  },
  {
   "cell_type": "markdown",
   "id": "1152c270",
   "metadata": {},
   "source": [
    "Rabiul Hasan"
   ]
  },
  {
   "cell_type": "code",
   "execution_count": 1,
   "id": "3298d9fa",
   "metadata": {},
   "outputs": [
    {
     "name": "stderr",
     "output_type": "stream",
     "text": [
      "Warning message:\n",
      "\"package 'rpart' was built under R version 3.6.3\""
     ]
    }
   ],
   "source": [
    "library(rpart)\n",
    "library(rpart.plot)"
   ]
  },
  {
   "cell_type": "code",
   "execution_count": 2,
   "id": "04c84129",
   "metadata": {},
   "outputs": [],
   "source": [
    "golf = read.csv(\"playgolf.csv\")"
   ]
  },
  {
   "cell_type": "code",
   "execution_count": 3,
   "id": "6eb1b0ee",
   "metadata": {},
   "outputs": [],
   "source": [
    "smp_size <- floor(0.8 * nrow(golf))\n",
    "set.seed(123)\n",
    "train_ind <- sample(seq_len(nrow(golf)), size = smp_size)\n",
    "\n",
    "train <- golf[train_ind, ]\n",
    "test <- golf[-train_ind, ]"
   ]
  },
  {
   "cell_type": "code",
   "execution_count": 5,
   "id": "39a1292e",
   "metadata": {},
   "outputs": [
    {
     "data": {
      "image/png": "[encoded data removed]",
      "text/plain": [
       "plot without title"
      ]
     },
     "metadata": {},
     "output_type": "display_data"
    }
   ],
   "source": [
    "res <- rpart(Play.Golf~., data = train , \n",
    "             control = rpart.control(minsplit = 1, minbucket = 1,cp = 0.001))\n",
    "rpart.plot(res,type =5, fallen.leaves = T, cex =1)"
   ]
  },
  {
   "cell_type": "markdown",
   "id": "04205066",
   "metadata": {},
   "source": [
    "## Prediction"
   ]
  },
  {
   "cell_type": "code",
   "execution_count": 6,
   "id": "9b2bfe0e",
   "metadata": {},
   "outputs": [],
   "source": [
    "test_set = data.frame(Outlook=\"Sunny\",Temp= \"Cool\",Humidity=\"High\" , Windy= \"True\"  )"
   ]
  },
  {
   "cell_type": "code",
   "execution_count": 9,
   "id": "0af52202",
   "metadata": {},
   "outputs": [
    {
     "data": {
      "text/html": [
       "<strong>1:</strong> No\n",
       "<details>\n",
       "\t<summary style=display:list-item;cursor:pointer>\n",
       "\t\t<strong>Levels</strong>:\n",
       "\t</summary>\n",
       "\t<ol class=list-inline>\n",
       "\t\t<li>'No'</li>\n",
       "\t\t<li>'Yes'</li>\n",
       "\t</ol>\n",
       "</details>"
      ],
      "text/latex": [
       "\\textbf{1:} No\n",
       "\\emph{Levels}: \\begin{enumerate*}\n",
       "\\item 'No'\n",
       "\\item 'Yes'\n",
       "\\end{enumerate*}\n"
      ],
      "text/markdown": [
       "**1:** No\n",
       "**Levels**: 1. 'No'\n",
       "2. 'Yes'\n",
       "\n",
       "\n"
      ],
      "text/plain": [
       " 1 \n",
       "No \n",
       "Levels: No Yes"
      ]
     },
     "metadata": {},
     "output_type": "display_data"
    }
   ],
   "source": [
    "prediction = predict(res, newdata = test_set, type = \"class\")\n",
    "prediction"
   ]
  },
  {
   "cell_type": "code",
   "execution_count": null,
   "id": "861585fd",
   "metadata": {},
   "outputs": [],
   "source": []
  }
 ],
 "metadata": {
  "kernelspec": {
   "display_name": "R",
   "language": "R",
   "name": "ir"
  },
  "language_info": {
   "codemirror_mode": "r",
   "file_extension": ".r",
   "mimetype": "text/x-r-source",
   "name": "R",
   "pygments_lexer": "r",
   "version": "3.6.1"
  }
 },
 "nbformat": 4,
 "nbformat_minor": 5
}
