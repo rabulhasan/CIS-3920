{
 "cells": [
  {
   "cell_type": "code",
   "execution_count": 1,
   "id": "71af233c",
   "metadata": {},
   "outputs": [
    {
     "name": "stderr",
     "output_type": "stream",
     "text": [
      "Warning message:\n",
      "\"package 'rpart' was built under R version 3.6.3\""
     ]
    }
   ],
   "source": [
    "library(rpart)\n",
    "library(rpart.plot)"
   ]
  },
  {
   "cell_type": "code",
   "execution_count": 2,
   "id": "83c13f92",
   "metadata": {},
   "outputs": [],
   "source": [
    "golf = read.csv(\"playgolf.csv\")"
   ]
  },
  {
   "cell_type": "code",
   "execution_count": 3,
   "id": "caf7f47d",
   "metadata": {},
   "outputs": [
    {
     "data": {
      "text/html": [
       "<table>\n",
       "<thead><tr><th scope=col>Outlook</th><th scope=col>Temp</th><th scope=col>Humidity</th><th scope=col>Windy</th><th scope=col>Play.Golf</th></tr></thead>\n",
       "<tbody>\n",
       "\t<tr><td>Rainy   </td><td>Hot     </td><td>High    </td><td>False   </td><td>No      </td></tr>\n",
       "\t<tr><td>Rainy   </td><td>Hot     </td><td>High    </td><td>True    </td><td>No      </td></tr>\n",
       "\t<tr><td>Overcast</td><td>Hot     </td><td>High    </td><td>False   </td><td>Yes     </td></tr>\n",
       "\t<tr><td>Sunny   </td><td>Mild    </td><td>High    </td><td>False   </td><td>Yes     </td></tr>\n",
       "\t<tr><td>Sunny   </td><td>Cool    </td><td>Normal  </td><td>False   </td><td>Yes     </td></tr>\n",
       "\t<tr><td>Sunny   </td><td>Cool    </td><td>Normal  </td><td>True    </td><td>No      </td></tr>\n",
       "</tbody>\n",
       "</table>\n"
      ],
      "text/latex": [
       "\\begin{tabular}{r|lllll}\n",
       " Outlook & Temp & Humidity & Windy & Play.Golf\\\\\n",
       "\\hline\n",
       "\t Rainy    & Hot      & High     & False    & No      \\\\\n",
       "\t Rainy    & Hot      & High     & True     & No      \\\\\n",
       "\t Overcast & Hot      & High     & False    & Yes     \\\\\n",
       "\t Sunny    & Mild     & High     & False    & Yes     \\\\\n",
       "\t Sunny    & Cool     & Normal   & False    & Yes     \\\\\n",
       "\t Sunny    & Cool     & Normal   & True     & No      \\\\\n",
       "\\end{tabular}\n"
      ],
      "text/markdown": [
       "\n",
       "| Outlook | Temp | Humidity | Windy | Play.Golf |\n",
       "|---|---|---|---|---|\n",
       "| Rainy    | Hot      | High     | False    | No       |\n",
       "| Rainy    | Hot      | High     | True     | No       |\n",
       "| Overcast | Hot      | High     | False    | Yes      |\n",
       "| Sunny    | Mild     | High     | False    | Yes      |\n",
       "| Sunny    | Cool     | Normal   | False    | Yes      |\n",
       "| Sunny    | Cool     | Normal   | True     | No       |\n",
       "\n"
      ],
      "text/plain": [
       "  Outlook  Temp Humidity Windy Play.Golf\n",
       "1 Rainy    Hot  High     False No       \n",
       "2 Rainy    Hot  High     True  No       \n",
       "3 Overcast Hot  High     False Yes      \n",
       "4 Sunny    Mild High     False Yes      \n",
       "5 Sunny    Cool Normal   False Yes      \n",
       "6 Sunny    Cool Normal   True  No       "
      ]
     },
     "metadata": {},
     "output_type": "display_data"
    }
   ],
   "source": [
    "head(golf)"
   ]
  },
  {
   "cell_type": "code",
   "execution_count": 4,
   "id": "4e3fc529",
   "metadata": {},
   "outputs": [],
   "source": [
    "nwgolf <- data.frame(as.numeric(golf$Outlook), as.numeric(golf$Humidity), as.numeric(golf$Windy), as.numeric(golf$Temp), golf$Play.Golf)\n",
    "names(nwgolf) <- c(\"Outlook\", \"Humidity\", \"Windy\",\"Temp\",\"PlayOrNot\" )"
   ]
  },
  {
   "cell_type": "code",
   "execution_count": 5,
   "id": "368711e7",
   "metadata": {},
   "outputs": [
    {
     "data": {
      "text/html": [
       "<table>\n",
       "<thead><tr><th scope=col>Outlook</th><th scope=col>Humidity</th><th scope=col>Windy</th><th scope=col>Temp</th><th scope=col>PlayOrNot</th></tr></thead>\n",
       "<tbody>\n",
       "\t<tr><td>2  </td><td>1  </td><td>1  </td><td>2  </td><td>No </td></tr>\n",
       "\t<tr><td>2  </td><td>1  </td><td>2  </td><td>2  </td><td>No </td></tr>\n",
       "\t<tr><td>1  </td><td>1  </td><td>1  </td><td>2  </td><td>Yes</td></tr>\n",
       "\t<tr><td>3  </td><td>1  </td><td>1  </td><td>3  </td><td>Yes</td></tr>\n",
       "\t<tr><td>3  </td><td>2  </td><td>1  </td><td>1  </td><td>Yes</td></tr>\n",
       "\t<tr><td>3  </td><td>2  </td><td>2  </td><td>1  </td><td>No </td></tr>\n",
       "\t<tr><td>1  </td><td>2  </td><td>2  </td><td>1  </td><td>Yes</td></tr>\n",
       "\t<tr><td>2  </td><td>1  </td><td>1  </td><td>3  </td><td>No </td></tr>\n",
       "\t<tr><td>2  </td><td>2  </td><td>1  </td><td>1  </td><td>Yes</td></tr>\n",
       "\t<tr><td>3  </td><td>2  </td><td>1  </td><td>3  </td><td>Yes</td></tr>\n",
       "\t<tr><td>2  </td><td>2  </td><td>2  </td><td>3  </td><td>Yes</td></tr>\n",
       "\t<tr><td>1  </td><td>1  </td><td>2  </td><td>3  </td><td>Yes</td></tr>\n",
       "\t<tr><td>1  </td><td>2  </td><td>1  </td><td>2  </td><td>Yes</td></tr>\n",
       "\t<tr><td>3  </td><td>1  </td><td>2  </td><td>3  </td><td>No </td></tr>\n",
       "</tbody>\n",
       "</table>\n"
      ],
      "text/latex": [
       "\\begin{tabular}{r|lllll}\n",
       " Outlook & Humidity & Windy & Temp & PlayOrNot\\\\\n",
       "\\hline\n",
       "\t 2   & 1   & 1   & 2   & No \\\\\n",
       "\t 2   & 1   & 2   & 2   & No \\\\\n",
       "\t 1   & 1   & 1   & 2   & Yes\\\\\n",
       "\t 3   & 1   & 1   & 3   & Yes\\\\\n",
       "\t 3   & 2   & 1   & 1   & Yes\\\\\n",
       "\t 3   & 2   & 2   & 1   & No \\\\\n",
       "\t 1   & 2   & 2   & 1   & Yes\\\\\n",
       "\t 2   & 1   & 1   & 3   & No \\\\\n",
       "\t 2   & 2   & 1   & 1   & Yes\\\\\n",
       "\t 3   & 2   & 1   & 3   & Yes\\\\\n",
       "\t 2   & 2   & 2   & 3   & Yes\\\\\n",
       "\t 1   & 1   & 2   & 3   & Yes\\\\\n",
       "\t 1   & 2   & 1   & 2   & Yes\\\\\n",
       "\t 3   & 1   & 2   & 3   & No \\\\\n",
       "\\end{tabular}\n"
      ],
      "text/markdown": [
       "\n",
       "| Outlook | Humidity | Windy | Temp | PlayOrNot |\n",
       "|---|---|---|---|---|\n",
       "| 2   | 1   | 1   | 2   | No  |\n",
       "| 2   | 1   | 2   | 2   | No  |\n",
       "| 1   | 1   | 1   | 2   | Yes |\n",
       "| 3   | 1   | 1   | 3   | Yes |\n",
       "| 3   | 2   | 1   | 1   | Yes |\n",
       "| 3   | 2   | 2   | 1   | No  |\n",
       "| 1   | 2   | 2   | 1   | Yes |\n",
       "| 2   | 1   | 1   | 3   | No  |\n",
       "| 2   | 2   | 1   | 1   | Yes |\n",
       "| 3   | 2   | 1   | 3   | Yes |\n",
       "| 2   | 2   | 2   | 3   | Yes |\n",
       "| 1   | 1   | 2   | 3   | Yes |\n",
       "| 1   | 2   | 1   | 2   | Yes |\n",
       "| 3   | 1   | 2   | 3   | No  |\n",
       "\n"
      ],
      "text/plain": [
       "   Outlook Humidity Windy Temp PlayOrNot\n",
       "1  2       1        1     2    No       \n",
       "2  2       1        2     2    No       \n",
       "3  1       1        1     2    Yes      \n",
       "4  3       1        1     3    Yes      \n",
       "5  3       2        1     1    Yes      \n",
       "6  3       2        2     1    No       \n",
       "7  1       2        2     1    Yes      \n",
       "8  2       1        1     3    No       \n",
       "9  2       2        1     1    Yes      \n",
       "10 3       2        1     3    Yes      \n",
       "11 2       2        2     3    Yes      \n",
       "12 1       1        2     3    Yes      \n",
       "13 1       2        1     2    Yes      \n",
       "14 3       1        2     3    No       "
      ]
     },
     "metadata": {},
     "output_type": "display_data"
    }
   ],
   "source": [
    "nwgolf"
   ]
  },
  {
   "cell_type": "code",
   "execution_count": 6,
   "id": "47fc37d9",
   "metadata": {},
   "outputs": [
    {
     "data": {
      "text/html": [
       "<dl class=dl-horizontal>\n",
       "\t<dt>Outlook</dt>\n",
       "\t\t<dd>'numeric'</dd>\n",
       "\t<dt>Humidity</dt>\n",
       "\t\t<dd>'numeric'</dd>\n",
       "\t<dt>Windy</dt>\n",
       "\t\t<dd>'numeric'</dd>\n",
       "\t<dt>Temp</dt>\n",
       "\t\t<dd>'numeric'</dd>\n",
       "\t<dt>PlayOrNot</dt>\n",
       "\t\t<dd>'factor'</dd>\n",
       "</dl>\n"
      ],
      "text/latex": [
       "\\begin{description*}\n",
       "\\item[Outlook] 'numeric'\n",
       "\\item[Humidity] 'numeric'\n",
       "\\item[Windy] 'numeric'\n",
       "\\item[Temp] 'numeric'\n",
       "\\item[PlayOrNot] 'factor'\n",
       "\\end{description*}\n"
      ],
      "text/markdown": [
       "Outlook\n",
       ":   'numeric'Humidity\n",
       ":   'numeric'Windy\n",
       ":   'numeric'Temp\n",
       ":   'numeric'PlayOrNot\n",
       ":   'factor'\n",
       "\n"
      ],
      "text/plain": [
       "  Outlook  Humidity     Windy      Temp PlayOrNot \n",
       "\"numeric\" \"numeric\" \"numeric\" \"numeric\"  \"factor\" "
      ]
     },
     "metadata": {},
     "output_type": "display_data"
    }
   ],
   "source": [
    "sapply(nwgolf,\"class\")"
   ]
  },
  {
   "cell_type": "code",
   "execution_count": 7,
   "id": "9c7f79e9",
   "metadata": {},
   "outputs": [],
   "source": [
    "smp_size <- floor(0.8 * nrow(nwgolf))\n",
    "set.seed(123)\n",
    "train_ind <- sample(seq_len(nrow(nwgolf)), size = smp_size)\n",
    "\n",
    "train <- nwgolf[train_ind, ]\n",
    "test <- nwgolf[-train_ind, ]"
   ]
  },
  {
   "cell_type": "code",
   "execution_count": 8,
   "id": "c5c719d0",
   "metadata": {},
   "outputs": [
    {
     "data": {
      "image/png": "[encoded data removed]",
      "text/plain": [
       "plot without title"
      ]
     },
     "metadata": {},
     "output_type": "display_data"
    }
   ],
   "source": [
    "res <- rpart(PlayOrNot~Outlook+Humidity+Windy+Temp, data = train , \n",
    "             control = rpart.control(minsplit = 1, minbucket = 1,cp = 0.001))\n",
    "rpart.plot(res,type =3, fallen.leaves = F, cex =1)"
   ]
  },
  {
   "cell_type": "markdown",
   "id": "de14a38f",
   "metadata": {},
   "source": [
    "## Professor's Work"
   ]
  },
  {
   "cell_type": "code",
   "execution_count": 9,
   "id": "4c487a71",
   "metadata": {},
   "outputs": [
    {
     "data": {
      "text/plain": [
       "v\n",
       " No Yes \n",
       "  5   9 "
      ]
     },
     "metadata": {},
     "output_type": "display_data"
    }
   ],
   "source": [
    "v <- nwgolf$PlayOrNot\n",
    "\n",
    "table(v)"
   ]
  },
  {
   "cell_type": "code",
   "execution_count": 10,
   "id": "3ef1f9dd",
   "metadata": {},
   "outputs": [
    {
     "name": "stderr",
     "output_type": "stream",
     "text": [
      "Loading required package: lattice\n",
      "Loading required package: ggplot2\n",
      "Registered S3 methods overwritten by 'tibble':\n",
      "  method     from  \n",
      "  format.tbl pillar\n",
      "  print.tbl  pillar\n"
     ]
    }
   ],
   "source": [
    "library(caret)"
   ]
  },
  {
   "cell_type": "code",
   "execution_count": 11,
   "id": "3041bd82",
   "metadata": {},
   "outputs": [
    {
     "data": {
      "text/html": [
       "<ol class=list-inline>\n",
       "\t<li>0.59414202044718</li>\n",
       "\t<li>0.28915973729454</li>\n",
       "\t<li>0.147113647311926</li>\n",
       "\t<li>0.963024232536554</li>\n",
       "\t<li>0.902299045119435</li>\n",
       "\t<li>0.690705278422683</li>\n",
       "\t<li>0.795467417687178</li>\n",
       "\t<li>0.0246136845089495</li>\n",
       "\t<li>0.477795971091837</li>\n",
       "\t<li>0.758459537522867</li>\n",
       "\t<li>0.216407935833558</li>\n",
       "\t<li>0.318181007634848</li>\n",
       "\t<li>0.231625785352662</li>\n",
       "\t<li>0.142800022382289</li>\n",
       "</ol>\n"
      ],
      "text/latex": [
       "\\begin{enumerate*}\n",
       "\\item 0.59414202044718\n",
       "\\item 0.28915973729454\n",
       "\\item 0.147113647311926\n",
       "\\item 0.963024232536554\n",
       "\\item 0.902299045119435\n",
       "\\item 0.690705278422683\n",
       "\\item 0.795467417687178\n",
       "\\item 0.0246136845089495\n",
       "\\item 0.477795971091837\n",
       "\\item 0.758459537522867\n",
       "\\item 0.216407935833558\n",
       "\\item 0.318181007634848\n",
       "\\item 0.231625785352662\n",
       "\\item 0.142800022382289\n",
       "\\end{enumerate*}\n"
      ],
      "text/markdown": [
       "1. 0.59414202044718\n",
       "2. 0.28915973729454\n",
       "3. 0.147113647311926\n",
       "4. 0.963024232536554\n",
       "5. 0.902299045119435\n",
       "6. 0.690705278422683\n",
       "7. 0.795467417687178\n",
       "8. 0.0246136845089495\n",
       "9. 0.477795971091837\n",
       "10. 0.758459537522867\n",
       "11. 0.216407935833558\n",
       "12. 0.318181007634848\n",
       "13. 0.231625785352662\n",
       "14. 0.142800022382289\n",
       "\n",
       "\n"
      ],
      "text/plain": [
       " [1] 0.59414202 0.28915974 0.14711365 0.96302423 0.90229905 0.69070528\n",
       " [7] 0.79546742 0.02461368 0.47779597 0.75845954 0.21640794 0.31818101\n",
       "[13] 0.23162579 0.14280002"
      ]
     },
     "metadata": {},
     "output_type": "display_data"
    }
   ],
   "source": [
    "runif(nrow(nwgolf))"
   ]
  },
  {
   "cell_type": "code",
   "execution_count": 13,
   "id": "644378ff",
   "metadata": {},
   "outputs": [
    {
     "data": {
      "text/html": [
       "6"
      ],
      "text/latex": [
       "6"
      ],
      "text/markdown": [
       "6"
      ],
      "text/plain": [
       "[1] 6"
      ]
     },
     "metadata": {},
     "output_type": "display_data"
    },
    {
     "name": "stdout",
     "output_type": "stream",
     "text": [
      "n= 12 \n",
      "\n",
      "node), split, n, loss, yval, (yprob)\n",
      "      * denotes terminal node\n",
      "\n",
      " 1) root 12 5 Yes (0.4166667 0.5833333)  \n",
      "   2) Humidity< 1.5 6 2 No (0.6666667 0.3333333)  \n",
      "     4) Outlook>=1.5 5 1 No (0.8000000 0.2000000)  \n",
      "       8) Outlook< 2.5 3 0 No (1.0000000 0.0000000) *\n",
      "       9) Outlook>=2.5 2 1 No (0.5000000 0.5000000)  \n",
      "        18) Windy>=1.5 1 0 No (1.0000000 0.0000000) *\n",
      "        19) Windy< 1.5 1 0 Yes (0.0000000 1.0000000) *\n",
      "     5) Outlook< 1.5 1 0 Yes (0.0000000 1.0000000) *\n",
      "   3) Humidity>=1.5 6 1 Yes (0.1666667 0.8333333)  \n",
      "     6) Outlook>=2.5 3 1 Yes (0.3333333 0.6666667)  \n",
      "      12) Windy>=1.5 1 0 No (1.0000000 0.0000000) *\n",
      "      13) Windy< 1.5 2 0 Yes (0.0000000 1.0000000) *\n",
      "     7) Outlook< 2.5 3 0 Yes (0.0000000 1.0000000) *\n"
     ]
    }
   ],
   "source": [
    "nwgolf[, 'train'] <- ifelse(runif(nrow(nwgolf)) < 0.75, 1, 0)\n",
    "\n",
    "trainSet <- nwgolf[nwgolf$train == 1,]\n",
    "testSet <- nwgolf[nwgolf$train == 0, ]\n",
    "\n",
    "\n",
    "\n",
    "trainColNum <- grep('train', names(trainSet))\n",
    "\n",
    "trainColNum\n",
    "\n",
    "\n",
    "\n",
    "trainSet <- trainSet[, -trainColNum]\n",
    "testSet <- testSet[, -trainColNum]\n",
    "\n",
    "\n",
    "treeFit <- rpart(PlayOrNot~.,data=trainSet,method = 'class',\n",
    "                 control = rpart.control(minsplit = 1, \n",
    "                                      minbucket = 1, \n",
    "                                      cp = 0.001))\n",
    "print(treeFit)"
   ]
  },
  {
   "cell_type": "code",
   "execution_count": 14,
   "id": "cbdda6c4",
   "metadata": {},
   "outputs": [
    {
     "data": {
      "image/png": "[encoded data removed]",
      "text/plain": [
       "Plot with title \"\""
      ]
     },
     "metadata": {},
     "output_type": "display_data"
    }
   ],
   "source": [
    "rattle::fancyRpartPlot(treeFit, type = 1, sub = \"\")"
   ]
  },
  {
   "cell_type": "code",
   "execution_count": 15,
   "id": "09be24e8",
   "metadata": {},
   "outputs": [
    {
     "data": {
      "text/plain": [
       "Confusion Matrix and Statistics\n",
       "\n",
       "          Reference\n",
       "Prediction No Yes\n",
       "       No   0   0\n",
       "       Yes  0   2\n",
       "                                     \n",
       "               Accuracy : 1          \n",
       "                 95% CI : (0.1581, 1)\n",
       "    No Information Rate : 1          \n",
       "    P-Value [Acc > NIR] : 1          \n",
       "                                     \n",
       "                  Kappa : NaN        \n",
       "                                     \n",
       " Mcnemar's Test P-Value : NA         \n",
       "                                     \n",
       "            Sensitivity : NA         \n",
       "            Specificity :  1         \n",
       "         Pos Pred Value : NA         \n",
       "         Neg Pred Value : NA         \n",
       "             Prevalence :  0         \n",
       "         Detection Rate :  0         \n",
       "   Detection Prevalence :  0         \n",
       "      Balanced Accuracy : NA         \n",
       "                                     \n",
       "       'Positive' Class : No         \n",
       "                                     "
      ]
     },
     "metadata": {},
     "output_type": "display_data"
    }
   ],
   "source": [
    "Prediction1 <- predict(treeFit,newdata=testSet[-5],type = 'class')\n",
    "confusionMatrix(Prediction1,testSet$PlayOrNot)"
   ]
  },
  {
   "cell_type": "code",
   "execution_count": 16,
   "id": "44b8cd03",
   "metadata": {},
   "outputs": [
    {
     "name": "stdout",
     "output_type": "stream",
     "text": [
      "\n",
      "Classification tree:\n",
      "rpart(formula = PlayOrNot ~ ., data = trainSet, method = \"class\", \n",
      "    control = rpart.control(minsplit = 1, minbucket = 1, cp = 0.001))\n",
      "\n",
      "Variables actually used in tree construction:\n",
      "[1] Humidity Outlook  Windy   \n",
      "\n",
      "Root node error: 5/12 = 0.41667\n",
      "\n",
      "n= 12 \n",
      "\n",
      "     CP nsplit rel error xerror    xstd\n",
      "1 0.400      0       1.0    1.4 0.34157\n",
      "2 0.200      1       0.6    1.8 0.30000\n",
      "3 0.100      2       0.4    1.2 0.34641\n",
      "4 0.001      6       0.0    1.2 0.34641\n"
     ]
    }
   ],
   "source": [
    "printcp(treeFit)"
   ]
  },
  {
   "cell_type": "code",
   "execution_count": 17,
   "id": "3c441ed1",
   "metadata": {},
   "outputs": [
    {
     "data": {
      "image/png": "[encoded data removed]",
      "text/plain": [
       "plot without title"
      ]
     },
     "metadata": {},
     "output_type": "display_data"
    }
   ],
   "source": [
    "opt  <-  which.min(treeFit$cptable[,'xerror'])\n",
    "\n",
    "cp <-  treeFit$cptable[opt, 'CP']\n",
    "pruned_model <-  prune(treeFit,cp)\n",
    "rpart.plot(pruned_model, box.col=c(\"red\", \"green\"))"
   ]
  },
  {
   "cell_type": "code",
   "execution_count": 18,
   "id": "d64b0ed9",
   "metadata": {},
   "outputs": [
    {
     "data": {
      "text/html": [
       "1"
      ],
      "text/latex": [
       "1"
      ],
      "text/markdown": [
       "1"
      ],
      "text/plain": [
       "[1] 1"
      ]
     },
     "metadata": {},
     "output_type": "display_data"
    }
   ],
   "source": [
    "rpart_pruned_predict <- predict(pruned_model, newdata=testSet[-5],type = 'class')\n",
    "mn2 <- mean(rpart_pruned_predict==testSet$PlayOrNot)\n",
    "mn2"
   ]
  },
  {
   "cell_type": "code",
   "execution_count": null,
   "id": "f57454dd",
   "metadata": {},
   "outputs": [],
   "source": []
  }
 ],
 "metadata": {
  "kernelspec": {
   "display_name": "R",
   "language": "R",
   "name": "ir"
  },
  "language_info": {
   "codemirror_mode": "r",
   "file_extension": ".r",
   "mimetype": "text/x-r-source",
   "name": "R",
   "pygments_lexer": "r",
   "version": "3.6.1"
  }
 },
 "nbformat": 4,
 "nbformat_minor": 5
}
