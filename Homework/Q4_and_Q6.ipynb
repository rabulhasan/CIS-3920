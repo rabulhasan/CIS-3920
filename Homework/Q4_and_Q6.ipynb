{
  "nbformat": 4,
  "nbformat_minor": 0,
  "metadata": {
    "colab": {
      "name": "Q4 and Q6.ipynb",
      "provenance": []
    },
    "kernelspec": {
      "name": "ir",
      "display_name": "R"
    },
    "language_info": {
      "name": "R"
    }
  },
  "cells": [
    {
      "cell_type": "markdown",
      "source": [
        "Rabiul Hasan\n",
        "\n",
        ">\n",
        "\n",
        "\n",
        "rabiul.hasan@baruchmail.cuny.edu"
      ],
      "metadata": {
        "id": "M942GTjptqu6"
      }
    },
    {
      "cell_type": "markdown",
      "source": [
        "### Q4. You will now think of some real-life applications for statistical learning.\n",
        "\n",
        "*   Describe three real-life applications in which classification might be useful. Describe the response, as well as the predictors. Is the goal of each application inference or prediction? Explain your answer.\n",
        "\n",
        "*  Describe three real-life applications in which regression might be useful. Describe the response, as well as the predictors. Is the goal of each application inference or prediction? Explain your answer.\n",
        "*  Describe three real-life applications in which cluster analysis might be useful."
      ],
      "metadata": {
        "id": "L68kAzX0S1cc"
      }
    },
    {
      "cell_type": "markdown",
      "source": [
        "##classification\n",
        "\n",
        "\n",
        "\n",
        "1.   *Classification* might be useful to find answer about the advertisement campaign about a movie going to be successfull or not. In this example the response would be either success or Failure. The predictors might be: producer,actor, running time, genres etc. The goal of application is prediction. \n",
        "\n",
        "2.   Another exmple of *classification* is manufacturing a new drinks for the consumer. In this example response would be: the cunsumer would like it or not. the predictors might be: the teast, season etc. the goal of the application is prediction. \n",
        "\n",
        "3. The third example of *classicfication* would be credit card fraud detection for any credit card use transcition. In the example the response would be: Yes or not. The predictors might be the location, use limit etc. The goal of the application is prediction. \n",
        "\n"
      ],
      "metadata": {
        "id": "tazaaIOjrY64"
      }
    },
    {
      "cell_type": "markdown",
      "source": [
        "## Regression\n",
        "\n",
        " 1. To predicting a housing price *regression* method would be useful. The response would be the average price for any house in any given area is (predtictable amount). Predictor: transportation, school location, crime rate etc. the goal is Inference. \n",
        "\n",
        " 2. Another example of the *regression* is the find Gas mileage for a new car design. The response is: If we change or modify certain type of parameter the car will go certain miles. the predictors: fuel types, number of cylinders, engine horse power etc. the goal is Inference.\n",
        "\n",
        "\n",
        " 3. Predicting a stock price is bulls or burish using previous data might be example of *regression*. The response might be: profit or loss. And the goal of the application is inference.   "
      ],
      "metadata": {
        "id": "QbU0Y4WIw-_B"
      }
    },
    {
      "cell_type": "markdown",
      "source": [
        "## Cluster Analysis\n",
        "\n",
        "1. Based on a movie content, violance or language to cetagories a movie into R, PG-13, or PG is an example of *cluster analysis*.  The response would be the movie rating catagory. Goal is Prediction.\n",
        "\n",
        "2. Based on marks in a subject, grading student is another example of *cluster analysis*. Here is the responce is the given students grade. the goal is Prediction. \n",
        "\n",
        "3. Based on the income lavel, making a division of average working population for the taxasion purpose is another example of *cluster analysis* Here is the response is The given person is fall into this income lavel. Predictors would be: income, size of company, number of dependent etc. The goal is predicton."
      ],
      "metadata": {
        "id": "r7gc-18I2DVb"
      }
    },
    {
      "cell_type": "markdown",
      "source": [
        "### Q6. Describe the differences between a parametric and a non-parametric statistical learning approach. What are the advantages of a parametric approach to regression or classification (as opposed to a nonparametric approach)? What are its disadvantages?"
      ],
      "metadata": {
        "id": "Y0RUftsWSzic"
      }
    },
    {
      "cell_type": "markdown",
      "source": [
        "Parametric statistical learning approach estimate a shape for *f*. \n",
        "The advantge: Not requiers a very large sample to accurately estiamate *f* unlike the non-parametric methods. \n",
        "\n",
        "non-parametric methods do not make explicit assumptions about the functional form of *f*. The advantage: by avoiding the\n",
        "assumption of a particular functional form for *f*, they have the potential\n",
        "to accurately fit a wider range of possible shapes for *f*."
      ],
      "metadata": {
        "id": "DECf5eBG5q3q"
      }
    }
  ]
}