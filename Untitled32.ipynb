{
  "nbformat": 4,
  "nbformat_minor": 0,
  "metadata": {
    "colab": {
      "provenance": [],
      "authorship_tag": "ABX9TyN9/xFq4Ov3L8OklEx763lz",
      "include_colab_link": true
    },
    "kernelspec": {
      "name": "python3",
      "display_name": "Python 3"
    },
    "language_info": {
      "name": "python"
    }
  },
  "cells": [
    {
      "cell_type": "markdown",
      "metadata": {
        "id": "view-in-github",
        "colab_type": "text"
      },
      "source": [
        "<a href=\"https://colab.research.google.com/github/rabulhasan/CIS-3920/blob/main/Untitled32.ipynb\" target=\"_parent\"><img src=\"https://colab.research.google.com/assets/colab-badge.svg\" alt=\"Open In Colab\"/></a>"
      ]
    },
    {
      "cell_type": "code",
      "source": [
        "land = 0\n",
        "air = 0\n",
        "water = 0\n",
        "tamp = input()\n",
        "while tamp !=\"xxxxx\":\n",
        "\tif tamp ==\"land\":\t\n",
        "\t\tland += 1\n",
        "\telif tamp ==\"air\":\n",
        "\t\tair += 1\n",
        "\telif tamp ==\"water\":\n",
        "\t\twater += 1\n",
        "\ttamp=input()\n",
        "print(\"land:\"+str(land))\n",
        "print(\"air:\"+str(air))\n",
        "print(\"water:\"+str(water))"
      ],
      "metadata": {
        "colab": {
          "base_uri": "https://localhost:8080/"
        },
        "id": "DXbDV4dyO-Jk",
        "outputId": "b4851846-3d21-4146-f50f-d36c52a48108"
      },
      "execution_count": 1,
      "outputs": [
        {
          "output_type": "stream",
          "name": "stdout",
          "text": [
            "land\n",
            "air\n",
            "ater\n",
            "water\n",
            "air\n",
            "water\n",
            "xxxxx\n",
            "land:1\n",
            "air:2\n",
            "water:2\n"
          ]
        }
      ]
    }
  ]
}